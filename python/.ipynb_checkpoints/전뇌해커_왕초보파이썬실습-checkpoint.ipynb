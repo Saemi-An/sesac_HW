{
 "cells": [
  {
   "cell_type": "markdown",
   "id": "baaebd65",
   "metadata": {},
   "source": [
    "1.1.1"
   ]
  },
  {
   "cell_type": "code",
   "execution_count": 1,
   "id": "0c77e435",
   "metadata": {},
   "outputs": [],
   "source": [
    "# 8%2(2+2) = 8 % 2 * 4 = 16\n",
    "\n",
    "# python : 8 // 2 * (2 + 2) = 4 * 4 = 16"
   ]
  },
  {
   "cell_type": "code",
   "execution_count": 4,
   "id": "7dbfe3be",
   "metadata": {},
   "outputs": [
    {
     "name": "stdout",
     "output_type": "stream",
     "text": [
      "6.0\n",
      "0\n",
      "6\n"
     ]
    }
   ],
   "source": [
    "print(12/2)  # / 나누기\n",
    "print(8%2)   # % 나머지\n",
    "print(12//2) # // 몫"
   ]
  },
  {
   "cell_type": "code",
   "execution_count": 5,
   "id": "db476f64",
   "metadata": {},
   "outputs": [
    {
     "name": "stdout",
     "output_type": "stream",
     "text": [
      "16\n"
     ]
    }
   ],
   "source": [
    "print(8 // 2 * (2 + 2))"
   ]
  },
  {
   "cell_type": "markdown",
   "id": "5efb72d1",
   "metadata": {},
   "source": [
    "1.1.2"
   ]
  },
  {
   "cell_type": "code",
   "execution_count": 6,
   "id": "ddb29389",
   "metadata": {},
   "outputs": [
    {
     "name": "stdout",
     "output_type": "stream",
     "text": [
      "813.9410298049853\n"
     ]
    }
   ],
   "source": [
    "# c = 루트{a(2) + b(2)}\n",
    "\n",
    "import math\n",
    "\n",
    "a = 550\n",
    "b = 600\n",
    "\n",
    "c = math.sqrt(math.pow(a, 2) + math.pow(b, 2))\n",
    "print(c)"
   ]
  },
  {
   "cell_type": "code",
   "execution_count": 7,
   "id": "6bd0785b",
   "metadata": {},
   "outputs": [],
   "source": [
    "# math.sqrt() : x를 거듭 곱하여 y가 되었을 때, x를 y에 대하여 이르는 말."
   ]
  },
  {
   "cell_type": "markdown",
   "id": "54eb9ce3",
   "metadata": {},
   "source": [
    "1.2.1"
   ]
  },
  {
   "cell_type": "code",
   "execution_count": 6,
   "id": "d5a15a66",
   "metadata": {},
   "outputs": [
    {
     "name": "stdout",
     "output_type": "stream",
     "text": [
      "88000\n",
      "88 KB\n",
      "88.0 KB\n"
     ]
    }
   ],
   "source": [
    "# t = 800kb/1s, 110s >> file size, what MB?\n",
    "\n",
    "print(800 * 110)\n",
    "88000 / 1000\n",
    "\n",
    "print(88,'KB')\n",
    "\n",
    "# ANSWER\n",
    "\n",
    "r = 800\n",
    "t = 110\n",
    "\n",
    "file_size = r * t / 1000\n",
    "print(file_size, 'KB')"
   ]
  },
  {
   "cell_type": "markdown",
   "id": "29a8a114",
   "metadata": {},
   "source": [
    "1.6.1."
   ]
  },
  {
   "cell_type": "code",
   "execution_count": 11,
   "id": "d6a1bc48",
   "metadata": {},
   "outputs": [
    {
     "name": "stdout",
     "output_type": "stream",
     "text": [
      "Pls enter: 5\n",
      "25\n",
      "25\n"
     ]
    }
   ],
   "source": [
    "x = int(input('Pls enter: '))\n",
    "print(x**2)\n",
    "print(pow(x,2))"
   ]
  },
  {
   "cell_type": "markdown",
   "id": "3a88be32",
   "metadata": {},
   "source": [
    "2.1.1"
   ]
  },
  {
   "cell_type": "code",
   "execution_count": null,
   "id": "3e71e03c",
   "metadata": {},
   "outputs": [],
   "source": [
    "x = int(input('pls enter: '))\n",
    "y = 0\n",
    "y += \n",
    "while  "
   ]
  }
 ],
 "metadata": {
  "kernelspec": {
   "display_name": "Python 3 (ipykernel)",
   "language": "python",
   "name": "python3"
  },
  "language_info": {
   "codemirror_mode": {
    "name": "ipython",
    "version": 3
   },
   "file_extension": ".py",
   "mimetype": "text/x-python",
   "name": "python",
   "nbconvert_exporter": "python",
   "pygments_lexer": "ipython3",
   "version": "3.11.7"
  }
 },
 "nbformat": 4,
 "nbformat_minor": 5
}
