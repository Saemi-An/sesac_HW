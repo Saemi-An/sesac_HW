{
 "cells": [
  {
   "cell_type": "code",
   "execution_count": 4,
   "id": "3d237322",
   "metadata": {},
   "outputs": [
    {
     "name": "stdout",
     "output_type": "stream",
     "text": [
      "pls enter: Saemi 30\n",
      "['Saemi', '30']\n"
     ]
    }
   ],
   "source": [
    "test_dict = [\n",
    "    {'name' : 'Song',\n",
    "    'age' : 32,\n",
    "    'housing' : 'Yes',\n",
    "    'car' : 'Carnival'},\n",
    "\n",
    "    {'name' : 'Saemi',\n",
    "    'age' : 28,\n",
    "    'housing' : 'No',\n",
    "    'car' : 'No'},\n",
    "\n",
    "    {'name' : 'Sun-a',\n",
    "    'age' : 28,\n",
    "    'housing' : 'Yes',\n",
    "    'car' : 'K3'},\n",
    "\n",
    "    {'name' : 'Kim',\n",
    "    'age' : 54,\n",
    "    'housing' : 'Yes',\n",
    "    'car' : 'Genesis-G70'},\n",
    "\n",
    "    {'name' : 'Kim',\n",
    "    'age' : 20,\n",
    "    'housing' : 'Yes',\n",
    "    'car' : 'BMW-IX'},\n",
    "]\n",
    "\n",
    "user_input = input('pls enter: ')\n",
    "search_lst = user_input.split(' ')\n",
    "print(search_lst)"
   ]
  },
  {
   "cell_type": "code",
   "execution_count": 5,
   "id": "cb3eb96f",
   "metadata": {},
   "outputs": [
    {
     "data": {
      "text/plain": [
       "'32'"
      ]
     },
     "execution_count": 5,
     "metadata": {},
     "output_type": "execute_result"
    }
   ],
   "source": [
    "'32'.upper()"
   ]
  },
  {
   "cell_type": "code",
   "execution_count": null,
   "id": "1f256330",
   "metadata": {},
   "outputs": [],
   "source": []
  }
 ],
 "metadata": {
  "kernelspec": {
   "display_name": "Python 3 (ipykernel)",
   "language": "python",
   "name": "python3"
  },
  "language_info": {
   "codemirror_mode": {
    "name": "ipython",
    "version": 3
   },
   "file_extension": ".py",
   "mimetype": "text/x-python",
   "name": "python",
   "nbconvert_exporter": "python",
   "pygments_lexer": "ipython3",
   "version": "3.11.7"
  }
 },
 "nbformat": 4,
 "nbformat_minor": 5
}
