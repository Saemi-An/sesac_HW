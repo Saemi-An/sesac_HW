{
 "cells": [
  {
   "cell_type": "code",
   "execution_count": 27,
   "id": "488e3d19",
   "metadata": {},
   "outputs": [],
   "source": [
    "users = [\n",
    "    {\n",
    "        \"name\": \"Alice\",\n",
    "        \"age\": 25,\n",
    "        \"location\": \"Seoul\",\n",
    "        \"car\": \"BMW\"\n",
    "    },\n",
    "    {\n",
    "        \"name\": \"Alice\",\n",
    "        \"age\": 40,\n",
    "        \"location\": \"Jeju\",\n",
    "        \"car\": \"Honda\"\n",
    "    },\n",
    "    {\n",
    "        \"name\": \"Bob\",\n",
    "        \"age\": 30,\n",
    "        \"location\": \"Busan\",\n",
    "        \"car\": \"Mercedes\"\n",
    "    },\n",
    "    {   \n",
    "        \"name\": \"Charlie\",\n",
    "        \"age\": 35,\n",
    "        \"location\": \"Daegu\",\n",
    "        \"car\": \"Audi\"\n",
    "    },\n",
    "]"
   ]
  },
  {
   "cell_type": "code",
   "execution_count": 36,
   "id": "69e8315a",
   "metadata": {},
   "outputs": [
    {
     "data": {
      "text/plain": [
       "[{'name': 'Alice', 'age': 25, 'location': 'Seoul', 'car': 'BMW'}]"
      ]
     },
     "execution_count": 36,
     "metadata": {},
     "output_type": "execute_result"
    }
   ],
   "source": [
    "result = []\n",
    "\n",
    "def lookup_user(name): \n",
    "    for i in users:\n",
    "        if i.get('name').lower() == name.lower():\n",
    "            result.append(i)\n",
    "            \n",
    "return result\n",
    "        \n",
    "lookup_user('alice')"
   ]
  },
  {
   "cell_type": "code",
   "execution_count": null,
   "id": "880d60d1",
   "metadata": {},
   "outputs": [],
   "source": []
  }
 ],
 "metadata": {
  "kernelspec": {
   "display_name": "Python 3 (ipykernel)",
   "language": "python",
   "name": "python3"
  },
  "language_info": {
   "codemirror_mode": {
    "name": "ipython",
    "version": 3
   },
   "file_extension": ".py",
   "mimetype": "text/x-python",
   "name": "python",
   "nbconvert_exporter": "python",
   "pygments_lexer": "ipython3",
   "version": "3.11.7"
  }
 },
 "nbformat": 4,
 "nbformat_minor": 5
}
