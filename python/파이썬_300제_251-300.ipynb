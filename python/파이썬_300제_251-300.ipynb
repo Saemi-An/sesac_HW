{
 "cells": [
  {
   "cell_type": "markdown",
   "id": "b2769e48",
   "metadata": {},
   "source": [
    "# 파이썬 클래스 251 ~ 260"
   ]
  },
  {
   "cell_type": "markdown",
   "id": "27a85878",
   "metadata": {},
   "source": [
    "251."
   ]
  },
  {
   "cell_type": "code",
   "execution_count": 2,
   "id": "ec060cb9",
   "metadata": {},
   "outputs": [],
   "source": [
    "# class - 일종의 설계도. 하나의 타입을 정의하는 방법. 클래스와 관련된 데이터와 함수를 한데 모아 정의해둔다.\n",
    "\n",
    "# object - 클래스로 만들어진 결과물"
   ]
  },
  {
   "cell_type": "markdown",
   "id": "4e44fdaf",
   "metadata": {},
   "source": [
    "252."
   ]
  },
  {
   "cell_type": "code",
   "execution_count": 3,
   "id": "18e6c077",
   "metadata": {},
   "outputs": [],
   "source": [
    "class Human:\n",
    "    pass"
   ]
  },
  {
   "cell_type": "markdown",
   "id": "b1b15642",
   "metadata": {},
   "source": [
    "253."
   ]
  },
  {
   "cell_type": "code",
   "execution_count": 5,
   "id": "25c3b942",
   "metadata": {},
   "outputs": [],
   "source": [
    "class Human:\n",
    "    pass\n",
    "\n",
    "areum = Human()   # 휴먼 클래스에서 인스턴스(오브젝트) 생성, 변수로 바인딩"
   ]
  },
  {
   "cell_type": "markdown",
   "id": "256bd84d",
   "metadata": {},
   "source": [
    "254. "
   ]
  },
  {
   "cell_type": "code",
   "execution_count": 9,
   "id": "5931e298",
   "metadata": {},
   "outputs": [
    {
     "ename": "TypeError",
     "evalue": "Human.__init__() takes 0 positional arguments but 1 was given",
     "output_type": "error",
     "traceback": [
      "\u001b[0;31m---------------------------------------------------------------------------\u001b[0m",
      "\u001b[0;31mTypeError\u001b[0m                                 Traceback (most recent call last)",
      "Cell \u001b[0;32mIn[9], line 5\u001b[0m\n\u001b[1;32m      2\u001b[0m     \u001b[38;5;28;01mdef\u001b[39;00m \u001b[38;5;21m__init__\u001b[39m():\n\u001b[1;32m      3\u001b[0m         \u001b[38;5;28mprint\u001b[39m(\u001b[38;5;124m'\u001b[39m\u001b[38;5;124m응애응애\u001b[39m\u001b[38;5;124m'\u001b[39m)\n\u001b[0;32m----> 5\u001b[0m areum \u001b[38;5;241m=\u001b[39m Human()\n",
      "\u001b[0;31mTypeError\u001b[0m: Human.__init__() takes 0 positional arguments but 1 was given"
     ]
    }
   ],
   "source": [
    "class Human:\n",
    "    def __init__():   # self 를 안 써줘서 나타나느 에러 ?????\n",
    "        print('응애응애')\n",
    "        \n",
    "areum = Human()"
   ]
  },
  {
   "cell_type": "code",
   "execution_count": 11,
   "id": "568e52f7",
   "metadata": {},
   "outputs": [
    {
     "name": "stdout",
     "output_type": "stream",
     "text": [
      "응애응애\n"
     ]
    }
   ],
   "source": [
    "class Human:\n",
    "    def __init__(self):   # 컴파일러 동작 원리, 메모리에 휴먼클래스에 객체공간이 생성될 때의 원리에 대한 이해가 필요함\n",
    "        print('응애응애')\n",
    "        \n",
    "areum = Human()"
   ]
  },
  {
   "cell_type": "markdown",
   "id": "420386c9",
   "metadata": {},
   "source": [
    "255."
   ]
  },
  {
   "cell_type": "code",
   "execution_count": 28,
   "id": "3478fe38",
   "metadata": {},
   "outputs": [
    {
     "name": "stdout",
     "output_type": "stream",
     "text": [
      "25\n"
     ]
    }
   ],
   "source": [
    "class Human:\n",
    "    def __init__(self, name, age, gender):\n",
    "        self.name = name\n",
    "        self.age = age\n",
    "        self.gender = gender\n",
    "        \n",
    "    def who(self):\n",
    "        print(f'이름: {self.name}, 나이: {self.age}, 성별: {self.gender}')\n",
    "        \n",
    "    def setInfo(self, name, age, gender):\n",
    "        self.name = name\n",
    "        self.age = age\n",
    "        self.gender = gender\n",
    "    \n",
    "    def areum(self):\n",
    "        print('나의 죽음을 알리지 말라')\n",
    "        \n",
    "        \n",
    "areum = Human('조아름', 25, '여자')\n",
    "print(areum.age)"
   ]
  },
  {
   "cell_type": "markdown",
   "id": "5ba2aae1",
   "metadata": {},
   "source": [
    "256."
   ]
  },
  {
   "cell_type": "code",
   "execution_count": 17,
   "id": "78e31d3c",
   "metadata": {},
   "outputs": [
    {
     "name": "stdout",
     "output_type": "stream",
     "text": [
      "이름: 조아름, 나이: 25, 성별: 여자\n"
     ]
    }
   ],
   "source": [
    "print(f'이름: {areum.name}, 나이: {areum.age}, 성별: {areum.gender}')"
   ]
  },
  {
   "cell_type": "markdown",
   "id": "04a6f363",
   "metadata": {},
   "source": [
    "257."
   ]
  },
  {
   "cell_type": "code",
   "execution_count": 18,
   "id": "07aaded2",
   "metadata": {},
   "outputs": [
    {
     "name": "stdout",
     "output_type": "stream",
     "text": [
      "이름: 조아름, 나이: 25, 성별: 여자\n"
     ]
    }
   ],
   "source": [
    "areum.who()"
   ]
  },
  {
   "cell_type": "markdown",
   "id": "27f5c074",
   "metadata": {},
   "source": [
    "258."
   ]
  },
  {
   "cell_type": "code",
   "execution_count": 26,
   "id": "4b373c96",
   "metadata": {},
   "outputs": [
    {
     "name": "stdout",
     "output_type": "stream",
     "text": [
      "이름: Unknown, 나이: 0, 성별: Unknown\n",
      "이름: 아름, 나이: 25, 성별: 여자\n"
     ]
    }
   ],
   "source": [
    "areum = Human('Unknown', 0, 'Unknown')\n",
    "areum.who()\n",
    "m\n",
    "areum.setInfo('아름', 25, '여자')\n",
    "areum.who()\n"
   ]
  },
  {
   "cell_type": "markdown",
   "id": "98950ed0",
   "metadata": {},
   "source": [
    "# 259. 소멸자 - 클래스 내에 __del__()로 정의된 함수. 객체를 del 키워드로 죽일때 실행됨"
   ]
  },
  {
   "cell_type": "code",
   "execution_count": 30,
   "id": "19df08f3",
   "metadata": {},
   "outputs": [],
   "source": [
    "class Human:\n",
    "    def __init__(self, name, age, gender):\n",
    "        self.name = name\n",
    "        self.age = age\n",
    "        self.gender = gender\n",
    "        \n",
    "    def who(self):\n",
    "        print(f'이름: {self.name}, 나이: {self.age}, 성별: {self.gender}')\n",
    "        \n",
    "    def setInfo(self, name, age, gender):\n",
    "        self.name = name\n",
    "        self.age = age\n",
    "        self.gender = gender\n",
    "    \n",
    "    def __del__(self):\n",
    "        print('나의 죽음을 알리지 말라')\n",
    "        \n",
    "        \n",
    "areum = Human('조아름', 25, '여자')"
   ]
  },
  {
   "cell_type": "code",
   "execution_count": 31,
   "id": "a5a4045e",
   "metadata": {},
   "outputs": [
    {
     "name": "stdout",
     "output_type": "stream",
     "text": [
      "나의 죽음을 알리지 말라\n"
     ]
    }
   ],
   "source": [
    "del areum"
   ]
  },
  {
   "cell_type": "markdown",
   "id": "ef230458",
   "metadata": {},
   "source": [
    "# 260. 오늘 질문한 내용."
   ]
  },
  {
   "cell_type": "code",
   "execution_count": 33,
   "id": "dc491eae",
   "metadata": {},
   "outputs": [
    {
     "ename": "NameError",
     "evalue": "name 'pystock' is not defined",
     "output_type": "error",
     "traceback": [
      "\u001b[0;31m---------------------------------------------------------------------------\u001b[0m",
      "\u001b[0;31mNameError\u001b[0m                                 Traceback (most recent call last)",
      "Cell \u001b[0;32mIn[33], line 6\u001b[0m\n\u001b[1;32m      3\u001b[0m         \u001b[38;5;28mprint\u001b[39m(\u001b[38;5;124m\"\u001b[39m\u001b[38;5;124mOh my god\u001b[39m\u001b[38;5;124m\"\u001b[39m)\n\u001b[1;32m      5\u001b[0m myStock \u001b[38;5;241m=\u001b[39m OMG()\n\u001b[0;32m----> 6\u001b[0m pystock\u001b[38;5;241m.\u001b[39mprint()\n",
      "\u001b[0;31mNameError\u001b[0m: name 'pystock' is not defined"
     ]
    }
   ],
   "source": [
    "class OMG : \n",
    "    def print() :   # self 없음\n",
    "        print(\"Oh my god\")\n",
    "\n",
    "myStock = OMG()\n",
    "mystock.print()"
   ]
  },
  {
   "cell_type": "markdown",
   "id": "0ff5ca7d",
   "metadata": {},
   "source": [
    "261."
   ]
  },
  {
   "cell_type": "code",
   "execution_count": 34,
   "id": "9fd9d772",
   "metadata": {},
   "outputs": [],
   "source": [
    "class Stock():\n",
    "    pass"
   ]
  },
  {
   "cell_type": "markdown",
   "id": "730fbf0e",
   "metadata": {},
   "source": [
    "262."
   ]
  },
  {
   "cell_type": "code",
   "execution_count": 37,
   "id": "d2af67a7",
   "metadata": {},
   "outputs": [],
   "source": [
    "class Stock:\n",
    "    def __init__(self, name, code):\n",
    "        self.name = name\n",
    "        self.code = code\n",
    "    \n",
    "samsung = Stock('삼성전자', '005930')"
   ]
  },
  {
   "cell_type": "markdown",
   "id": "805f5669",
   "metadata": {},
   "source": [
    "263."
   ]
  },
  {
   "cell_type": "code",
   "execution_count": 44,
   "id": "09f0632b",
   "metadata": {},
   "outputs": [],
   "source": [
    "class Stock:\n",
    "    def __init__(self, name, code):\n",
    "        self.name = name\n",
    "        self.code = code\n",
    "        \n",
    "    def set_name(self, name):\n",
    "        self.name = name\n",
    "        print(self.name)\n",
    "    \n",
    "a = Stock(None, None)"
   ]
  },
  {
   "cell_type": "code",
   "execution_count": 45,
   "id": "873fe37c",
   "metadata": {},
   "outputs": [
    {
     "name": "stdout",
     "output_type": "stream",
     "text": [
      "삼성전자\n"
     ]
    }
   ],
   "source": [
    "a.set_name('삼성전자')"
   ]
  },
  {
   "cell_type": "markdown",
   "id": "05a124ae",
   "metadata": {},
   "source": [
    "264."
   ]
  },
  {
   "cell_type": "code",
   "execution_count": 46,
   "id": "4fa677ba",
   "metadata": {},
   "outputs": [
    {
     "name": "stdout",
     "output_type": "stream",
     "text": [
      "005930\n"
     ]
    }
   ],
   "source": [
    "class Stock:\n",
    "    def __init__(self, name, code):\n",
    "        self.name = name\n",
    "        self.code = code\n",
    "        \n",
    "    def set_name(self, name):\n",
    "        self.name = name\n",
    "        print(self.name)\n",
    "        \n",
    "    def set_code(self, code):\n",
    "        self.code = code\n",
    "        print(self.code)\n",
    "    \n",
    "a = Stock(None, None)\n",
    "a.set_code('005930')"
   ]
  },
  {
   "cell_type": "markdown",
   "id": "e5de8735",
   "metadata": {},
   "source": [
    "265."
   ]
  },
  {
   "cell_type": "code",
   "execution_count": 47,
   "id": "7289b248",
   "metadata": {},
   "outputs": [],
   "source": [
    "class Stock:\n",
    "    def __init__(self, name, code):\n",
    "        self.name = name\n",
    "        self.code = code\n",
    "        \n",
    "    def set_name(self, name):\n",
    "        self.name = name\n",
    "        print(self.name)\n",
    "        \n",
    "    def set_code(self, code):\n",
    "        self.code = code\n",
    "        print(self.code)\n",
    "        \n",
    "    def get_name(self):\n",
    "        print(self.name)\n",
    "        \n",
    "    def get_code(self):\n",
    "        print(self.code)\n",
    "    \n",
    "samsung = Stock('삼성전자', '005930')"
   ]
  },
  {
   "cell_type": "code",
   "execution_count": 48,
   "id": "daaa0076",
   "metadata": {},
   "outputs": [
    {
     "name": "stdout",
     "output_type": "stream",
     "text": [
      "삼성전자\n"
     ]
    }
   ],
   "source": [
    "samsung.get_name()"
   ]
  },
  {
   "cell_type": "code",
   "execution_count": 49,
   "id": "f391e077",
   "metadata": {},
   "outputs": [
    {
     "name": "stdout",
     "output_type": "stream",
     "text": [
      "005930\n"
     ]
    }
   ],
   "source": [
    "samsung.get_code()"
   ]
  },
  {
   "cell_type": "code",
   "execution_count": 51,
   "id": "1837566b",
   "metadata": {},
   "outputs": [
    {
     "name": "stdout",
     "output_type": "stream",
     "text": [
      "삼성전자\n",
      "005930\n",
      "삼성전자\n",
      "005930\n"
     ]
    }
   ],
   "source": [
    "# ANSWER\n",
    "\n",
    "class Stock:\n",
    "    def __init__(self, name, code):\n",
    "        self.name = name\n",
    "        self.code = code\n",
    "        \n",
    "    def set_name(self, name):\n",
    "        self.name = name\n",
    "        print(self.name)\n",
    "        \n",
    "    def set_code(self, code):\n",
    "        self.code = code\n",
    "        print(self.code)\n",
    "        \n",
    "    def get_name(self):\n",
    "        return self.name\n",
    "        \n",
    "    def get_code(self):\n",
    "        return self.code   # 받아야할 값이 있는 함수를 정의할 때는 return 활용하기!\n",
    "    \n",
    "samsung = Stock('삼성전자', '005930')\n",
    "print(samsung.name)   # 속성을 통해 호출\n",
    "print(samsung.code)\n",
    "\n",
    "print(samsung.get_name())   # 위의 것과 기본적으로 같다. 함수를 통해 호출할 뿐.\n",
    "print(samsung.get_code())"
   ]
  },
  {
   "cell_type": "markdown",
   "id": "d17ecbec",
   "metadata": {},
   "source": [
    "266."
   ]
  },
  {
   "cell_type": "code",
   "execution_count": 52,
   "id": "a55fdc60",
   "metadata": {},
   "outputs": [],
   "source": [
    "class Stock:\n",
    "    def __init__(self, name, code, per, pbr, 배당수익률):\n",
    "        self.name = name\n",
    "        self.code = code\n",
    "        self.per = per\n",
    "        self.pbr = pbr\n",
    "        self.배당수익률 = 배당수익률\n",
    "        \n",
    "    def set_name(self, name):\n",
    "        self.name = name\n",
    "        print(self.name)\n",
    "        \n",
    "    def set_code(self, code):\n",
    "        self.code = code\n",
    "        print(self.code)\n",
    "        \n",
    "    def get_name(self):\n",
    "        return self.name\n",
    "        \n",
    "    def get_code(self):\n",
    "        return self.code"
   ]
  },
  {
   "cell_type": "markdown",
   "id": "d928701e",
   "metadata": {},
   "source": [
    "267."
   ]
  },
  {
   "cell_type": "code",
   "execution_count": 55,
   "id": "d25dac24",
   "metadata": {},
   "outputs": [
    {
     "name": "stdout",
     "output_type": "stream",
     "text": [
      "2.83\n"
     ]
    }
   ],
   "source": [
    "samsung = Stock('삼성전자', '005930', 15.79, 1.33, 2.83)\n",
    "\n",
    "print(samsung.배당수익률)"
   ]
  },
  {
   "cell_type": "markdown",
   "id": "96edc391",
   "metadata": {},
   "source": [
    "268."
   ]
  },
  {
   "cell_type": "code",
   "execution_count": 121,
   "id": "2e65a06c",
   "metadata": {},
   "outputs": [],
   "source": [
    "class Stock:\n",
    "    def __init__(self, name, code, per, pbr, 배당수익률):\n",
    "        self.name = name\n",
    "        self.code = code\n",
    "        self.per = per\n",
    "        self.pbr = pbr\n",
    "        self.배당수익률 = 배당수익률\n",
    "        \n",
    "    def set_name(self, name):\n",
    "        self.name = name\n",
    "        print(self.name)\n",
    "        \n",
    "    def set_code(self, code):\n",
    "        self.code = code\n",
    "        print(self.code)\n",
    "        \n",
    "    def get_name(self):\n",
    "        return self.name\n",
    "        \n",
    "    def get_code(self):\n",
    "        return self.code\n",
    "    \n",
    "    def set_per(self, per):\n",
    "        self.per = per\n",
    "        \n",
    "    def set_pbr(self, pbr):\n",
    "        self.pbr = pbr\n",
    "        \n",
    "    def set_divided(self, 배당수익률):\n",
    "        self.배당수익률 = 배당수익률\n",
    "        \n",
    "    def get_per(self):\n",
    "        return self.per\n",
    "    \n",
    "    def get_pbr(self):\n",
    "        return self.pbr\n",
    "    \n",
    "    def get_배당수익률(self):\n",
    "        return self.배당수익률\n",
    "        \n",
    "    def mk_lst(self):   # 객체 안에 있는 값들을 (다른 함수들로 가져와) 리스트로 만드는 함수\n",
    "        lst = []\n",
    "        lst.append(self.get_name())\n",
    "        lst.append(self.get_code())\n",
    "        lst.append(self.get_per())\n",
    "        lst.append(self.get_pbr())\n",
    "        lst.append(self.get_배당수익률())\n",
    "        return lst\n",
    "\n",
    "    def for_function(self, lst):\n",
    "        for i in range(5):\n",
    "            if i == 1:\n",
    "                print(f'{self.name}의 종목코드는 {lst[i]}입니다.')   # 객체에 저장된 속성값들의 인덱스 넘버를 통해 종목코드와 PER 출력\n",
    "            elif i == 2:\n",
    "                print(f'{self.name}의 PER은 {lst[i]}입니다.')\n",
    "        "
   ]
  },
  {
   "cell_type": "markdown",
   "id": "59a783cc",
   "metadata": {},
   "source": [
    "269."
   ]
  },
  {
   "cell_type": "code",
   "execution_count": 108,
   "id": "41406608",
   "metadata": {},
   "outputs": [
    {
     "name": "stdout",
     "output_type": "stream",
     "text": [
      "15.79\n",
      "12.75\n"
     ]
    }
   ],
   "source": [
    "samsung = Stock('삼성전자', '005930', 15.79, 1.33, 2.83)\n",
    "\n",
    "print(samsung.per)\n",
    "\n",
    "samsung.set_per(12.75)\n",
    "\n",
    "print(samsung.per)"
   ]
  },
  {
   "cell_type": "code",
   "execution_count": 119,
   "id": "b203165c",
   "metadata": {},
   "outputs": [],
   "source": [
    "samsung = Stock('삼성전자', '005930', 15.79, 1.33, 2.83)\n",
    "hyndai_car = Stock('현대차', '005380', '8.70', '0.35', '4.27')\n",
    "LG = Stock('LG', '06657', '317.24', '0.69', '1.37')\n",
    "\n",
    "a = samsung.mk_lst()\n",
    "b = hyndai_car.mk_lst()\n",
    "c = LG.mk_lst()"
   ]
  },
  {
   "cell_type": "code",
   "execution_count": 124,
   "id": "c657a0c7",
   "metadata": {},
   "outputs": [
    {
     "name": "stdout",
     "output_type": "stream",
     "text": [
      "삼성전자의 종목코드는 005930입니다.\n",
      "삼성전자의 PER은 15.79입니다.\n"
     ]
    }
   ],
   "source": [
    "samsung.for_function(a)   # 객체 안의 값들만 가져와서 리스트로 만드는 mk_lst() 매서드 + 객체값들로 만들어진 리스트의 인덱스 넘버로 원하는 값 출력"
   ]
  },
  {
   "cell_type": "code",
   "execution_count": 122,
   "id": "51c04770",
   "metadata": {},
   "outputs": [
    {
     "name": "stdout",
     "output_type": "stream",
     "text": [
      "[<__main__.Stock object at 0x10eea0590>, <__main__.Stock object at 0x10e6fb850>, <__main__.Stock object at 0x10ef131d0>]\n",
      "-----\n",
      "005930 15.79\n",
      "005380 8.70\n",
      "06657 317.24\n"
     ]
    }
   ],
   "source": [
    "# ANSWER\n",
    "\n",
    "종목 = []\n",
    "\n",
    "samsung = Stock('삼성전자', '005930', 15.79, 1.33, 2.83)\n",
    "hyndai_car = Stock('현대차', '005380', '8.70', '0.35', '4.27')\n",
    "LG = Stock('LG', '06657', '317.24', '0.69', '1.37')\n",
    "\n",
    "종목.append(samsung)   # 객체를 파이썬 리스트에 저장\n",
    "종목.append(hyndai_car)\n",
    "종목.append(LG)\n",
    "\n",
    "print(종목)\n",
    "print('-----')\n",
    "\n",
    "for i in 종목:   # 세 객체의 정보를 담고있는 파이썬 리스트에 대해\n",
    "    print(i.code, i.per)   # i = 첫 번째 객체일 때, 객체 i의 code속성과 per속성에 담긴 값을 프린트해라\n",
    "    \n",
    "    \n",
    "# 270번 문제 정리\n",
    "# 1. 객체 자체를 자료구조에 담을 수 있다.\n",
    "# 2. 자료구조에 담긴 객체일지라도 '객체명.속성값'을 통해 (객체 안에 속성값을 키로 갖는) 값을 가져올 수 있다."
   ]
  },
  {
   "cell_type": "markdown",
   "id": "8492a39b",
   "metadata": {},
   "source": [
    "# 271 ~ 280 파이썬 클래스"
   ]
  },
  {
   "cell_type": "markdown",
   "id": "a8113fd3",
   "metadata": {},
   "source": [
    "271."
   ]
  },
  {
   "cell_type": "code",
   "execution_count": 186,
   "id": "b417bff8",
   "metadata": {},
   "outputs": [],
   "source": [
    "class Account:\n",
    "    import random\n",
    "    \n",
    "    def __init__(self, name, balance):   # name, balance는 인자값으로 받고 / bank_name, number는 자동 부여 \n",
    "        self.name = name\n",
    "        self.balance = balance\n",
    "        self.bank_name = 'SC 은행'\n",
    "        \n",
    "        first = ''\n",
    "        for i in range(3):\n",
    "            first += str(random.randint(0, 9))\n",
    "            \n",
    "        second = ''\n",
    "        for i in range(2):\n",
    "            second += str(random.randint(0, 9))\n",
    "            \n",
    "        third = ''\n",
    "        for i in range(6):\n",
    "            third += str(random.randint(0, 9))\n",
    "        \n",
    "        self.number = f'{first}-{second}-{third}'    "
   ]
  },
  {
   "cell_type": "code",
   "execution_count": 187,
   "id": "5c515bcb",
   "metadata": {},
   "outputs": [
    {
     "name": "stdout",
     "output_type": "stream",
     "text": [
      "Saemi An <class 'str'>\n",
      "3000 <class 'int'>\n",
      "SC 은행 <class 'str'>\n",
      "577-78-081870 <class 'str'>\n"
     ]
    }
   ],
   "source": [
    "saemi = Account('Saemi An', 3000)\n",
    "\n",
    "print(saemi.name, type(saemi.name))\n",
    "print(saemi.balance, type(saemi.balance))\n",
    "print(saemi.bank_name, type(saemi.bank_name))\n",
    "print(saemi.number, type(saemi.number))"
   ]
  },
  {
   "cell_type": "code",
   "execution_count": 185,
   "id": "030c514c",
   "metadata": {},
   "outputs": [
    {
     "name": "stdout",
     "output_type": "stream",
     "text": [
      "291-43-578946\n"
     ]
    }
   ],
   "source": [
    "# ANSWER - number 설정 부분\n",
    "\n",
    "num1 = random.randint(0,999)   # 0 ~ 999까지의 숫자들 중 하나의 정수를 랜덤으로 뽑기\n",
    "num2 = random.randint(0,99)\n",
    "num3 = random.randint(0,999999)\n",
    "\n",
    "num1 = str(num1).zfill(3)   # 만일 랜덤뽑기를 한 숫자가 세자리수가 되지 않는다면 앞에 0으로 채운다\n",
    "num2 = str(num2).zfill(2) \n",
    "num3 = str(num3).zfill(6)\n",
    "\n",
    "account_number = num1 + '-' + num2 + '-' + num3\n",
    "\n",
    "print(account_number)"
   ]
  },
  {
   "cell_type": "markdown",
   "id": "ade509a6",
   "metadata": {},
   "source": [
    "# 272. 클래스 변수 설정"
   ]
  },
  {
   "cell_type": "code",
   "execution_count": 64,
   "id": "d7a7f317",
   "metadata": {},
   "outputs": [],
   "source": [
    "import random\n",
    "\n",
    "class Account:\n",
    "    number_count = 0   # 매서드 외부, 클래스 내부에 변수와 기본값 설정\n",
    "    \n",
    "    def __init__(self, name, balance):\n",
    "        self.name = name\n",
    "        self.balance = balance\n",
    "        self.bank_name = 'SC은행'\n",
    "        \n",
    "        first = ''\n",
    "        for i in range(3):\n",
    "            first += str(random.randint(0, 9))\n",
    "            \n",
    "        second = ''\n",
    "        for i in range(2):\n",
    "            second += str(random.randint(0, 9))\n",
    "            \n",
    "        third = ''\n",
    "        for i in range(6):\n",
    "            third += str(random.randint(0, 9))\n",
    "        \n",
    "        self.number = f'{first}-{second}-{third}'\n",
    "        \n",
    "        Account.number_count += 1   # 클래스에 인스턴시에이션 될때마다 1 추가\n",
    "        self.deposit_count = 0\n",
    "        \n",
    "    def Get_number_count(cls):   # 생성된 계좌의 수를 출력하는 함수는 클래스를 상속받는다\n",
    "        return print(cls.number_count)   # 클래스의 변수에 접근한다.\n",
    "    \n",
    "# 입금 횟수가 5회가 될때, 잔고를 기준으로 1%의 이자가 잔고에 추가되도록 코드 변경\n",
    "    def deposit(self, deposit):\n",
    "        if deposit > 1:\n",
    "            # self.deposit = deposit   # 굳이 deposit이라는 속성을 만들 필요 X\n",
    "            self.balance += deposit\n",
    "            print(f'{deposit} is succesfully saved.\\nNow your balance is {self.balance}')\n",
    "            self.deposit_count += 1\n",
    "            \n",
    "        if self.deposit_count % 5 == 0:\n",
    "                self.balance *= 1.01\n",
    "                print(f'\\n{round(self.balance * 0.01)}won is add as an interest.\\nNow your balance is {self.balance}')\n",
    "                                # 이 부분 출력이 왜 이상할까 ?\n",
    "        \n",
    "    \n",
    "    def withdraw(self, withdraw):\n",
    "        if self.balance >= withdraw:\n",
    "            self.balance -= withdraw\n",
    "            print(f'Your current balance is {self.balance}.')\n",
    "        else:\n",
    "            print(f'Not enough money for withdrawl.\\nYour current balance is {self.balance}.')\n",
    "            \n",
    "    def display_info(self):\n",
    "        print(self.bank_name)\n",
    "        print(self.name)\n",
    "        print(self.number)\n",
    "        print(format(self.balance, ','))   # 천단위 절삭\n",
    "        "
   ]
  },
  {
   "cell_type": "code",
   "execution_count": 65,
   "id": "b87ff2ae",
   "metadata": {},
   "outputs": [
    {
     "name": "stdout",
     "output_type": "stream",
     "text": [
      "SC은행\n",
      "297-69-052779\n",
      "1\n"
     ]
    }
   ],
   "source": [
    "saemi = Account('Saemi-An', 3000)\n",
    "\n",
    "print(saemi.bank_name)\n",
    "print(saemi.number)\n",
    "saemi.Get_number_count()"
   ]
  },
  {
   "cell_type": "code",
   "execution_count": 66,
   "id": "4cd16b24",
   "metadata": {},
   "outputs": [
    {
     "name": "stdout",
     "output_type": "stream",
     "text": [
      "SC은행\n",
      "297-69-052779\n",
      "2\n"
     ]
    }
   ],
   "source": [
    "song = Account('Songkyung-Oh', 100000)\n",
    "\n",
    "print(saemi.bank_name)\n",
    "print(saemi.number)\n",
    "saemi.Get_number_count()"
   ]
  },
  {
   "cell_type": "markdown",
   "id": "34a0f6f4",
   "metadata": {},
   "source": [
    "# 273. 클래스 변수를 반환하는 매서드 생성시, 상속"
   ]
  },
  {
   "cell_type": "code",
   "execution_count": 67,
   "id": "60a1865b",
   "metadata": {},
   "outputs": [],
   "source": [
    "# 272번에 코드 추가됨"
   ]
  },
  {
   "cell_type": "markdown",
   "id": "bf24c677",
   "metadata": {},
   "source": [
    "274."
   ]
  },
  {
   "cell_type": "code",
   "execution_count": 68,
   "id": "276a0a72",
   "metadata": {},
   "outputs": [
    {
     "name": "stdout",
     "output_type": "stream",
     "text": [
      "1000 is succesfully saved.\n",
      "Now your balance is 4000\n"
     ]
    }
   ],
   "source": [
    "saemi.deposit(1000)"
   ]
  },
  {
   "cell_type": "markdown",
   "id": "6c713618",
   "metadata": {},
   "source": [
    "275."
   ]
  },
  {
   "cell_type": "code",
   "execution_count": 69,
   "id": "82585124",
   "metadata": {},
   "outputs": [
    {
     "name": "stdout",
     "output_type": "stream",
     "text": [
      "Not enough money for withdrawl.\n",
      "Your current balance is 4000.\n"
     ]
    }
   ],
   "source": [
    "saemi.withdraw(10000)"
   ]
  },
  {
   "cell_type": "code",
   "execution_count": 70,
   "id": "d8b27fc4",
   "metadata": {},
   "outputs": [
    {
     "name": "stdout",
     "output_type": "stream",
     "text": [
      "Your current balance is 2500.\n"
     ]
    }
   ],
   "source": [
    "saemi.withdraw(1500)"
   ]
  },
  {
   "cell_type": "code",
   "execution_count": 71,
   "id": "52a086c6",
   "metadata": {},
   "outputs": [
    {
     "name": "stdout",
     "output_type": "stream",
     "text": [
      "SC은행\n",
      "Saemi-An\n",
      "297-69-052779\n",
      "2,500\n"
     ]
    }
   ],
   "source": [
    "saemi.display_info()"
   ]
  },
  {
   "cell_type": "markdown",
   "id": "18680217",
   "metadata": {},
   "source": [
    "277.\n"
   ]
  },
  {
   "cell_type": "code",
   "execution_count": 72,
   "id": "6266fbd3",
   "metadata": {},
   "outputs": [],
   "source": [
    "# self.deposit_count 설정 > 5의 배수가되는 입급 횟수마다 이자 부여 설정 (In 46)"
   ]
  },
  {
   "cell_type": "markdown",
   "id": "efe0e08b",
   "metadata": {},
   "source": [
    "278."
   ]
  },
  {
   "cell_type": "code",
   "execution_count": 73,
   "id": "3ce81058",
   "metadata": {},
   "outputs": [
    {
     "name": "stdout",
     "output_type": "stream",
     "text": [
      "SC은행\n",
      "Saemi-An\n",
      "297-69-052779\n",
      "2,500\n"
     ]
    }
   ],
   "source": [
    "saemi.display_info()"
   ]
  },
  {
   "cell_type": "code",
   "execution_count": 74,
   "id": "35d83cd8",
   "metadata": {},
   "outputs": [
    {
     "name": "stdout",
     "output_type": "stream",
     "text": [
      "SC은행\n",
      "Songkyung-Oh\n",
      "673-08-161539\n",
      "100,000\n"
     ]
    }
   ],
   "source": [
    "song.display_info()"
   ]
  },
  {
   "cell_type": "code",
   "execution_count": 75,
   "id": "c19bf795",
   "metadata": {},
   "outputs": [
    {
     "name": "stdout",
     "output_type": "stream",
     "text": [
      "SC은행\n",
      "Kim\n",
      "546-06-246624\n",
      "10,000,000,000\n"
     ]
    }
   ],
   "source": [
    "kim = Account('Kim', 10000000000)\n",
    "\n",
    "kim.display_info()"
   ]
  },
  {
   "cell_type": "code",
   "execution_count": 79,
   "id": "53e7e1a9",
   "metadata": {},
   "outputs": [
    {
     "name": "stdout",
     "output_type": "stream",
     "text": [
      "SC은행\n",
      "Kim\n",
      "546-06-246624\n",
      "10,000,000,000\n"
     ]
    }
   ],
   "source": [
    "# 270번 문제 정리\n",
    "# 1. 객체 자체를 자료구조에 담을 수 있다.\n",
    "# 2. 자료구조에 담긴 객체일지라도 '객체명.속성값'을 통해 (객체 안에 속성값을 키로 갖는) 값을 가져올 수 있다.\n",
    "\n",
    "customers = []\n",
    "\n",
    "customers.append(saemi)\n",
    "customers.append(song)\n",
    "customers.append(kim)\n",
    "\n",
    "for i in customers:\n",
    "    if i.balance >= 1000000:\n",
    "        i.display_info()   # 클래스를 import 하지 않아도 매서드를 사용할 수 있다 ?! 아마도 같은 파일 내에 있으니까 ?"
   ]
  },
  {
   "cell_type": "markdown",
   "id": "c537b6bd",
   "metadata": {},
   "source": [
    "280."
   ]
  },
  {
   "cell_type": "code",
   "execution_count": 120,
   "id": "0436f91c",
   "metadata": {},
   "outputs": [],
   "source": [
    "import random\n",
    "\n",
    "class Account:\n",
    "    number_count = 0\n",
    "    \n",
    "    def __init__(self, name, balance):\n",
    "        Account.number_count += 1\n",
    "        \n",
    "        self.name = name\n",
    "        self.balance = balance\n",
    "        self.bank_name = 'SC은행'\n",
    "        self.deposit_count = 0\n",
    "        self.deposit_histories = [self.balance]\n",
    "        self.withdraw_histories = []\n",
    "        \n",
    "        first = ''\n",
    "        for i in range(3):\n",
    "            first += str(random.randint(0, 9))\n",
    "            \n",
    "        second = ''\n",
    "        for i in range(2):\n",
    "            second += str(random.randint(0, 9))\n",
    "            \n",
    "        third = ''\n",
    "        for i in range(6):\n",
    "            third += str(random.randint(0, 9))\n",
    "        \n",
    "        self.number = f'{first}-{second}-{third}'\n",
    "        \n",
    "        \n",
    "    def Get_number_count(cls):\n",
    "        return print(cls.number_count)\n",
    "    \n",
    "    \n",
    "\n",
    "    def deposit(self, deposit):\n",
    "        if deposit > 1:\n",
    "            self.balance += deposit\n",
    "            print(f'{deposit} is succesfully saved.\\nNow your balance is {self.balance}')\n",
    "            self.deposit_count += 1\n",
    "            self.deposit_histories.append(deposit)\n",
    "            \n",
    "        # 적금 카운트 세는 코드는 결국 들여쓰기를 해야함\n",
    "        # 이유 : 들여쓰기를 안하면 위에서 if == False여서 적금에 실패하더라도 카운트가 적용됨\n",
    "        if self.deposit_count % 5 == 0:\n",
    "                self.balance *= 1.01\n",
    "                print(f'\\n{round(self.balance * 0.01)}won is add as an interest.\\nNow your balance is {self.balance}')\n",
    "                                # 이 부분 출력이 왜 이상할까 ?\n",
    "                    \n",
    "        \n",
    "    \n",
    "    def withdraw(self, withdraw):\n",
    "        if self.balance >= withdraw:\n",
    "            self.balance -= withdraw\n",
    "            print(f'Your current balance is {self.balance}.')\n",
    "            self.withdraw_histories.append(withdraw)\n",
    "            \n",
    "        else:\n",
    "            print(f'Not enough money for withdrawl.\\nYour current balance is {self.balance}.')\n",
    "            \n",
    "            \n",
    "    def display_info(self):\n",
    "        print(self.bank_name)\n",
    "        print(self.name)\n",
    "        print(self.number)\n",
    "        print(format(self.balance, ','))   # 천단위 절삭\n",
    "        \n",
    "        \n",
    "    def deposit_history(self):\n",
    "        return print(self.deposit_histories)\n",
    "    \n",
    "    \n",
    "    \n",
    "    def withdraw_history(self):\n",
    "        return print(self.withdraw_histories)\n",
    "        "
   ]
  },
  {
   "cell_type": "code",
   "execution_count": 121,
   "id": "f51c728b",
   "metadata": {},
   "outputs": [],
   "source": [
    "a = Account('a', 3000)\n",
    "b = Account('b', 5000)"
   ]
  },
  {
   "cell_type": "code",
   "execution_count": 122,
   "id": "dab126bb",
   "metadata": {},
   "outputs": [
    {
     "name": "stdout",
     "output_type": "stream",
     "text": [
      "3000 is succesfully saved.\n",
      "Now your balance is 6000\n",
      "10000 is succesfully saved.\n",
      "Now your balance is 15000\n"
     ]
    }
   ],
   "source": [
    "a.deposit(3000)\n",
    "b.deposit(10000)"
   ]
  },
  {
   "cell_type": "code",
   "execution_count": 123,
   "id": "221f3048",
   "metadata": {},
   "outputs": [
    {
     "name": "stdout",
     "output_type": "stream",
     "text": [
      "Your current balance is 5500.\n"
     ]
    }
   ],
   "source": [
    "a.withdraw(500)"
   ]
  },
  {
   "cell_type": "code",
   "execution_count": 124,
   "id": "a61e83be",
   "metadata": {},
   "outputs": [
    {
     "name": "stdout",
     "output_type": "stream",
     "text": [
      "[3000, 3000]\n",
      "[500]\n"
     ]
    }
   ],
   "source": [
    "a.deposit_history()\n",
    "a.withdraw_history()"
   ]
  },
  {
   "cell_type": "code",
   "execution_count": 125,
   "id": "1a9fdc19",
   "metadata": {},
   "outputs": [
    {
     "name": "stdout",
     "output_type": "stream",
     "text": [
      "[500]\n",
      "[]\n"
     ]
    }
   ],
   "source": [
    "a.withdraw_history()\n",
    "b.withdraw_history()"
   ]
  },
  {
   "cell_type": "code",
   "execution_count": 127,
   "id": "c0b0e925",
   "metadata": {},
   "outputs": [
    {
     "name": "stdout",
     "output_type": "stream",
     "text": [
      "SC은행\n",
      "a\n",
      "399-39-395737\n",
      "5,500\n"
     ]
    }
   ],
   "source": [
    "a.display_info()"
   ]
  },
  {
   "cell_type": "code",
   "execution_count": 128,
   "id": "a235d48a",
   "metadata": {},
   "outputs": [
    {
     "data": {
      "text/plain": [
       "5500"
      ]
     },
     "execution_count": 128,
     "metadata": {},
     "output_type": "execute_result"
    }
   ],
   "source": [
    "a.balance"
   ]
  },
  {
   "cell_type": "code",
   "execution_count": 129,
   "id": "6fb02fc4",
   "metadata": {},
   "outputs": [
    {
     "name": "stdout",
     "output_type": "stream",
     "text": [
      "10000 is succesfully saved.\n",
      "Now your balance is 15500\n"
     ]
    }
   ],
   "source": [
    "a.deposit(10000)"
   ]
  },
  {
   "cell_type": "code",
   "execution_count": 131,
   "id": "d15ce031",
   "metadata": {},
   "outputs": [
    {
     "name": "stdout",
     "output_type": "stream",
     "text": [
      "[3000, 3000, 10000]\n"
     ]
    }
   ],
   "source": [
    "a.deposit_history()"
   ]
  },
  {
   "cell_type": "code",
   "execution_count": 132,
   "id": "41b19c50",
   "metadata": {},
   "outputs": [
    {
     "data": {
      "text/plain": [
       "[3000, 3000, 10000]"
      ]
     },
     "execution_count": 132,
     "metadata": {},
     "output_type": "execute_result"
    }
   ],
   "source": [
    "a.deposit_histories"
   ]
  },
  {
   "cell_type": "markdown",
   "id": "5be310d5",
   "metadata": {},
   "source": [
    "# 파이썬 클래스 281 ~ 290"
   ]
  },
  {
   "cell_type": "markdown",
   "id": "034af247",
   "metadata": {},
   "source": [
    "297."
   ]
  },
  {
   "cell_type": "code",
   "execution_count": 10,
   "id": "e4c75dab",
   "metadata": {},
   "outputs": [
    {
     "name": "stdout",
     "output_type": "stream",
     "text": [
      "[10.31, 0.0, 8.0]\n"
     ]
    }
   ],
   "source": [
    "per = ['10.31', '', '8.00']\n",
    "\n",
    "lst = []\n",
    "\n",
    "for i in per:\n",
    "    try:\n",
    "        i = float(i)\n",
    "        lst.append(i)\n",
    "    except:\n",
    "        lst.append(0.0)\n",
    "    \n",
    "print(lst)"
   ]
  },
  {
   "cell_type": "markdown",
   "id": "d6045c98",
   "metadata": {},
   "source": [
    "298."
   ]
  },
  {
   "cell_type": "code",
   "execution_count": 15,
   "id": "1c02d648",
   "metadata": {},
   "outputs": [
    {
     "name": "stdout",
     "output_type": "stream",
     "text": [
      "0 cannot be used for devision.\n"
     ]
    }
   ],
   "source": [
    "def devide(a, b):\n",
    "    try:\n",
    "        print(a / b)\n",
    "    \n",
    "    except ZeroDivisionError:\n",
    "        print('0 cannot be used for devision.')\n",
    "    \n",
    "devide(3, 0)"
   ]
  },
  {
   "cell_type": "markdown",
   "id": "36a94f1a",
   "metadata": {},
   "source": [
    "299."
   ]
  },
  {
   "cell_type": "code",
   "execution_count": 18,
   "id": "edabc58b",
   "metadata": {},
   "outputs": [
    {
     "name": "stdout",
     "output_type": "stream",
     "text": [
      "1\n",
      "2\n",
      "3\n",
      "list index out of range\n",
      "list index out of range\n"
     ]
    }
   ],
   "source": [
    "data = [1, 2, 3]\n",
    "\n",
    "for i in range(5):\n",
    "    try:\n",
    "        print(data[i])\n",
    "        \n",
    "    except IndexError as e:\n",
    "        print(e)"
   ]
  },
  {
   "cell_type": "markdown",
   "id": "c236c3a4",
   "metadata": {},
   "source": [
    "300."
   ]
  },
  {
   "cell_type": "code",
   "execution_count": 29,
   "id": "c5c6613b",
   "metadata": {},
   "outputs": [
    {
     "name": "stdout",
     "output_type": "stream",
     "text": [
      "10.31\n",
      "else\n",
      "finally\n",
      "-------------\n",
      "0\n",
      "finally\n",
      "-------------\n",
      "8.0\n",
      "else\n",
      "finally\n",
      "-------------\n"
     ]
    }
   ],
   "source": [
    "per = ['10.31', '', '8.00']\n",
    "\n",
    "for i in per:\n",
    "    try:\n",
    "        print(float(i))\n",
    "    except:\n",
    "        print(0)\n",
    "        \n",
    "    else:\n",
    "        print('else')\n",
    "    finally:\n",
    "        print('finally')\n",
    "        print('-------------')"
   ]
  },
  {
   "cell_type": "code",
   "execution_count": null,
   "id": "a1ab745e",
   "metadata": {},
   "outputs": [],
   "source": []
  },
  {
   "cell_type": "code",
   "execution_count": null,
   "id": "efd494ab",
   "metadata": {},
   "outputs": [],
   "source": []
  }
 ],
 "metadata": {
  "kernelspec": {
   "display_name": "Python 3 (ipykernel)",
   "language": "python",
   "name": "python3"
  },
  "language_info": {
   "codemirror_mode": {
    "name": "ipython",
    "version": 3
   },
   "file_extension": ".py",
   "mimetype": "text/x-python",
   "name": "python",
   "nbconvert_exporter": "python",
   "pygments_lexer": "ipython3",
   "version": "3.11.7"
  }
 },
 "nbformat": 4,
 "nbformat_minor": 5
}
