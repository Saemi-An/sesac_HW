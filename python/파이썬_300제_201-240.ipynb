{
 "cells": [
  {
   "cell_type": "markdown",
   "id": "a1f186da",
   "metadata": {},
   "source": [
    "# 201 ~ 210 파이썬 함수"
   ]
  },
  {
   "cell_type": "markdown",
   "id": "8139ffaa",
   "metadata": {},
   "source": [
    "201."
   ]
  },
  {
   "cell_type": "code",
   "execution_count": 14,
   "id": "e9bdff8b",
   "metadata": {},
   "outputs": [
    {
     "name": "stdout",
     "output_type": "stream",
     "text": [
      "비\n",
      "트\n",
      "코\n",
      "인\n",
      " \n",
      "인\n"
     ]
    }
   ],
   "source": [
    "def print_coin():\n",
    "    for i in '비트코인':\n",
    "        print(i)\n",
    "    print(' ')\n",
    "    return print(i)     # 왜 '인'이 두번 출력되지 ?! // 포문 루프 끝난 뒤 맨 마지막 루프값이 한번 더 출력되서 ?!\n",
    "\n",
    "print_coin()"
   ]
  },
  {
   "cell_type": "code",
   "execution_count": 13,
   "id": "d24fab24",
   "metadata": {},
   "outputs": [
    {
     "name": "stdout",
     "output_type": "stream",
     "text": [
      "비\n",
      "트\n",
      "코\n",
      "인\n"
     ]
    }
   ],
   "source": [
    "def print_coin():\n",
    "    for i in '비트코인':\n",
    "        print(i)     # 이러면 멀쩡한데...\n",
    "\n",
    "print_coin()"
   ]
  },
  {
   "cell_type": "code",
   "execution_count": 17,
   "id": "bd264ca5",
   "metadata": {},
   "outputs": [
    {
     "name": "stdout",
     "output_type": "stream",
     "text": [
      "비트코인\n"
     ]
    }
   ],
   "source": [
    "# Answer\n",
    "\n",
    "def print_coin():\n",
    "    print('비트코인')\n",
    "\n",
    "print_coin()"
   ]
  },
  {
   "cell_type": "markdown",
   "id": "9f3cb456",
   "metadata": {},
   "source": [
    "202."
   ]
  },
  {
   "cell_type": "code",
   "execution_count": 18,
   "id": "e9222e4f",
   "metadata": {},
   "outputs": [
    {
     "name": "stdout",
     "output_type": "stream",
     "text": [
      "비트코인\n"
     ]
    }
   ],
   "source": [
    "print_coin()"
   ]
  },
  {
   "cell_type": "markdown",
   "id": "394203b1",
   "metadata": {},
   "source": [
    "203."
   ]
  },
  {
   "cell_type": "code",
   "execution_count": 27,
   "id": "e6973dcc",
   "metadata": {},
   "outputs": [
    {
     "name": "stdout",
     "output_type": "stream",
     "text": [
      "비트코인\n",
      "비트코인\n",
      "비트코인\n",
      "비트코인\n",
      "비트코인\n",
      "비트코인\n",
      "비트코인\n",
      "비트코인\n",
      "비트코인\n",
      "비트코인\n",
      "비트코인\n",
      "비트코인\n",
      "비트코인\n",
      "비트코인\n",
      "비트코인\n",
      "비트코인\n",
      "비트코인\n",
      "비트코인\n",
      "비트코인\n",
      "비트코인\n",
      "비트코인\n",
      "비트코인\n",
      "비트코인\n",
      "비트코인\n",
      "비트코인\n",
      "비트코인\n",
      "비트코인\n",
      "비트코인\n",
      "비트코인\n",
      "비트코인\n",
      "비트코인\n",
      "비트코인\n",
      "비트코인\n",
      "비트코인\n",
      "비트코인\n",
      "비트코인\n",
      "비트코인\n",
      "비트코인\n",
      "비트코인\n",
      "비트코인\n",
      "비트코인\n",
      "비트코인\n",
      "비트코인\n",
      "비트코인\n",
      "비트코인\n",
      "비트코인\n",
      "비트코인\n",
      "비트코인\n",
      "비트코인\n",
      "비트코인\n",
      "비트코인\n",
      "비트코인\n",
      "비트코인\n",
      "비트코인\n",
      "비트코인\n",
      "비트코인\n",
      "비트코인\n",
      "비트코인\n",
      "비트코인\n",
      "비트코인\n",
      "비트코인\n",
      "비트코인\n",
      "비트코인\n",
      "비트코인\n",
      "비트코인\n",
      "비트코인\n",
      "비트코인\n",
      "비트코인\n",
      "비트코인\n",
      "비트코인\n",
      "비트코인\n",
      "비트코인\n",
      "비트코인\n",
      "비트코인\n",
      "비트코인\n",
      "비트코인\n",
      "비트코인\n",
      "비트코인\n",
      "비트코인\n",
      "비트코인\n",
      "비트코인\n",
      "비트코인\n",
      "비트코인\n",
      "비트코인\n",
      "비트코인\n",
      "비트코인\n",
      "비트코인\n",
      "비트코인\n",
      "비트코인\n",
      "비트코인\n",
      "비트코인\n",
      "비트코인\n",
      "비트코인\n",
      "비트코인\n",
      "비트코인\n",
      "비트코인\n",
      "비트코인\n",
      "비트코인\n",
      "비트코인\n",
      "비트코인\n"
     ]
    }
   ],
   "source": [
    "for i in range(100):\n",
    "    print_coin()\n"
   ]
  },
  {
   "cell_type": "code",
   "execution_count": 29,
   "id": "eef37fcd",
   "metadata": {},
   "outputs": [
    {
     "name": "stdout",
     "output_type": "stream",
     "text": [
      "비트코인\n",
      "<class 'NoneType'>\n"
     ]
    }
   ],
   "source": [
    "print(type(print_coin()))   # 함수는 NoneType인가 ?!"
   ]
  },
  {
   "cell_type": "markdown",
   "id": "2333973e",
   "metadata": {},
   "source": [
    "204."
   ]
  },
  {
   "cell_type": "code",
   "execution_count": 30,
   "id": "961d5679",
   "metadata": {},
   "outputs": [
    {
     "name": "stdout",
     "output_type": "stream",
     "text": [
      "비트코인\n",
      "비트코인\n",
      "비트코인\n",
      "비트코인\n",
      "비트코인\n",
      "비트코인\n",
      "비트코인\n",
      "비트코인\n",
      "비트코인\n",
      "비트코인\n",
      "비트코인\n",
      "비트코인\n",
      "비트코인\n",
      "비트코인\n",
      "비트코인\n",
      "비트코인\n",
      "비트코인\n",
      "비트코인\n",
      "비트코인\n",
      "비트코인\n",
      "비트코인\n",
      "비트코인\n",
      "비트코인\n",
      "비트코인\n",
      "비트코인\n",
      "비트코인\n",
      "비트코인\n",
      "비트코인\n",
      "비트코인\n",
      "비트코인\n",
      "비트코인\n",
      "비트코인\n",
      "비트코인\n",
      "비트코인\n",
      "비트코인\n",
      "비트코인\n",
      "비트코인\n",
      "비트코인\n",
      "비트코인\n",
      "비트코인\n",
      "비트코인\n",
      "비트코인\n",
      "비트코인\n",
      "비트코인\n",
      "비트코인\n",
      "비트코인\n",
      "비트코인\n",
      "비트코인\n",
      "비트코인\n",
      "비트코인\n",
      "비트코인\n",
      "비트코인\n",
      "비트코인\n",
      "비트코인\n",
      "비트코인\n",
      "비트코인\n",
      "비트코인\n",
      "비트코인\n",
      "비트코인\n",
      "비트코인\n",
      "비트코인\n",
      "비트코인\n",
      "비트코인\n",
      "비트코인\n",
      "비트코인\n",
      "비트코인\n",
      "비트코인\n",
      "비트코인\n",
      "비트코인\n",
      "비트코인\n",
      "비트코인\n",
      "비트코인\n",
      "비트코인\n",
      "비트코인\n",
      "비트코인\n",
      "비트코인\n",
      "비트코인\n",
      "비트코인\n",
      "비트코인\n",
      "비트코인\n",
      "비트코인\n",
      "비트코인\n",
      "비트코인\n",
      "비트코인\n",
      "비트코인\n",
      "비트코인\n",
      "비트코인\n",
      "비트코인\n",
      "비트코인\n",
      "비트코인\n",
      "비트코인\n",
      "비트코인\n",
      "비트코인\n",
      "비트코인\n",
      "비트코인\n",
      "비트코인\n",
      "비트코인\n",
      "비트코인\n",
      "비트코인\n",
      "비트코인\n"
     ]
    }
   ],
   "source": [
    "def print_coin_100():\n",
    "    for i in range(100):\n",
    "        print_coin()\n",
    "\n",
    "print_coin_100()"
   ]
  },
  {
   "cell_type": "code",
   "execution_count": 31,
   "id": "a00fe03d",
   "metadata": {},
   "outputs": [],
   "source": [
    "# Answer\n",
    "\n",
    "def print_coin():\n",
    "    for i in range(100):\n",
    "        print('비트코인')"
   ]
  },
  {
   "cell_type": "markdown",
   "id": "1def4a35",
   "metadata": {},
   "source": [
    "205."
   ]
  },
  {
   "cell_type": "code",
   "execution_count": 33,
   "id": "ea405463",
   "metadata": {},
   "outputs": [
    {
     "ename": "NameError",
     "evalue": "name 'hello' is not defined",
     "output_type": "error",
     "traceback": [
      "\u001b[0;31m---------------------------------------------------------------------------\u001b[0m",
      "\u001b[0;31mNameError\u001b[0m                                 Traceback (most recent call last)",
      "Cell \u001b[0;32mIn[33], line 1\u001b[0m\n\u001b[0;32m----> 1\u001b[0m hello()   \u001b[38;5;66;03m# 함수가 정의되기 전에 호출당할시 에러 발생\u001b[39;00m\n\u001b[1;32m      3\u001b[0m \u001b[38;5;28;01mdef\u001b[39;00m \u001b[38;5;21mhello\u001b[39m():\n\u001b[1;32m      4\u001b[0m     \u001b[38;5;28mprint\u001b[39m(\u001b[38;5;124m'\u001b[39m\u001b[38;5;124mHi\u001b[39m\u001b[38;5;124m'\u001b[39m)\n",
      "\u001b[0;31mNameError\u001b[0m: name 'hello' is not defined"
     ]
    }
   ],
   "source": [
    "hello()   # 함수가 정의되기 전에 호출당할시 에러 발생\n",
    "\n",
    "def hello():\n",
    "    print('Hi')\n",
    "\n",
    "hello()"
   ]
  },
  {
   "cell_type": "markdown",
   "id": "df305520",
   "metadata": {},
   "source": [
    "206."
   ]
  },
  {
   "cell_type": "code",
   "execution_count": 34,
   "id": "4d76dc2f",
   "metadata": {},
   "outputs": [
    {
     "name": "stdout",
     "output_type": "stream",
     "text": [
      "A\n",
      "B\n",
      "C\n",
      "A\n",
      "B\n"
     ]
    }
   ],
   "source": [
    "def message():\n",
    "    print('A')\n",
    "    print('B')\n",
    "\n",
    "message()\n",
    "print('C')\n",
    "message()\n",
    "\n",
    "# A\n",
    "# B\n",
    "# C\n",
    "# A\n",
    "# B"
   ]
  },
  {
   "cell_type": "markdown",
   "id": "f444f048",
   "metadata": {},
   "source": [
    "207."
   ]
  },
  {
   "cell_type": "code",
   "execution_count": null,
   "id": "3dd1b967",
   "metadata": {},
   "outputs": [],
   "source": [
    "print('A')\n",
    "\n",
    "def message():\n",
    "    print('B')\n",
    "\n",
    "print('C')\n",
    "message()\n",
    "\n",
    "# A\n",
    "# C\n",
    "# B "
   ]
  },
  {
   "cell_type": "markdown",
   "id": "9dd772e5",
   "metadata": {},
   "source": [
    "208."
   ]
  },
  {
   "cell_type": "code",
   "execution_count": null,
   "id": "972cac17",
   "metadata": {},
   "outputs": [],
   "source": [
    "print('A')\n",
    "def message1():\n",
    "    print('B')\n",
    "print('C')\n",
    "def message2():\n",
    "    print('D')\n",
    "message1()\n",
    "print('E')\n",
    "message2()\n",
    "\n",
    "# A\n",
    "# C\n",
    "# B\n",
    "# E\n",
    "# D"
   ]
  },
  {
   "cell_type": "markdown",
   "id": "55f0df7a",
   "metadata": {},
   "source": [
    "209."
   ]
  },
  {
   "cell_type": "code",
   "execution_count": null,
   "id": "21cbc8d2",
   "metadata": {},
   "outputs": [],
   "source": [
    "def message1():\n",
    "    print('A')\n",
    "\n",
    "def message2():\n",
    "    print('B')\n",
    "    message1()\n",
    "\n",
    "message2()\n",
    "\n",
    "# B\n",
    "# A"
   ]
  },
  {
   "cell_type": "markdown",
   "id": "1b02232b",
   "metadata": {},
   "source": [
    "210."
   ]
  },
  {
   "cell_type": "code",
   "execution_count": null,
   "id": "08b8449f",
   "metadata": {},
   "outputs": [],
   "source": [
    "def message1():\n",
    "    print('A')\n",
    "\n",
    "def message2():\n",
    "    print('B')\n",
    "    \n",
    "def message3():\n",
    "    for i in range(3):\n",
    "        message2()\n",
    "        print('C')\n",
    "    message1()\n",
    "\n",
    "message3()\n",
    "\n",
    "# B\n",
    "# C\n",
    "# B\n",
    "# C\n",
    "# B\n",
    "# C\n",
    "# A\n",
    "    "
   ]
  },
  {
   "cell_type": "markdown",
   "id": "99819194",
   "metadata": {},
   "source": [
    "# 211 ~ 220 파이썬 함수"
   ]
  },
  {
   "cell_type": "markdown",
   "id": "b2e0891e",
   "metadata": {},
   "source": [
    "211."
   ]
  },
  {
   "cell_type": "code",
   "execution_count": 1,
   "id": "a8b3de7a",
   "metadata": {},
   "outputs": [
    {
     "name": "stdout",
     "output_type": "stream",
     "text": [
      "안녕\n",
      "Hi\n"
     ]
    }
   ],
   "source": [
    "def 함수(문자열):\n",
    "    print(문자열)\n",
    "\n",
    "함수('안녕')\n",
    "함수('Hi')\n",
    "\n",
    "# '안녕'\n",
    "# 'Hi'"
   ]
  },
  {
   "cell_type": "code",
   "execution_count": 2,
   "id": "cbac5ebe",
   "metadata": {},
   "outputs": [
    {
     "name": "stdout",
     "output_type": "stream",
     "text": [
      "7\n",
      "15\n"
     ]
    }
   ],
   "source": [
    "def 함수(a,b):\n",
    "    print(a+b)\n",
    "    \n",
    "함수(3,4)\n",
    "함수(7,8)\n",
    "\n",
    "# 7\n",
    "# 15"
   ]
  },
  {
   "cell_type": "markdown",
   "id": "7202bc99",
   "metadata": {},
   "source": [
    "213"
   ]
  },
  {
   "cell_type": "code",
   "execution_count": 3,
   "id": "516750ee",
   "metadata": {},
   "outputs": [
    {
     "ename": "TypeError",
     "evalue": "함수() missing 1 required positional argument: '문자열'",
     "output_type": "error",
     "traceback": [
      "\u001b[0;31m---------------------------------------------------------------------------\u001b[0m",
      "\u001b[0;31mTypeError\u001b[0m                                 Traceback (most recent call last)",
      "Cell \u001b[0;32mIn[3], line 4\u001b[0m\n\u001b[1;32m      1\u001b[0m \u001b[38;5;28;01mdef\u001b[39;00m \u001b[38;5;21m함수\u001b[39m(문자열):\n\u001b[1;32m      2\u001b[0m     \u001b[38;5;28mprint\u001b[39m(문자열)\n\u001b[0;32m----> 4\u001b[0m 함수()\n",
      "\u001b[0;31mTypeError\u001b[0m: 함수() missing 1 required positional argument: '문자열'"
     ]
    }
   ],
   "source": [
    "def 함수(문자열):\n",
    "    print(문자열)\n",
    "\n",
    "함수()\n",
    "\n",
    "# 변수 입력 안해줘서 오류 발생 --> !파라미터!"
   ]
  },
  {
   "cell_type": "markdown",
   "id": "abe81e12",
   "metadata": {},
   "source": [
    "214"
   ]
  },
  {
   "cell_type": "code",
   "execution_count": 4,
   "id": "8858059b",
   "metadata": {},
   "outputs": [
    {
     "ename": "TypeError",
     "evalue": "can only concatenate str (not \"int\") to str",
     "output_type": "error",
     "traceback": [
      "\u001b[0;31m---------------------------------------------------------------------------\u001b[0m",
      "\u001b[0;31mTypeError\u001b[0m                                 Traceback (most recent call last)",
      "Cell \u001b[0;32mIn[4], line 4\u001b[0m\n\u001b[1;32m      1\u001b[0m \u001b[38;5;28;01mdef\u001b[39;00m \u001b[38;5;21m함수\u001b[39m(a,b):\n\u001b[1;32m      2\u001b[0m     \u001b[38;5;28mprint\u001b[39m(a\u001b[38;5;241m+\u001b[39mb)\n\u001b[0;32m----> 4\u001b[0m 함수(\u001b[38;5;124m'\u001b[39m\u001b[38;5;124m안녕\u001b[39m\u001b[38;5;124m'\u001b[39m,\u001b[38;5;241m3\u001b[39m)\n",
      "Cell \u001b[0;32mIn[4], line 2\u001b[0m, in \u001b[0;36m함수\u001b[0;34m(a, b)\u001b[0m\n\u001b[1;32m      1\u001b[0m \u001b[38;5;28;01mdef\u001b[39;00m \u001b[38;5;21m함수\u001b[39m(a,b):\n\u001b[0;32m----> 2\u001b[0m     \u001b[38;5;28mprint\u001b[39m(a\u001b[38;5;241m+\u001b[39mb)\n",
      "\u001b[0;31mTypeError\u001b[0m: can only concatenate str (not \"int\") to str"
     ]
    }
   ],
   "source": [
    "def 함수(a,b):\n",
    "    print(a+b)\n",
    "\n",
    "함수('안녕',3)   # 문자열 + int (X)"
   ]
  },
  {
   "cell_type": "markdown",
   "id": "23d5ee8e",
   "metadata": {},
   "source": [
    "# 215 - 인자값에 무슨 문제가 있어서 오류가 발생하는가? - 강의 들어보기"
   ]
  },
  {
   "cell_type": "code",
   "execution_count": 34,
   "id": "71c15b63",
   "metadata": {},
   "outputs": [
    {
     "name": "stdout",
     "output_type": "stream",
     "text": [
      "Good\n",
      "Good:D\n"
     ]
    }
   ],
   "source": [
    "a = input()\n",
    "\n",
    "def print_with_smile():\n",
    "    print(a+':D')\n",
    "\n",
    "print_with_smile()"
   ]
  },
  {
   "cell_type": "code",
   "execution_count": 40,
   "id": "d6d428d0",
   "metadata": {},
   "outputs": [
    {
     "name": "stdout",
     "output_type": "stream",
     "text": [
      "Good:D\n"
     ]
    }
   ],
   "source": [
    "# Answer\n",
    "\n",
    "def print_with_smile(string):\n",
    "    print(string+':D')\n",
    "\n",
    "print_with_smile('Good')"
   ]
  },
  {
   "cell_type": "code",
   "execution_count": 39,
   "id": "7bdf172c",
   "metadata": {},
   "outputs": [
    {
     "ename": "NameError",
     "evalue": "name 'nice' is not defined",
     "output_type": "error",
     "traceback": [
      "\u001b[0;31m---------------------------------------------------------------------------\u001b[0m",
      "\u001b[0;31mNameError\u001b[0m                                 Traceback (most recent call last)",
      "Cell \u001b[0;32mIn[39], line 4\u001b[0m\n\u001b[1;32m      1\u001b[0m \u001b[38;5;28;01mdef\u001b[39;00m \u001b[38;5;21msmile\u001b[39m(a):\n\u001b[1;32m      2\u001b[0m     \u001b[38;5;28mprint\u001b[39m(a\u001b[38;5;241m+\u001b[39m\u001b[38;5;124m'\u001b[39m\u001b[38;5;124m:D\u001b[39m\u001b[38;5;124m'\u001b[39m)\n\u001b[0;32m----> 4\u001b[0m print_with_smile(nice)\n",
      "\u001b[0;31mNameError\u001b[0m: name 'nice' is not defined"
     ]
    }
   ],
   "source": [
    "def smile(a):\n",
    "    print(a+':D')\n",
    "\n",
    "print_with_smile(nice)   # 함수 호출시 입력된 인자값에 문제가 있음. 무슨 문제가 있을까 ?!"
   ]
  },
  {
   "cell_type": "markdown",
   "id": "f28ba736",
   "metadata": {},
   "source": [
    "216."
   ]
  },
  {
   "cell_type": "code",
   "execution_count": 41,
   "id": "0a6cbce8",
   "metadata": {},
   "outputs": [
    {
     "name": "stdout",
     "output_type": "stream",
     "text": [
      "안녕하세요:D\n"
     ]
    }
   ],
   "source": [
    "print_with_smile('안녕하세요')"
   ]
  },
  {
   "cell_type": "code",
   "execution_count": 42,
   "id": "c8bec9c2",
   "metadata": {},
   "outputs": [
    {
     "name": "stdout",
     "output_type": "stream",
     "text": [
      "1300.0\n"
     ]
    }
   ],
   "source": [
    "def print_upper_price(current_price):\n",
    "    print(current_price*1.3)\n",
    "\n",
    "print_upper_price(1000)\n"
   ]
  },
  {
   "cell_type": "code",
   "execution_count": 44,
   "id": "7bdd5a9a",
   "metadata": {},
   "outputs": [
    {
     "name": "stdout",
     "output_type": "stream",
     "text": [
      "60\n"
     ]
    }
   ],
   "source": [
    "def print_sum(a,b):\n",
    "    print((a+b))\n",
    "    \n",
    "print_sum(10,50)"
   ]
  },
  {
   "cell_type": "code",
   "execution_count": 46,
   "id": "ada4fbd3",
   "metadata": {},
   "outputs": [
    {
     "name": "stdout",
     "output_type": "stream",
     "text": [
      "sum :  110\n",
      "minus:  90\n",
      "mutiple:  1000\n",
      "devide:  10.0\n"
     ]
    }
   ],
   "source": [
    "def print_arithmetic_operation(a,b):\n",
    "    print('sum : ',a+b)\n",
    "    print('minus: ',a-b)\n",
    "    print('mutiple: ',a*b)\n",
    "    print('devide: ',a/b)\n",
    "    \n",
    "print_arithmetic_operation(100,10)"
   ]
  },
  {
   "cell_type": "markdown",
   "id": "df6c1fbb",
   "metadata": {},
   "source": [
    "# 220.  문제해설 이해 안감 ???"
   ]
  },
  {
   "cell_type": "code",
   "execution_count": 47,
   "id": "c964860a",
   "metadata": {},
   "outputs": [
    {
     "name": "stdout",
     "output_type": "stream",
     "text": [
      "10\n"
     ]
    }
   ],
   "source": [
    "def print_max(a,b,c):\n",
    "    if a > b and a > c:\n",
    "        print(a)\n",
    "    elif b > c:\n",
    "        print(b)\n",
    "    else:\n",
    "        print(c)\n",
    "\n",
    "print_max(9,8,10)"
   ]
  },
  {
   "cell_type": "code",
   "execution_count": 49,
   "id": "81abc7ef",
   "metadata": {},
   "outputs": [
    {
     "name": "stdout",
     "output_type": "stream",
     "text": [
      "9\n"
     ]
    }
   ],
   "source": [
    "# Answer\n",
    "\n",
    "def print_max(a,b,c):\n",
    "    max_val = 0\n",
    "    if a > max_val:\n",
    "        max_val = a\n",
    "    if b > max_val:\n",
    "        max_val = b\n",
    "    if c > max_val:\n",
    "        max_val = c\n",
    "    print(max_val)\n",
    "    \n",
    "print_max(9,8,5)"
   ]
  },
  {
   "cell_type": "markdown",
   "id": "0536ce27",
   "metadata": {},
   "source": [
    "# 221 ~ 230 파이썬 함수"
   ]
  },
  {
   "cell_type": "markdown",
   "id": "f2d014f8",
   "metadata": {},
   "source": [
    "221."
   ]
  },
  {
   "cell_type": "code",
   "execution_count": 51,
   "id": "9dde4482",
   "metadata": {},
   "outputs": [
    {
     "name": "stdout",
     "output_type": "stream",
     "text": [
      "taerG\n"
     ]
    }
   ],
   "source": [
    "# 입력된 문자열을 역순으로 출력하는 함수\n",
    "\n",
    "def print_reverse(string):\n",
    "    for i in string:\n",
    "        x = string[::-1]\n",
    "    print(x)\n",
    "    \n",
    "print_reverse('Great')\n"
   ]
  },
  {
   "cell_type": "code",
   "execution_count": 52,
   "id": "a309637b",
   "metadata": {},
   "outputs": [
    {
     "name": "stdout",
     "output_type": "stream",
     "text": [
      "taerG\n",
      "taerG\n",
      "taerG\n",
      "taerG\n",
      "taerG\n"
     ]
    }
   ],
   "source": [
    "def print_reverse(string):\n",
    "    for i in string:\n",
    "        print(string[::-1])   # i를 인자값으로 받은 문자열의 문자 수 만큼 반복하기 때문에 이 경우 총 5번 출력됨\n",
    "    \n",
    "print_reverse('Great')"
   ]
  },
  {
   "cell_type": "code",
   "execution_count": 54,
   "id": "971530f8",
   "metadata": {},
   "outputs": [
    {
     "name": "stdout",
     "output_type": "stream",
     "text": [
      "boJ dooG\n"
     ]
    }
   ],
   "source": [
    "# Answer\n",
    "\n",
    "def print_reverse(string):\n",
    "    print(string[::-1])\n",
    "    \n",
    "print_reverse('Good Job')"
   ]
  },
  {
   "cell_type": "markdown",
   "id": "2b8cc790",
   "metadata": {},
   "source": [
    "222."
   ]
  },
  {
   "cell_type": "code",
   "execution_count": 65,
   "id": "b4347dea",
   "metadata": {},
   "outputs": [
    {
     "name": "stdout",
     "output_type": "stream",
     "text": [
      "80.0\n"
     ]
    }
   ],
   "source": [
    "# 성적 리스트를 입력받아 평균을 출력하는 함수  [50,90,100] / 80\n",
    "\n",
    "def print_score(a):\n",
    "    sum = 0\n",
    "    for i in a:\n",
    "        sum = sum + i\n",
    "        \n",
    "        x = sum / len(a)\n",
    "    print(x)\n",
    "\n",
    "print_score([50,90,100])\n",
    "    "
   ]
  },
  {
   "cell_type": "markdown",
   "id": "b2e942d9",
   "metadata": {},
   "source": [
    "223."
   ]
  },
  {
   "cell_type": "code",
   "execution_count": 66,
   "id": "17e17593",
   "metadata": {},
   "outputs": [
    {
     "name": "stdout",
     "output_type": "stream",
     "text": [
      "[2, 10]\n"
     ]
    }
   ],
   "source": [
    "#  리스트를 입력받아 짝수만 화면에 출력   # [1,3,2,10]\n",
    "\n",
    "def print_even(a):\n",
    "    x = []\n",
    "    \n",
    "    for i in a:\n",
    "        if i%2 == 0:\n",
    "            x.append(i)\n",
    "    print(x)\n",
    "    \n",
    "print_even([1,3,2,10])   # x = []의 위치에 따라 달라지는 결과값 확인해보기 !"
   ]
  },
  {
   "cell_type": "code",
   "execution_count": 67,
   "id": "6be44579",
   "metadata": {},
   "outputs": [
    {
     "name": "stdout",
     "output_type": "stream",
     "text": [
      "[10]\n"
     ]
    }
   ],
   "source": [
    "#  리스트를 입력받아 짝수만 화면에 출력   # [1,3,2,10]\n",
    "\n",
    "def print_even(a):\n",
    "    \n",
    "    for i in a:\n",
    "        x = []               # for문의 루프가 새로 돌아갈 때마다 리스트 x가 텅 빈 상태에서 시작 > 맨 마지막 x만 출력\n",
    "        if i%2 == 0:\n",
    "            x.append(i)\n",
    "    print(x)\n",
    "    \n",
    "print_even([1,3,2,10])"
   ]
  },
  {
   "cell_type": "code",
   "execution_count": 70,
   "id": "58b9c064",
   "metadata": {},
   "outputs": [
    {
     "name": "stdout",
     "output_type": "stream",
     "text": [
      "2\n",
      "10\n"
     ]
    }
   ],
   "source": [
    "# Answer\n",
    "\n",
    "def print_even(a):\n",
    "    for i in a:\n",
    "        if i%2 == 0:\n",
    "            print(i)\n",
    "            \n",
    "print_even([1,3,2,10])"
   ]
  },
  {
   "cell_type": "markdown",
   "id": "65f7122e",
   "metadata": {},
   "source": [
    "# 224. keys()  함수 복습"
   ]
  },
  {
   "cell_type": "code",
   "execution_count": 71,
   "id": "ed5d8b1a",
   "metadata": {},
   "outputs": [
    {
     "name": "stdout",
     "output_type": "stream",
     "text": [
      "과자\n",
      "과일\n",
      "커피\n"
     ]
    }
   ],
   "source": [
    "def print_keys(a):\n",
    "    for k,v in a.items():\n",
    "        print(k)\n",
    "\n",
    "print_keys({'과자':1000,'과일':3000,'커피':500})  "
   ]
  },
  {
   "cell_type": "code",
   "execution_count": 73,
   "id": "7767855b",
   "metadata": {},
   "outputs": [
    {
     "name": "stdout",
     "output_type": "stream",
     "text": [
      "과자\n",
      "과일\n",
      "커피\n"
     ]
    }
   ],
   "source": [
    "# Answer\n",
    "\n",
    "def print_keys(a):\n",
    "    for i in a.keys():\n",
    "        print(i)\n",
    "        \n",
    "print_keys({'과자':1000,'과일':3000,'커피':500})  "
   ]
  },
  {
   "cell_type": "markdown",
   "id": "653fcbf4",
   "metadata": {},
   "source": [
    "225."
   ]
  },
  {
   "cell_type": "code",
   "execution_count": 77,
   "id": "edd43758",
   "metadata": {},
   "outputs": [
    {
     "name": "stdout",
     "output_type": "stream",
     "text": [
      "Please enter date: 10/26\n",
      "[100, 130, 100, 100]\n"
     ]
    }
   ],
   "source": [
    "# 키을 입력받아 해당 키값을 출력하는 함수\n",
    "\n",
    "my_dict = {\n",
    "    '10/26':[100,130,100,100],\n",
    "    '10/27':[10,12,10,11]\n",
    "}\n",
    "\n",
    "def print_value_by_key(a):\n",
    "    b = input('Please enter date: ')\n",
    "    \n",
    "    for k,v in a.items():\n",
    "        if b == k:\n",
    "            print(a[k])\n",
    "\n",
    "print_value_by_key(my_dict)"
   ]
  },
  {
   "cell_type": "code",
   "execution_count": 80,
   "id": "6138d9cf",
   "metadata": {},
   "outputs": [
    {
     "name": "stdout",
     "output_type": "stream",
     "text": [
      "[10, 12, 10, 11]\n"
     ]
    }
   ],
   "source": [
    "# Answer\n",
    "\n",
    "def print_value_by_key(a,key):\n",
    "    print(a[key])\n",
    "\n",
    "print_value_by_key(my_dict,'10/27')"
   ]
  },
  {
   "cell_type": "markdown",
   "id": "948a0331",
   "metadata": {},
   "source": [
    "# 226. 해설이 이해가 안감"
   ]
  },
  {
   "cell_type": "code",
   "execution_count": 117,
   "id": "5ea55037",
   "metadata": {},
   "outputs": [
    {
     "name": "stdout",
     "output_type": "stream",
     "text": [
      "하이데얼하\n",
      "우아유굿헤\n",
      "브어나이스\n",
      "데이\n"
     ]
    }
   ],
   "source": [
    "# 입력 문자열을 한 줄에 다섯글자씩 출력하는 함수  # 하이데얼하.우아유굿헤.브어나이스.데이 (17 > 5/5/5/3)\n",
    "\n",
    "def print_5xn(string):\n",
    "     \n",
    "    x = len(string)//5  # x = 3\n",
    "    y = len(string)%5  # y = 2\n",
    "    z = 5*x\n",
    "    \n",
    "    for i in range(x):   # i = 0, 1, 2 \n",
    "        print(string[5*i:5*(i+1)])\n",
    "    \n",
    "    for i in range(1,len(string)+1):   # i = 1 ~ 17\n",
    "        if i == z:\n",
    "            print(string[z:])\n",
    "\n",
    "print_5xn('하이데얼하우아유굿헤브어나이스데이')"
   ]
  },
  {
   "cell_type": "code",
   "execution_count": 121,
   "id": "db35c99c",
   "metadata": {},
   "outputs": [
    {
     "name": "stdout",
     "output_type": "stream",
     "text": [
      "하이데얼하\n",
      "우아유굿헤\n",
      "브어나이스\n",
      "데이\n"
     ]
    }
   ],
   "source": [
    "# Answer\n",
    "\n",
    "def print_5xn(line):\n",
    "    chunk_num = int(len(line)/5)\n",
    "    for i in range(chunk_num+1):\n",
    "        print(line[i * 5: i * 5 + 5])\n",
    "        \n",
    "print_5xn('하이데얼하우아유굿헤브어나이스데이')"
   ]
  },
  {
   "cell_type": "code",
   "execution_count": 116,
   "id": "a000f2b7",
   "metadata": {},
   "outputs": [
    {
     "ename": "TypeError",
     "evalue": "'int' object is not iterable",
     "output_type": "error",
     "traceback": [
      "\u001b[0;31m---------------------------------------------------------------------------\u001b[0m",
      "\u001b[0;31mTypeError\u001b[0m                                 Traceback (most recent call last)",
      "Cell \u001b[0;32mIn[116], line 16\u001b[0m\n\u001b[1;32m     13\u001b[0m     \u001b[38;5;28;01mfor\u001b[39;00m i \u001b[38;5;129;01min\u001b[39;00m x:   \u001b[38;5;66;03m# i = 0, 1, 2   // 정수형(int)는 for문으로 돌릴 수 없다. 이때 range() 함수를 써주면 된다 \u001b[39;00m\n\u001b[1;32m     14\u001b[0m         \u001b[38;5;28mprint\u001b[39m(string[\u001b[38;5;241m5\u001b[39m\u001b[38;5;241m*\u001b[39mi:\u001b[38;5;241m5\u001b[39m\u001b[38;5;241m*\u001b[39m(i\u001b[38;5;241m+\u001b[39m\u001b[38;5;241m1\u001b[39m)])\n\u001b[0;32m---> 16\u001b[0m print_5xn(\u001b[38;5;124m'\u001b[39m\u001b[38;5;124m하이데얼하우아유굿헤브어나이스데이\u001b[39m\u001b[38;5;124m'\u001b[39m)\n",
      "Cell \u001b[0;32mIn[116], line 13\u001b[0m, in \u001b[0;36mprint_5xn\u001b[0;34m(string)\u001b[0m\n\u001b[1;32m     10\u001b[0m x \u001b[38;5;241m=\u001b[39m \u001b[38;5;28mlen\u001b[39m(string)\u001b[38;5;241m/\u001b[39m\u001b[38;5;241m/\u001b[39m\u001b[38;5;241m5\u001b[39m  \u001b[38;5;66;03m# x = 3\u001b[39;00m\n\u001b[1;32m     11\u001b[0m y \u001b[38;5;241m=\u001b[39m \u001b[38;5;28mlen\u001b[39m(string)\u001b[38;5;241m%\u001b[39m\u001b[38;5;241m5\u001b[39m  \u001b[38;5;66;03m# y = 2\u001b[39;00m\n\u001b[0;32m---> 13\u001b[0m \u001b[38;5;28;01mfor\u001b[39;00m i \u001b[38;5;129;01min\u001b[39;00m x:   \u001b[38;5;66;03m# i = 0, 1, 2   // 정수형(int)는 for문으로 돌릴 수 없다. 이때 range() 함수를 써주면 된다 \u001b[39;00m\n\u001b[1;32m     14\u001b[0m     \u001b[38;5;28mprint\u001b[39m(string[\u001b[38;5;241m5\u001b[39m\u001b[38;5;241m*\u001b[39mi:\u001b[38;5;241m5\u001b[39m\u001b[38;5;241m*\u001b[39m(i\u001b[38;5;241m+\u001b[39m\u001b[38;5;241m1\u001b[39m)])\n",
      "\u001b[0;31mTypeError\u001b[0m: 'int' object is not iterable"
     ]
    }
   ],
   "source": [
    "# Error\n",
    "\n",
    "# 입력 문자열을 한 줄에 다섯글자씩 출력하는 함수  # 하이데얼하.우아유굿헤.브어나이스.데이 (17 > 5/5/5/3)\n",
    "\n",
    "def print_5xn(string):\n",
    "    # print(string[:5])\n",
    "    # print(string[5:10])\n",
    "    # print(string[10:15])\n",
    "     \n",
    "    x = len(string)//5  # x = 3\n",
    "    y = len(string)%5  # y = 2\n",
    "    \n",
    "    for i in x:   # i = 0, 1, 2   // 정수형(int)는 for문으로 돌릴 수 없다. 이때 range() 함수를 써주면 된다 \n",
    "        print(string[5*i:5*(i+1)])\n",
    "\n",
    "print_5xn('하이데얼하우아유굿헤브어나이스데이')"
   ]
  },
  {
   "cell_type": "code",
   "execution_count": 118,
   "id": "78c642e4",
   "metadata": {},
   "outputs": [
    {
     "name": "stdout",
     "output_type": "stream",
     "text": [
      "하이데얼하\n",
      "우아유굿헤\n",
      "브어나이스\n"
     ]
    },
    {
     "ename": "TypeError",
     "evalue": "string indices must be integers, not 'str'",
     "output_type": "error",
     "traceback": [
      "\u001b[0;31m---------------------------------------------------------------------------\u001b[0m",
      "\u001b[0;31mTypeError\u001b[0m                                 Traceback (most recent call last)",
      "Cell \u001b[0;32mIn[118], line 18\u001b[0m\n\u001b[1;32m     15\u001b[0m         \u001b[38;5;28;01mif\u001b[39;00m \u001b[38;5;28mlen\u001b[39m(string[i]) \u001b[38;5;241m==\u001b[39m z:   \u001b[38;5;66;03m# 문자열의 인덱스는 정수형만 넣을 수 있다. 이때 string[i]에서 i는 정수형이 아니기 때문에 오류 발생\u001b[39;00m\n\u001b[1;32m     16\u001b[0m             \u001b[38;5;28mprint\u001b[39m(string[z:])\n\u001b[0;32m---> 18\u001b[0m print_5xn(\u001b[38;5;124m'\u001b[39m\u001b[38;5;124m하이데얼하우아유굿헤브어나이스데이\u001b[39m\u001b[38;5;124m'\u001b[39m)\n",
      "Cell \u001b[0;32mIn[118], line 15\u001b[0m, in \u001b[0;36mprint_5xn\u001b[0;34m(string)\u001b[0m\n\u001b[1;32m     12\u001b[0m     \u001b[38;5;28mprint\u001b[39m(string[\u001b[38;5;241m5\u001b[39m\u001b[38;5;241m*\u001b[39mi:\u001b[38;5;241m5\u001b[39m\u001b[38;5;241m*\u001b[39m(i\u001b[38;5;241m+\u001b[39m\u001b[38;5;241m1\u001b[39m)])\n\u001b[1;32m     14\u001b[0m \u001b[38;5;28;01mfor\u001b[39;00m i \u001b[38;5;129;01min\u001b[39;00m string:   \u001b[38;5;66;03m# i = 1 ~ 17\u001b[39;00m\n\u001b[0;32m---> 15\u001b[0m     \u001b[38;5;28;01mif\u001b[39;00m \u001b[38;5;28mlen\u001b[39m(string[i]) \u001b[38;5;241m==\u001b[39m z:   \u001b[38;5;66;03m# 문자열의 인덱스는 정수형만 넣을 수 있다. 이때 string[i]에서 i는 정수형이 아니기 때문에 오류 발생\u001b[39;00m\n\u001b[1;32m     16\u001b[0m         \u001b[38;5;28mprint\u001b[39m(string[z:])\n",
      "\u001b[0;31mTypeError\u001b[0m: string indices must be integers, not 'str'"
     ]
    }
   ],
   "source": [
    "# Error\n",
    "\n",
    "# 입력 문자열을 한 줄에 다섯글자씩 출력하는 함수  # 하이데얼하.우아유굿헤.브어나이스.데이 (17 > 5/5/5/3)\n",
    "\n",
    "def print_5xn(string):\n",
    "     \n",
    "    x = len(string)//5  # x = 3\n",
    "    y = len(string)%5  # y = 2\n",
    "    z = 5*x\n",
    "    \n",
    "    for i in range(x):   # i = 0, 1, 2 \n",
    "        print(string[5*i:5*(i+1)])\n",
    "    \n",
    "    for i in string:   # i = 1 ~ 17\n",
    "        if len(string[i]) == z:   # 문자열의 인덱스는 정수형만 넣을 수 있다. 이때 string[i]에서 i는 정수형이 아니기 때문에 오류 발생\n",
    "            print(string[z:])\n",
    "\n",
    "print_5xn('하이데얼하우아유굿헤브어나이스데이')"
   ]
  },
  {
   "cell_type": "markdown",
   "id": "8e8199be",
   "metadata": {},
   "source": [
    "# 227. 문제해설이 이해가 안감.."
   ]
  },
  {
   "cell_type": "code",
   "execution_count": 124,
   "id": "716b85da",
   "metadata": {},
   "outputs": [
    {
     "name": "stdout",
     "output_type": "stream",
     "text": [
      "하이\n",
      "데얼\n",
      "하우\n",
      "아유\n",
      "굿헤\n",
      "브어\n",
      "나이\n",
      "스데\n",
      "이\n"
     ]
    }
   ],
   "source": [
    "# 문자열과 한줄에 출력될 글자 수를 입력받아 문자열을 글자 수 만큼 출력하는 함수를 작성하라\n",
    "\n",
    "def print_mxn(string,num):\n",
    "    \n",
    "    x = len(string)//num  # x = 3\n",
    "    y = len(string)%num  # y = 2\n",
    "    z = num*x\n",
    "    \n",
    "    for i in range(x):   # i = 0, 1, 2 \n",
    "        print(string[num*i:num*(i+1)])\n",
    "    \n",
    "    for i in range(1,len(string)+1):   # i = 1 ~ 17\n",
    "        if i == z:\n",
    "            print(string[z:])\n",
    "\n",
    "\n",
    "print_mxn('하이데얼하우아유굿헤브어나이스데이',2)"
   ]
  },
  {
   "cell_type": "code",
   "execution_count": 127,
   "id": "98c0004e",
   "metadata": {},
   "outputs": [
    {
     "name": "stdout",
     "output_type": "stream",
     "text": [
      "하이\n",
      "데얼\n",
      "하우\n",
      "아유\n",
      "굿헤\n",
      "브어\n",
      "나이\n",
      "스데\n",
      "이\n"
     ]
    }
   ],
   "source": [
    "def print_num(line,num):\n",
    "    chunk_num = int(len(line)/num)\n",
    "    for x in range(chunk_num+1):\n",
    "        print(line[x*num:x*num+num])\n",
    "\n",
    "print_mxn('하이데얼하우아유굿헤브어나이스데이',2)"
   ]
  },
  {
   "cell_type": "markdown",
   "id": "d8df4351",
   "metadata": {},
   "source": [
    "228."
   ]
  },
  {
   "cell_type": "code",
   "execution_count": 129,
   "id": "3aede00d",
   "metadata": {},
   "outputs": [
    {
     "data": {
      "text/plain": [
       "3500000"
      ]
     },
     "execution_count": 129,
     "metadata": {},
     "output_type": "execute_result"
    }
   ],
   "source": [
    "# 연봉을 입력받아 월급을 계산하는 함수를 정의하라. 연봉은 12개월 분할 지급이며, 이때 1원 미만은 버림한다.\n",
    "\n",
    "def calc_monthly_salary(a):\n",
    "    monthly_paycheck = int(a/12)\n",
    "    return monthly_paycheck\n",
    "    \n",
    "calc_monthly_salary(42000000)"
   ]
  },
  {
   "cell_type": "markdown",
   "id": "7d076d9d",
   "metadata": {},
   "source": [
    "229."
   ]
  },
  {
   "cell_type": "code",
   "execution_count": 131,
   "id": "cb4594d0",
   "metadata": {},
   "outputs": [
    {
     "name": "stdout",
     "output_type": "stream",
     "text": [
      "왼쪽: 100\n",
      "오른쪽: 200\n"
     ]
    }
   ],
   "source": [
    "def my_print(a,b):\n",
    "    print('왼쪽:',a)\n",
    "    print('오른쪽:',b)\n",
    "    \n",
    "my_print(a=100,b=200)\n",
    "\n",
    "# 왼쪽: 100\n",
    "# 오른쪽: 200   - 프린트 속 컴마는 공백을 의미한다"
   ]
  },
  {
   "cell_type": "markdown",
   "id": "d51412f4",
   "metadata": {},
   "source": [
    "230."
   ]
  },
  {
   "cell_type": "code",
   "execution_count": 132,
   "id": "95b88351",
   "metadata": {},
   "outputs": [
    {
     "name": "stdout",
     "output_type": "stream",
     "text": [
      "왼쪽: 100\n",
      "오른쪽: 200\n"
     ]
    }
   ],
   "source": [
    "def my_print(a,b):\n",
    "    print('왼쪽:',a)\n",
    "    print('오른쪽:',b)\n",
    "    \n",
    "my_print(b=100,a=200)\n",
    "\n",
    "# 왼쪽: 200\n",
    "# 오른쪽: 100   - 프린트 속 컴마는 공백을 의미한다"
   ]
  },
  {
   "cell_type": "markdown",
   "id": "616b7083",
   "metadata": {},
   "source": [
    "# 231 ~ 240"
   ]
  },
  {
   "cell_type": "markdown",
   "id": "0ca0c7ad",
   "metadata": {},
   "source": [
    "231."
   ]
  },
  {
   "cell_type": "code",
   "execution_count": 133,
   "id": "6fe38d89",
   "metadata": {},
   "outputs": [
    {
     "ename": "TypeError",
     "evalue": "n_plus_1() takes 0 positional arguments but 1 was given",
     "output_type": "error",
     "traceback": [
      "\u001b[0;31m---------------------------------------------------------------------------\u001b[0m",
      "\u001b[0;31mTypeError\u001b[0m                                 Traceback (most recent call last)",
      "Cell \u001b[0;32mIn[133], line 4\u001b[0m\n\u001b[1;32m      1\u001b[0m \u001b[38;5;28;01mdef\u001b[39;00m \u001b[38;5;21mn_plus_1\u001b[39m():\n\u001b[1;32m      2\u001b[0m     result \u001b[38;5;241m=\u001b[39m n \u001b[38;5;241m+\u001b[39m \u001b[38;5;241m1\u001b[39m\n\u001b[0;32m----> 4\u001b[0m n_plus_1(\u001b[38;5;241m3\u001b[39m)\n\u001b[1;32m      5\u001b[0m \u001b[38;5;28mprint\u001b[39m(result)\n",
      "\u001b[0;31mTypeError\u001b[0m: n_plus_1() takes 0 positional arguments but 1 was given"
     ]
    }
   ],
   "source": [
    "def n_plus_1():\n",
    "    result = n + 1\n",
    "    \n",
    "n_plus_1(3)\n",
    "print(result)\n",
    "\n",
    "# 에러 : n_plus_1(3)는 4인데 이 값을 참조해주는게 없음. 또한 n_plus_1() 함수 밖에서 result는 정의되지 않았기 때문에 정의되지 않음이라고 나올듯"
   ]
  },
  {
   "cell_type": "markdown",
   "id": "bd8d524b",
   "metadata": {},
   "source": [
    "232."
   ]
  },
  {
   "cell_type": "code",
   "execution_count": 147,
   "id": "c02d5603",
   "metadata": {},
   "outputs": [
    {
     "data": {
      "text/plain": [
       "'www.naver.com'"
      ]
     },
     "execution_count": 147,
     "metadata": {},
     "output_type": "execute_result"
    }
   ],
   "source": [
    "# 문자열을 입력받아 안터넷 주소를 반환하는 함수를 정의하라\n",
    "\n",
    "def make_url(string):\n",
    "    url = 'www.'+string+'.com'\n",
    "    return url\n",
    "    \n",
    "make_url('naver')"
   ]
  },
  {
   "cell_type": "markdown",
   "id": "f8d1b2ba",
   "metadata": {},
   "source": [
    "233."
   ]
  },
  {
   "cell_type": "code",
   "execution_count": 148,
   "id": "a1a9b024",
   "metadata": {},
   "outputs": [
    {
     "data": {
      "text/plain": [
       "['s', 't', 'r', 'i', 'n', 'g']"
      ]
     },
     "execution_count": 148,
     "metadata": {},
     "output_type": "execute_result"
    }
   ],
   "source": [
    "# 문자열을 입력받아 각 문자들로 구성된 리스트를 반환하는 함수를 정의하라\n",
    "\n",
    "def make_list(string):\n",
    "    y = []\n",
    "    for i in range(len(string)):\n",
    "        x = string[i]\n",
    "        y.append(x)\n",
    "    return y\n",
    "\n",
    "make_list('string')"
   ]
  },
  {
   "cell_type": "code",
   "execution_count": 150,
   "id": "5c1cafa3",
   "metadata": {},
   "outputs": [
    {
     "data": {
      "text/plain": [
       "['s', 't', 'r', 'i', 'n', 'g']"
      ]
     },
     "execution_count": 150,
     "metadata": {},
     "output_type": "execute_result"
    }
   ],
   "source": [
    "# Answer\n",
    "\n",
    "def make_list(string):\n",
    "    y = []\n",
    "    for i in range(len(string)):\n",
    "        y.append(string[i])   # <-- Make it simple!\n",
    "    return y\n",
    "\n",
    "make_list('string')"
   ]
  },
  {
   "cell_type": "markdown",
   "id": "48234c8a",
   "metadata": {},
   "source": [
    "234."
   ]
  },
  {
   "cell_type": "code",
   "execution_count": 151,
   "id": "ceecfee1",
   "metadata": {},
   "outputs": [
    {
     "data": {
      "text/plain": [
       "[28, 6]"
      ]
     },
     "execution_count": 151,
     "metadata": {},
     "output_type": "execute_result"
    }
   ],
   "source": [
    "# 숫자로 구성된 하나의 리스트를 입력받아 짝수들을 추출하여 리스트로 반환하는 함수를 정의하라\n",
    "\n",
    "def pickup_even(a):\n",
    "    x = []\n",
    "    for i in a:\n",
    "        if i%2 == 0:\n",
    "            x.append(i)\n",
    "    return x\n",
    "\n",
    "pickup_even([1,3,67,3,28,6])"
   ]
  },
  {
   "cell_type": "markdown",
   "id": "a828e4e4",
   "metadata": {},
   "source": [
    "# 235. replace() 함수로 더 짧고 효율적인 코드를!"
   ]
  },
  {
   "cell_type": "code",
   "execution_count": 163,
   "id": "d48bd822",
   "metadata": {},
   "outputs": [
    {
     "data": {
      "text/plain": [
       "19234322"
      ]
     },
     "execution_count": 163,
     "metadata": {},
     "output_type": "execute_result"
    }
   ],
   "source": [
    "# 컴마가 포함된 문자열 숫자를 입력받아 정수로 변환하는 convert_int 함수를 정의하라\n",
    "# '1923,432,2'\n",
    "\n",
    "def convert_int(a):\n",
    "    x = a.split(',')\n",
    "    \n",
    "    total = ''\n",
    "    for i in x:\n",
    "        total = total + i\n",
    "    \n",
    "    y = int(total)\n",
    "    return y\n",
    "\n",
    "convert_int('1923,432,2')   "
   ]
  },
  {
   "cell_type": "code",
   "execution_count": 164,
   "id": "a1f27c08",
   "metadata": {},
   "outputs": [
    {
     "data": {
      "text/plain": [
       "19234322"
      ]
     },
     "execution_count": 164,
     "metadata": {},
     "output_type": "execute_result"
    }
   ],
   "source": [
    "# Answer\n",
    "\n",
    "def convert_int(a):\n",
    "    return int(a.replace(',',''))\n",
    "\n",
    "convert_int('1923,432,2') "
   ]
  },
  {
   "cell_type": "markdown",
   "id": "a4a35c21",
   "metadata": {},
   "source": [
    "236."
   ]
  },
  {
   "cell_type": "code",
   "execution_count": null,
   "id": "3ede458f",
   "metadata": {},
   "outputs": [],
   "source": [
    "def x(num):\n",
    "    return num + 4\n",
    "\n",
    "a = x(10) = 14\n",
    "b = x(a) = 18\n",
    "c = x(b) = 22\n",
    "print(c) \n",
    "\n",
    "# str+int = error (x) / 변수 a = 10이기 때문에 계속 간다\n"
   ]
  },
  {
   "cell_type": "markdown",
   "id": "c9f776e9",
   "metadata": {},
   "source": [
    "237."
   ]
  },
  {
   "cell_type": "code",
   "execution_count": 167,
   "id": "ff8f413b",
   "metadata": {},
   "outputs": [
    {
     "name": "stdout",
     "output_type": "stream",
     "text": [
      "22\n"
     ]
    }
   ],
   "source": [
    "def x(num):\n",
    "    return num + 4\n",
    "\n",
    "c = x(x(x(10)))\n",
    "print(c)\n",
    "\n",
    "# 22"
   ]
  },
  {
   "cell_type": "markdown",
   "id": "f0076a1b",
   "metadata": {},
   "source": [
    "238."
   ]
  },
  {
   "cell_type": "code",
   "execution_count": 169,
   "id": "ac306c49",
   "metadata": {},
   "outputs": [
    {
     "name": "stdout",
     "output_type": "stream",
     "text": [
      "140\n"
     ]
    }
   ],
   "source": [
    "def x1(num):\n",
    "    return num + 4\n",
    "\n",
    "def x2(num):\n",
    "    return num * 10\n",
    "\n",
    "a = x1(10) # 14\n",
    "c = x2(a) # 140 \n",
    "\n",
    "print(c)"
   ]
  },
  {
   "cell_type": "markdown",
   "id": "99c00f5f",
   "metadata": {},
   "source": [
    "239."
   ]
  },
  {
   "cell_type": "code",
   "execution_count": 170,
   "id": "fb8efa83",
   "metadata": {},
   "outputs": [
    {
     "name": "stdout",
     "output_type": "stream",
     "text": [
      "16\n"
     ]
    }
   ],
   "source": [
    "def x1(num):\n",
    "    return num + 4\n",
    "\n",
    "def x2(num):\n",
    "    num = num + 2\n",
    "    return x1(num)\n",
    "\n",
    "c = x2(10)\n",
    "print(c)   # 16"
   ]
  },
  {
   "cell_type": "code",
   "execution_count": null,
   "id": "fcc0dd0b",
   "metadata": {},
   "outputs": [],
   "source": []
  }
 ],
 "metadata": {
  "kernelspec": {
   "display_name": "Python 3 (ipykernel)",
   "language": "python",
   "name": "python3"
  },
  "language_info": {
   "codemirror_mode": {
    "name": "ipython",
    "version": 3
   },
   "file_extension": ".py",
   "mimetype": "text/x-python",
   "name": "python",
   "nbconvert_exporter": "python",
   "pygments_lexer": "ipython3",
   "version": "3.11.7"
  }
 },
 "nbformat": 4,
 "nbformat_minor": 5
}
