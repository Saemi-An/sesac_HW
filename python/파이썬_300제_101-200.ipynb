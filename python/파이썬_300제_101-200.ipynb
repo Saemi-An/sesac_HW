{
 "cells": [
  {
   "cell_type": "markdown",
   "id": "a5a28e76",
   "metadata": {},
   "source": [
    "# 파이썬 분기문"
   ]
  },
  {
   "cell_type": "markdown",
   "id": "34a66562",
   "metadata": {},
   "source": [
    "101."
   ]
  },
  {
   "cell_type": "code",
   "execution_count": 2,
   "id": "23ba0b02",
   "metadata": {},
   "outputs": [
    {
     "data": {
      "text/plain": [
       "bool"
      ]
     },
     "execution_count": 2,
     "metadata": {},
     "output_type": "execute_result"
    }
   ],
   "source": [
    "bool"
   ]
  },
  {
   "cell_type": "markdown",
   "id": "5806803d",
   "metadata": {},
   "source": [
    "102."
   ]
  },
  {
   "cell_type": "code",
   "execution_count": 5,
   "id": "deee4b7c",
   "metadata": {},
   "outputs": [
    {
     "name": "stdout",
     "output_type": "stream",
     "text": [
      "False\n"
     ]
    }
   ],
   "source": [
    "print(3 == 5)   # False"
   ]
  },
  {
   "cell_type": "code",
   "execution_count": 6,
   "id": "24d2868d",
   "metadata": {},
   "outputs": [
    {
     "name": "stdout",
     "output_type": "stream",
     "text": [
      "True\n"
     ]
    }
   ],
   "source": [
    "print(3 < 5)   # True"
   ]
  },
  {
   "cell_type": "markdown",
   "id": "f6d29cea",
   "metadata": {},
   "source": [
    "104."
   ]
  },
  {
   "cell_type": "code",
   "execution_count": 7,
   "id": "ce99261a",
   "metadata": {},
   "outputs": [
    {
     "name": "stdout",
     "output_type": "stream",
     "text": [
      "True\n"
     ]
    }
   ],
   "source": [
    "x = 4\n",
    "print(1 < x < 5)  # True"
   ]
  },
  {
   "cell_type": "markdown",
   "id": "3953c2cd",
   "metadata": {},
   "source": [
    "105."
   ]
  },
  {
   "cell_type": "code",
   "execution_count": 8,
   "id": "ada89c1f",
   "metadata": {},
   "outputs": [
    {
     "name": "stdout",
     "output_type": "stream",
     "text": [
      "True\n"
     ]
    }
   ],
   "source": [
    "print((3 == 3) and (4 != 3))   # True"
   ]
  },
  {
   "cell_type": "markdown",
   "id": "03df160e",
   "metadata": {},
   "source": [
    "106."
   ]
  },
  {
   "cell_type": "code",
   "execution_count": 10,
   "id": "034ad71f",
   "metadata": {},
   "outputs": [
    {
     "ename": "SyntaxError",
     "evalue": "expression cannot contain assignment, perhaps you meant \"==\"? (1159046408.py, line 1)",
     "output_type": "error",
     "traceback": [
      "\u001b[0;36m  Cell \u001b[0;32mIn[10], line 1\u001b[0;36m\u001b[0m\n\u001b[0;31m    print(3 => 4)   # 지원하지 않는 연산자\u001b[0m\n\u001b[0m          ^\u001b[0m\n\u001b[0;31mSyntaxError\u001b[0m\u001b[0;31m:\u001b[0m expression cannot contain assignment, perhaps you meant \"==\"?\n"
     ]
    }
   ],
   "source": [
    "print(3 => 4)   # 지원하지 않는 연산자"
   ]
  },
  {
   "cell_type": "markdown",
   "id": "83740a7b",
   "metadata": {},
   "source": [
    "107."
   ]
  },
  {
   "cell_type": "code",
   "execution_count": 12,
   "id": "8633fcaf",
   "metadata": {},
   "outputs": [],
   "source": [
    "if 4 < 3:\n",
    "    print('Hello World')   # 조건을 만족하지 않기 때문에(False) 아무 결과도 출력되지 않는다."
   ]
  },
  {
   "cell_type": "markdown",
   "id": "a9572c23",
   "metadata": {},
   "source": [
    "108."
   ]
  },
  {
   "cell_type": "code",
   "execution_count": 13,
   "id": "6721e7bf",
   "metadata": {},
   "outputs": [
    {
     "name": "stdout",
     "output_type": "stream",
     "text": [
      "Hi, there.\n"
     ]
    }
   ],
   "source": [
    "if 4 < 3:\n",
    "    print('Hello World')\n",
    "else:\n",
    "    print('Hi, there.')   # Hi, there."
   ]
  },
  {
   "cell_type": "markdown",
   "id": "5565e13e",
   "metadata": {},
   "source": [
    "# 109. True가 디폴트인가 ?? - 해설강의 듣기"
   ]
  },
  {
   "cell_type": "code",
   "execution_count": 14,
   "id": "1f6d93b2",
   "metadata": {},
   "outputs": [
    {
     "name": "stdout",
     "output_type": "stream",
     "text": [
      "1\n",
      "2\n",
      "4\n"
     ]
    }
   ],
   "source": [
    "if True : \n",
    "    print('1')\n",
    "    print('2')\n",
    "else :\n",
    "    print('3')\n",
    "print('4')   # 1 / 2 / 4"
   ]
  },
  {
   "cell_type": "markdown",
   "id": "fbc1861a",
   "metadata": {},
   "source": [
    "# 110.  - 해설강의 듣기"
   ]
  },
  {
   "cell_type": "code",
   "execution_count": 15,
   "id": "a7bc9596",
   "metadata": {},
   "outputs": [
    {
     "name": "stdout",
     "output_type": "stream",
     "text": [
      "3\n",
      "5\n"
     ]
    }
   ],
   "source": [
    "if True :\n",
    "    if False :\n",
    "        print('1')\n",
    "        print('2')\n",
    "    else :\n",
    "        print('3')\n",
    "else :\n",
    "    print('4')\n",
    "print('5')   # 3 / 5"
   ]
  },
  {
   "cell_type": "markdown",
   "id": "83e6f508",
   "metadata": {},
   "source": [
    "# 111 ~ 120. 파이썬 분기문 "
   ]
  },
  {
   "cell_type": "markdown",
   "id": "ac4f52c5",
   "metadata": {},
   "source": [
    "111."
   ]
  },
  {
   "cell_type": "code",
   "execution_count": null,
   "id": "899d284b",
   "metadata": {},
   "outputs": [],
   "source": [
    "# 사용자로부터 입력받은 값을 두 번 출력해라\n",
    "\n",
    "z = input('Please Enter: ')   # print(input('Please Enter: '))을 안하고 변수로 저장만 했는데도 출력되네?\n",
    "\n",
    "print(z+z)"
   ]
  },
  {
   "cell_type": "code",
   "execution_count": 10,
   "id": "1f92a5d6",
   "metadata": {},
   "outputs": [
    {
     "name": "stdout",
     "output_type": "stream",
     "text": [
      "Enter: \n",
      "\n"
     ]
    }
   ],
   "source": [
    "print(input('Enter: '))   # 사용자에게 입력하라는 창 출력 > 사용자가 입력하면 그 값을 리턴해줌"
   ]
  },
  {
   "cell_type": "markdown",
   "id": "82d1beab",
   "metadata": {},
   "source": [
    "112."
   ]
  },
  {
   "cell_type": "code",
   "execution_count": 16,
   "id": "18a2fee5",
   "metadata": {},
   "outputs": [
    {
     "name": "stdout",
     "output_type": "stream",
     "text": [
      "숫자를 입력하세요: 89\n",
      "99\n"
     ]
    }
   ],
   "source": [
    "x = input('숫자를 입력하세요: ')   # 사용자가 입력할 값을 정수로 받는다\n",
    "print(int(x)+10)"
   ]
  },
  {
   "cell_type": "markdown",
   "id": "6773adcc",
   "metadata": {},
   "source": [
    "113."
   ]
  },
  {
   "cell_type": "code",
   "execution_count": 17,
   "id": "d5df216c",
   "metadata": {},
   "outputs": [
    {
     "name": "stdout",
     "output_type": "stream",
     "text": [
      "Please enter : 19\n",
      "홀수\n"
     ]
    }
   ],
   "source": [
    "x = int(input('Please enter : '))   # 사용자 입력값은 str로 저장된다\n",
    "\n",
    "if x%2 == 0:\n",
    "    print('짝수')\n",
    "else:\n",
    "    print('홀수')"
   ]
  },
  {
   "cell_type": "markdown",
   "id": "02150bb0",
   "metadata": {},
   "source": [
    "114."
   ]
  },
  {
   "cell_type": "code",
   "execution_count": 20,
   "id": "d27b67a7",
   "metadata": {},
   "outputs": [
    {
     "name": "stdout",
     "output_type": "stream",
     "text": [
      "Please enter : 234\n",
      "254\n"
     ]
    }
   ],
   "source": [
    "x = int(input('Please enter : '))\n",
    "\n",
    "y = x+20\n",
    "\n",
    "if y > 255:\n",
    "    print(int(255))\n",
    "else :\n",
    "    print(y)"
   ]
  },
  {
   "cell_type": "markdown",
   "id": "81cb97e5",
   "metadata": {},
   "source": [
    "115."
   ]
  },
  {
   "cell_type": "code",
   "execution_count": 23,
   "id": "1bc33057",
   "metadata": {},
   "outputs": [
    {
     "name": "stdout",
     "output_type": "stream",
     "text": [
      "Please enter : 500\n",
      "255\n"
     ]
    }
   ],
   "source": [
    "x = int(input('Please enter : '))\n",
    "\n",
    "y = x - 20\n",
    "\n",
    "if 0 <= y <= 255:\n",
    "    print(y)\n",
    "elif y < 0:\n",
    "    print(int(0))\n",
    "else:\n",
    "    print(int(255))"
   ]
  },
  {
   "cell_type": "code",
   "execution_count": 24,
   "id": "517949a4",
   "metadata": {},
   "outputs": [
    {
     "name": "stdout",
     "output_type": "stream",
     "text": [
      "Please enter : 0\n",
      "0\n"
     ]
    }
   ],
   "source": [
    "x = int(input('Please enter : '))   # 더 한눈에 보기 쉽게 짠 코드!\n",
    "\n",
    "y = x - 20\n",
    "\n",
    "if y > 255:\n",
    "    print(255)\n",
    "elif y < 0:\n",
    "    print(0)\n",
    "else:\n",
    "    print(y)"
   ]
  },
  {
   "cell_type": "markdown",
   "id": "eb6a70b4",
   "metadata": {},
   "source": [
    "116."
   ]
  },
  {
   "cell_type": "code",
   "execution_count": 28,
   "id": "587dc87b",
   "metadata": {},
   "outputs": [
    {
     "name": "stdout",
     "output_type": "stream",
     "text": [
      "00:00 형식으로 시간을 입력해 주세요 : 02:12-\n",
      "정각이 아닙니다.\n"
     ]
    }
   ],
   "source": [
    "x = input('00:00 형식으로 시간을 입력해 주세요 : ')\n",
    "\n",
    "if x.endswith('00'):\n",
    "    print('정각 입니다.')\n",
    "else:\n",
    "    print('정각이 아닙니다.')"
   ]
  },
  {
   "cell_type": "markdown",
   "id": "0408ecba",
   "metadata": {},
   "source": [
    "# 117. 어떤 값이 자료형에 있는가 없는가? in 키워드"
   ]
  },
  {
   "cell_type": "code",
   "execution_count": 31,
   "id": "2fd62df5",
   "metadata": {},
   "outputs": [
    {
     "name": "stdout",
     "output_type": "stream",
     "text": [
      "좋아하는 과일은?포도\n",
      "정답입니다.\n"
     ]
    }
   ],
   "source": [
    "fruit = ['사과','포도','홍시']\n",
    "\n",
    "x = input('좋아하는 과일은?')\n",
    "\n",
    "for i in fruit:\n",
    "    if x == i:\n",
    "        print('정답입니다.')\n",
    "    else:\n",
    "        pass\n",
    "\n"
   ]
  },
  {
   "cell_type": "code",
   "execution_count": 32,
   "id": "0800603d",
   "metadata": {},
   "outputs": [
    {
     "name": "stdout",
     "output_type": "stream",
     "text": [
      "좋아하는 과일은?홍시\n",
      "정답입니다.\n"
     ]
    }
   ],
   "source": [
    "# in 키워드를 사용한 문제해설\n",
    "\n",
    "fruit = ['사과','포도','홍시']\n",
    "\n",
    "x = input('좋아하는 과일은?')\n",
    "\n",
    "if x in fruit:\n",
    "    print('정답입니다.')\n",
    "else:\n",
    "    print('오답입니다.')"
   ]
  },
  {
   "cell_type": "markdown",
   "id": "bbc77ac4",
   "metadata": {},
   "source": [
    "118."
   ]
  },
  {
   "cell_type": "code",
   "execution_count": 34,
   "id": "514aedd2",
   "metadata": {},
   "outputs": [
    {
     "name": "stdout",
     "output_type": "stream",
     "text": [
      "Please enter : Google\n",
      "투자 경고 종목입니다.\n"
     ]
    }
   ],
   "source": [
    "warn_investment_list = ['Microsoft','Google','Naver','Kakao','SAMSUNG','LG']\n",
    "\n",
    "x = input('Please enter : ')\n",
    "\n",
    "if x in warn_investment_list:\n",
    "    print('투자 경고 종목입니다.')\n",
    "else:\n",
    "    print('투자 경고 종목이 아닙니다.')"
   ]
  },
  {
   "cell_type": "markdown",
   "id": "10414790",
   "metadata": {},
   "source": [
    "# 119.  해설 강의 듣기\n",
    "\n",
    "딕셔너리에서 따로 키와 값의 구분 없이도 in 키워드를 써서 값이 있는지 없는지를 알 수 있음"
   ]
  },
  {
   "cell_type": "code",
   "execution_count": 36,
   "id": "ecb160b4",
   "metadata": {},
   "outputs": [
    {
     "name": "stdout",
     "output_type": "stream",
     "text": [
      "dict_keys(['봄', '여름', '가을'])\n"
     ]
    }
   ],
   "source": [
    "fruit = {\n",
    "    '봄':'딸기',\n",
    "    '여름':'토마토',\n",
    "    '가을':'사과'\n",
    "}\n",
    "\n",
    "k = fruit.keys()\n",
    "print(k)"
   ]
  },
  {
   "cell_type": "code",
   "execution_count": 40,
   "id": "07146e88",
   "metadata": {},
   "outputs": [
    {
     "name": "stdout",
     "output_type": "stream",
     "text": [
      "제일 좋아하는 계절은 : 딸기\n",
      "오답입니다.\n"
     ]
    }
   ],
   "source": [
    "x = input('제일 좋아하는 계절은 : ')    # 키의 데이터와 값의 데이터를 구분\n",
    "\n",
    "if x in k:\n",
    "    print('정답입니다.')\n",
    "else:\n",
    "    print('오답입니다.')"
   ]
  },
  {
   "cell_type": "code",
   "execution_count": 49,
   "id": "cc5f14f8",
   "metadata": {},
   "outputs": [
    {
     "name": "stdout",
     "output_type": "stream",
     "text": [
      "제일 좋아하는 계절은 : 딸기\n",
      "오답입니다.\n"
     ]
    }
   ],
   "source": [
    "fruit = {              # 해설 : 해설에서 딕셔너리 키와 값을 구분하지 않음. 이때 사용자가 value에 해당하는 입력을 하더라도 제대로 출력됨\n",
    "    '봄':'딸기',\n",
    "    '여름':'토마토',\n",
    "    '가을':'사과'\n",
    "}\n",
    "\n",
    "x = input('제일 좋아하는 계절은 : ')\n",
    "\n",
    "if x in fruit:\n",
    "    print('정답입니다.')\n",
    "else:\n",
    "    print('오답입니다.')"
   ]
  },
  {
   "cell_type": "markdown",
   "id": "17ea3064",
   "metadata": {},
   "source": [
    "# 120. 119번과 함께 해설강의 듣기"
   ]
  },
  {
   "cell_type": "code",
   "execution_count": 50,
   "id": "42c19436",
   "metadata": {},
   "outputs": [
    {
     "name": "stdout",
     "output_type": "stream",
     "text": [
      "제일 좋아하는 과일은 : 딸기\n",
      "정답입니다.\n"
     ]
    }
   ],
   "source": [
    "fruit = {                        # 위에 것과 비교해서 해설강의 들어보기!\n",
    "    '봄':'딸기',\n",
    "    '여름':'토마토',\n",
    "    '가을':'사과'\n",
    "}\n",
    "\n",
    "x = input('제일 좋아하는 과일은 : ')\n",
    "\n",
    "if x in fruit.values():\n",
    "    print('정답입니다.')\n",
    "else:\n",
    "    print('오답입니다.')"
   ]
  },
  {
   "cell_type": "markdown",
   "id": "9d385cbd",
   "metadata": {},
   "source": [
    "# 121 ~ 130. 파이썬 분기문"
   ]
  },
  {
   "cell_type": "markdown",
   "id": "aa8d165c",
   "metadata": {},
   "source": [
    "# 121. 변수.islower() --> 변수가 소문자인지를 T/F로 알려준다"
   ]
  },
  {
   "cell_type": "code",
   "execution_count": 67,
   "id": "df0500b1",
   "metadata": {},
   "outputs": [
    {
     "name": "stdout",
     "output_type": "stream",
     "text": [
      "Please enter: I love you\n",
      "i love you\n"
     ]
    }
   ],
   "source": [
    "x = input('Please enter: ')   # 맨 첫번째 문자만 대소문자를 바꿔주네? str 전체를 바꾸려면 어떻게 해야하지?\n",
    "\n",
    "if x.islower():\n",
    "    print(x.upper())\n",
    "else:\n",
    "    print(x.lower())\n"
   ]
  },
  {
   "cell_type": "markdown",
   "id": "5eae7a43",
   "metadata": {},
   "source": [
    "122."
   ]
  },
  {
   "cell_type": "code",
   "execution_count": 71,
   "id": "304bef57",
   "metadata": {},
   "outputs": [
    {
     "name": "stdout",
     "output_type": "stream",
     "text": [
      "Please enter your score: 89\n",
      "A\n"
     ]
    }
   ],
   "source": [
    "x = int(input('Please enter your score: '))\n",
    "\n",
    "if x <= 20:\n",
    "    print('E')\n",
    "elif x <= 40:\n",
    "    print('D')\n",
    "elif x <= 60:\n",
    "    print('C')\n",
    "elif x <= 80:\n",
    "    print('B')\n",
    "elif x <= 100:\n",
    "    print('A')"
   ]
  },
  {
   "cell_type": "markdown",
   "id": "cbe68ae0",
   "metadata": {},
   "source": [
    "# 123. 환율[currency] -->의 의미 ???  해설 강의 보고 이해됨. 다시 복습해보기"
   ]
  },
  {
   "cell_type": "code",
   "execution_count": 77,
   "id": "1a336d83",
   "metadata": {},
   "outputs": [
    {
     "name": "stdout",
     "output_type": "stream",
     "text": [
      "Please enter: 100 위안\n",
      "17100 원\n"
     ]
    }
   ],
   "source": [
    "x = input('Please enter: ')   # 100 달러 : int+space+str\n",
    "\n",
    "y = int(x.split()[0])\n",
    "\n",
    "z = x.split()[1]\n",
    "\n",
    "if z == '달러':\n",
    "    print(y*1167,'원')\n",
    "elif z == '엔':\n",
    "    print(y*1.096,'원')\n",
    "elif z == '유로':\n",
    "    print(y*1268,'원')\n",
    "else:\n",
    "    print(y*171,'원')"
   ]
  },
  {
   "cell_type": "code",
   "execution_count": 78,
   "id": "4664c655",
   "metadata": {},
   "outputs": [
    {
     "name": "stdout",
     "output_type": "stream",
     "text": [
      "Enter: 100 달러\n",
      "116700.0 원\n"
     ]
    }
   ],
   "source": [
    "# 문제해설 - 조금 더 간단하게\n",
    "\n",
    "환율 = {                     # 화폐단위와 환율을 dict로 저장\n",
    "    '달러':1167,\n",
    "    '엔':1.096,\n",
    "    '유로':1268,\n",
    "    '위안':171,\n",
    "}\n",
    "\n",
    "user = input('Enter: ')    # 사용자에게 입력값을 받음 : num+space+currency\n",
    "\n",
    "num, currency = user.split()         # 언패킹 ㅇㅇ : num, currency = 사용자 입력값을 공백 기준으로 나누고 앞에걸 num으로 바인딩\n",
    "\n",
    "print(float(num)*환율[currency],'원') # 사용자 입력값 중 num을 float으로 형변환 * 사용자 입력값중 currency를 키로 갖는 dict의 값 "
   ]
  },
  {
   "cell_type": "markdown",
   "id": "f20c8536",
   "metadata": {},
   "source": [
    "124."
   ]
  },
  {
   "cell_type": "code",
   "execution_count": 82,
   "id": "58dfc826",
   "metadata": {},
   "outputs": [
    {
     "name": "stdout",
     "output_type": "stream",
     "text": [
      "Number 1: 20\n",
      "Number 2: 15\n",
      "Number 3: 1\n",
      "20\n"
     ]
    }
   ],
   "source": [
    "x = input('Number 1: ')\n",
    "y = input('Number 2: ')\n",
    "z = input('Number 3: ')\n",
    "\n",
    "print(max(x,y,z))"
   ]
  },
  {
   "cell_type": "markdown",
   "id": "52336d39",
   "metadata": {},
   "source": [
    "# 125. 문자해설 - f-string 복습하기!"
   ]
  },
  {
   "cell_type": "code",
   "execution_count": 95,
   "id": "312b006e",
   "metadata": {},
   "outputs": [
    {
     "name": "stdout",
     "output_type": "stream",
     "text": [
      "휴대전화 번호 입력: 011-2222-22\n",
      "SKT 사용자입니다.\n"
     ]
    }
   ],
   "source": [
    "x = input('휴대전화 번호 입력: ')   # 010-1111-1111\n",
    "y = x.split('-')[0]   # 010, str\n",
    "\n",
    "if y == '011':\n",
    "    print('SKT 사용자입니다.')\n",
    "elif y == '016':\n",
    "    print('KT 사용자입니다.')\n",
    "elif y == '019':\n",
    "    print('LGU 사용자입니다.')\n",
    "elif y == '010':\n",
    "    print('알수없음')\n",
    "else:\n",
    "    print('Error')"
   ]
  },
  {
   "cell_type": "code",
   "execution_count": 96,
   "id": "1a0ea68f",
   "metadata": {},
   "outputs": [
    {
     "name": "stdout",
     "output_type": "stream",
     "text": [
      "휴대전화 번호 입력: 011-2222-2222\n",
      "당신은 SKT사용자 입니다.\n"
     ]
    }
   ],
   "source": [
    "# 문제해설\n",
    "\n",
    "x = input('휴대전화 번호 입력: ') \n",
    "y = x.split('-')[0]   # 010, str\n",
    "\n",
    "if y == '011':\n",
    "    company = 'SKT'\n",
    "elif y == '016':\n",
    "    company = 'KT'\n",
    "elif y == '019':\n",
    "    company = 'LGU'\n",
    "else:\n",
    "    company = '알수없음'\n",
    "\n",
    "print(f'당신은 {company}사용자 입니다.')   # f-string 복습"
   ]
  },
  {
   "cell_type": "markdown",
   "id": "acd1adc1",
   "metadata": {},
   "source": [
    "f-string : 문자열 내에 변수 값 삽입.\n",
    "\n",
    "f-string은 문자열 앞에 f 또는 F 접두사를 붙여 사용하며, 중괄호 {} 내에 변수나 표현식을 넣어 자동으로 문자열로 변환해준다."
   ]
  },
  {
   "cell_type": "markdown",
   "id": "674d4d2a",
   "metadata": {},
   "source": [
    "# 126.    논리연산자 or 사용법?! 찾아보기"
   ]
  },
  {
   "cell_type": "code",
   "execution_count": 105,
   "id": "86980cc4",
   "metadata": {},
   "outputs": [
    {
     "name": "stdout",
     "output_type": "stream",
     "text": [
      "우편번호: 12345\n"
     ]
    },
    {
     "ename": "TypeError",
     "evalue": "'int' object is not subscriptable",
     "output_type": "error",
     "traceback": [
      "\u001b[0;31m---------------------------------------------------------------------------\u001b[0m",
      "\u001b[0;31mTypeError\u001b[0m                                 Traceback (most recent call last)",
      "Cell \u001b[0;32mIn[105], line 3\u001b[0m\n\u001b[1;32m      1\u001b[0m x \u001b[38;5;241m=\u001b[39m \u001b[38;5;28mint\u001b[39m(\u001b[38;5;28minput\u001b[39m(\u001b[38;5;124m'\u001b[39m\u001b[38;5;124m우편번호: \u001b[39m\u001b[38;5;124m'\u001b[39m))   \u001b[38;5;66;03m# 12345\u001b[39;00m\n\u001b[0;32m----> 3\u001b[0m y \u001b[38;5;241m=\u001b[39m x[\u001b[38;5;241m2\u001b[39m]   \u001b[38;5;66;03m# 3\u001b[39;00m\n\u001b[1;32m      5\u001b[0m \u001b[38;5;28;01mif\u001b[39;00m y \u001b[38;5;241m==\u001b[39m \u001b[38;5;241m0\u001b[39m \u001b[38;5;129;01mor\u001b[39;00m \u001b[38;5;241m1\u001b[39m \u001b[38;5;129;01mor\u001b[39;00m \u001b[38;5;241m2\u001b[39m:\n\u001b[1;32m      6\u001b[0m     \u001b[38;5;28mprint\u001b[39m(\u001b[38;5;124m'\u001b[39m\u001b[38;5;124m강북구\u001b[39m\u001b[38;5;124m'\u001b[39m)\n",
      "\u001b[0;31mTypeError\u001b[0m: 'int' object is not subscriptable"
     ]
    }
   ],
   "source": [
    "x = int(input('우편번호: '))   # 12345\n",
    "\n",
    "y = x[2]   # 3\n",
    "\n",
    "if y == 0 or 1 or 2:\n",
    "    print('강북구')\n",
    "elif y == 3 or 4 or 5:   # 이게 발동되어야 하는데... 정수는 인덱싱이 불가능하기 때문에 에러 발생!! \n",
    "    print('도봉구')\n",
    "else:\n",
    "    print('노원구')"
   ]
  },
  {
   "cell_type": "code",
   "execution_count": 108,
   "id": "08007144",
   "metadata": {},
   "outputs": [
    {
     "name": "stdout",
     "output_type": "stream",
     "text": [
      "우편번호: 12345\n",
      "강북구\n"
     ]
    }
   ],
   "source": [
    "x = input('우편번호: ')   # '12345'\n",
    "\n",
    "y = x[2]   # '3'\n",
    "\n",
    "y = int(y)   # 3 - x에서 인덱싱으로 y를 만든 다음 형변환을 해줌 \n",
    "\n",
    "if y == 0 or 1 or 2:   # 논리연산자 or 때문에 에러 발생 \n",
    "    print('강북구')\n",
    "elif y == 3 or 4 or 5: \n",
    "    print('도봉구')\n",
    "else:\n",
    "    print('노원구')"
   ]
  },
  {
   "cell_type": "code",
   "execution_count": 111,
   "id": "e59c90ec",
   "metadata": {},
   "outputs": [
    {
     "data": {
      "text/plain": [
       "False"
      ]
     },
     "execution_count": 111,
     "metadata": {},
     "output_type": "execute_result"
    }
   ],
   "source": [
    "3 == 0"
   ]
  },
  {
   "cell_type": "code",
   "execution_count": 110,
   "id": "ca3474b5",
   "metadata": {},
   "outputs": [
    {
     "data": {
      "text/plain": [
       "1"
      ]
     },
     "execution_count": 110,
     "metadata": {},
     "output_type": "execute_result"
    }
   ],
   "source": [
    "3 == 0 or 1 or 2   # 아니 이게 왜 불리언이 안나오고 1이 나오지 ????????"
   ]
  },
  {
   "cell_type": "code",
   "execution_count": 116,
   "id": "3f8897a2",
   "metadata": {},
   "outputs": [
    {
     "name": "stdout",
     "output_type": "stream",
     "text": [
      "우편번호: 55555\n",
      "도봉구\n"
     ]
    }
   ],
   "source": [
    "x = input('우편번호: ')   # '12345'\n",
    "\n",
    "y = x[2]   # '3'\n",
    "\n",
    "y = int(y)   # 3 - x에서 인덱싱으로 y를 만든 다음 형변환을 해줌 \n",
    "\n",
    "강북구 = [0,1,2]\n",
    "도봉구 = [3,4,5]\n",
    "노원구 = [6,7,8,9]\n",
    "\n",
    "if y in 강북구:   # 논리연산자 or 때문에 에러 발생 \n",
    "    print('강북구')\n",
    "elif y in 도봉구: \n",
    "    print('도봉구')\n",
    "else:\n",
    "    print('노원구')"
   ]
  },
  {
   "cell_type": "markdown",
   "id": "b1473858",
   "metadata": {},
   "source": [
    "127."
   ]
  },
  {
   "cell_type": "code",
   "execution_count": 128,
   "id": "332e63fe",
   "metadata": {
    "scrolled": true
   },
   "outputs": [
    {
     "name": "stdout",
     "output_type": "stream",
     "text": [
      "주민등록번호: 098234-10000\n",
      "남자\n"
     ]
    }
   ],
   "source": [
    "x = input('주민등록번호: ')   # 960227-3987890\n",
    "\n",
    "y = x.split('-')[1][0]   # 3987890에서 3, str\n",
    "\n",
    "y = int(y)   # int로 형변환\n",
    "\n",
    "if y in [1,3]:   \n",
    "    print('남자')\n",
    "else:\n",
    "    print('여자')"
   ]
  },
  {
   "cell_type": "markdown",
   "id": "463f1776",
   "metadata": {},
   "source": [
    "128."
   ]
  },
  {
   "cell_type": "code",
   "execution_count": 139,
   "id": "e40597b9",
   "metadata": {},
   "outputs": [
    {
     "name": "stdout",
     "output_type": "stream",
     "text": [
      "주민등록번호: 960227-3007890\n",
      "서울 입니다.\n"
     ]
    }
   ],
   "source": [
    "# 2{01}8918 --> 지역코드(출생지)\n",
    "\n",
    "x = input('주민등록번호: ')   # 960227-3987890\n",
    "\n",
    "y = x.split('-')[1][1:3]   # 3987890에서 98, str\n",
    "\n",
    "if y in ['00','01','02','03','04','05','06','08']:\n",
    "    print('서울 입니다.')\n",
    "else:\n",
    "    print('서울이 아닙니다.')\n"
   ]
  },
  {
   "cell_type": "code",
   "execution_count": 141,
   "id": "47a57835",
   "metadata": {},
   "outputs": [
    {
     "name": "stdout",
     "output_type": "stream",
     "text": [
      "주민등록번호: 960227-3987890\n",
      "서울이 아닙니다.\n"
     ]
    }
   ],
   "source": [
    "# 문제풀이\n",
    "\n",
    "주민번호 = input('주민등록번호: ')\n",
    "\n",
    "뒷자리 = 주민번호.split('-')[1]\n",
    "\n",
    "if 0 <= int(뒷자리[1:3]) <= 8:\n",
    "    print('서울 입니다.')\n",
    "else:\n",
    "    print('서울이 아닙니다.')"
   ]
  },
  {
   "cell_type": "markdown",
   "id": "31be6335",
   "metadata": {},
   "source": [
    "129."
   ]
  },
  {
   "cell_type": "code",
   "execution_count": null,
   "id": "b2f8a627",
   "metadata": {},
   "outputs": [],
   "source": [
    "960227-201 8  9  1  {8}\n",
    "0123456789 10 11 12 "
   ]
  },
  {
   "cell_type": "code",
   "execution_count": null,
   "id": "67ba7a6d",
   "metadata": {
    "scrolled": true
   },
   "outputs": [],
   "source": [
    "x = input('주민등록번호: ')   # '960227-3987890'\n",
    "\n",
    "y = x.split('-')[0]   # 앞 6자리, str   # '960227'\n",
    "\n",
    "z = x.split('-')[1]   # 뒤 7자리, str   # '3987890'\n",
    "\n",
    "q = (int(y[0])*2 + int(y[1])*3 + int(y[2])*4 + int(y[3])*5 + int(y[4])*6 + int(y[5])*7 + int(z[0])*8 + int(z[1])*9 + int(z[2])*2 + int(z[3])*3 + int(z[4])*4 + int(z[5])*5)%11\n",
    "     # 128 나누기 11을 해서 나온 나머지, int\n",
    "\n",
    "if (11-q) == int(x[-1:]):\n",
    "    print('유효한 주민등록번호입니다.')\n",
    "else:\n",
    "    print('유효하지 않은 주민등록번호입니다.')"
   ]
  },
  {
   "cell_type": "markdown",
   "id": "1e74e36d",
   "metadata": {},
   "source": [
    "# 130. print(btc)가 안됨... - 나중에 다시 해보기!!"
   ]
  },
  {
   "cell_type": "code",
   "execution_count": null,
   "id": "4a0e1ac6",
   "metadata": {},
   "outputs": [],
   "source": [
    "import requests\n",
    "btc = requests.get(\"https://api.bithub.com/public/ticker/\").json()['data']\n",
    "\n",
    "변동폭 = btc['max_price'] - btc['min_price']   # 최고가 - 최저가 \n",
    "\n",
    "if (btc['opening_price'] + 변동폭)>= btc['max_price']:\n",
    "    print('상승장')\n",
    "else:\n",
    "    print('하락장')"
   ]
  },
  {
   "cell_type": "markdown",
   "id": "2b73eb6f",
   "metadata": {},
   "source": [
    "# 131 ~ 140 파이썬 반복문"
   ]
  },
  {
   "cell_type": "markdown",
   "id": "e31c8f3f",
   "metadata": {},
   "source": [
    "131."
   ]
  },
  {
   "cell_type": "code",
   "execution_count": 157,
   "id": "c5b23e3d",
   "metadata": {},
   "outputs": [
    {
     "name": "stdout",
     "output_type": "stream",
     "text": [
      "사과\n",
      "귤\n",
      "수박\n"
     ]
    }
   ],
   "source": [
    "과일 = ['사과','귤','수박']\n",
    "\n",
    "for i in 과일:\n",
    "    print(i)   # 사과, 귤, 수박 --> 줄바꿈 해서 나타남"
   ]
  },
  {
   "cell_type": "markdown",
   "id": "1b1f3c0c",
   "metadata": {},
   "source": [
    "132."
   ]
  },
  {
   "cell_type": "code",
   "execution_count": 158,
   "id": "ef260fb3",
   "metadata": {},
   "outputs": [
    {
     "name": "stdout",
     "output_type": "stream",
     "text": [
      "#####\n",
      "#####\n",
      "#####\n"
     ]
    }
   ],
   "source": [
    "for i in 과일:\n",
    "    print('#####')   # ##### /n ##### /n #####"
   ]
  },
  {
   "cell_type": "markdown",
   "id": "4c777083",
   "metadata": {},
   "source": [
    "133."
   ]
  },
  {
   "cell_type": "code",
   "execution_count": 165,
   "id": "a7b4ae10",
   "metadata": {},
   "outputs": [
    {
     "name": "stdout",
     "output_type": "stream",
     "text": [
      "A\n",
      "B\n",
      "C\n"
     ]
    }
   ],
   "source": [
    "for i in ['A','B','C']:\n",
    "    print(i)"
   ]
  },
  {
   "cell_type": "code",
   "execution_count": 164,
   "id": "127fd8f7",
   "metadata": {
    "scrolled": true
   },
   "outputs": [
    {
     "name": "stdout",
     "output_type": "stream",
     "text": [
      "A\n",
      "B\n",
      "C\n"
     ]
    }
   ],
   "source": [
    "# for문 동작 과정\n",
    "\n",
    "i = 'A'\n",
    "print(i)\n",
    "\n",
    "i = 'B'\n",
    "print(i)\n",
    "\n",
    "i = 'C'\n",
    "print(i)"
   ]
  },
  {
   "cell_type": "markdown",
   "id": "ff74e586",
   "metadata": {},
   "source": [
    "134."
   ]
  },
  {
   "cell_type": "code",
   "execution_count": 159,
   "id": "bbb8fcdf",
   "metadata": {},
   "outputs": [
    {
     "name": "stdout",
     "output_type": "stream",
     "text": [
      "Print: A\n",
      "Print: B\n",
      "Print: C\n"
     ]
    }
   ],
   "source": [
    "for i in ['A','B','C']:\n",
    "    print('Print:',i)"
   ]
  },
  {
   "cell_type": "code",
   "execution_count": 166,
   "id": "5a34a1ae",
   "metadata": {},
   "outputs": [
    {
     "name": "stdout",
     "output_type": "stream",
     "text": [
      "Print: A\n",
      "Print: B\n",
      "Print: C\n"
     ]
    }
   ],
   "source": [
    "# for문 동작과정\n",
    "\n",
    "i = 'A'\n",
    "print('Print:',i)\n",
    "\n",
    "i = 'B'\n",
    "print('Print:',i)\n",
    "\n",
    "i = 'C'\n",
    "print('Print:',i)"
   ]
  },
  {
   "cell_type": "markdown",
   "id": "5e7c9586",
   "metadata": {},
   "source": [
    "135."
   ]
  },
  {
   "cell_type": "code",
   "execution_count": 167,
   "id": "d4ba4442",
   "metadata": {},
   "outputs": [
    {
     "name": "stdout",
     "output_type": "stream",
     "text": [
      "변환: a\n",
      "변환: b\n",
      "변환: c\n"
     ]
    }
   ],
   "source": [
    "for i in ['A','B','C']:\n",
    "    b = i.lower()\n",
    "    print('변환:',b)"
   ]
  },
  {
   "cell_type": "code",
   "execution_count": 168,
   "id": "988c77df",
   "metadata": {},
   "outputs": [
    {
     "name": "stdout",
     "output_type": "stream",
     "text": [
      "변환: a\n",
      "변환: b\n",
      "변환: c\n"
     ]
    }
   ],
   "source": [
    "# for문 동작과정\n",
    "\n",
    "i = 'A'\n",
    "b = i.lower()   # = a\n",
    "print('변환:',b)   # 변환: a\n",
    "\n",
    "i = 'B'\n",
    "b = i.lower()\n",
    "print('변환:',b)\n",
    "\n",
    "i = 'C'\n",
    "b = i.lower()\n",
    "print('변환:',b)"
   ]
  },
  {
   "cell_type": "markdown",
   "id": "392d4123",
   "metadata": {},
   "source": [
    "136."
   ]
  },
  {
   "cell_type": "code",
   "execution_count": 169,
   "id": "41432e7e",
   "metadata": {},
   "outputs": [
    {
     "name": "stdout",
     "output_type": "stream",
     "text": [
      "10\n",
      "20\n",
      "30\n"
     ]
    }
   ],
   "source": [
    "for i in [10,20,30]:\n",
    "    print(i)"
   ]
  },
  {
   "cell_type": "markdown",
   "id": "c6d48b57",
   "metadata": {},
   "source": [
    "137."
   ]
  },
  {
   "cell_type": "code",
   "execution_count": 170,
   "id": "cf8ad079",
   "metadata": {},
   "outputs": [
    {
     "name": "stdout",
     "output_type": "stream",
     "text": [
      "10\n",
      "20\n",
      "30\n"
     ]
    }
   ],
   "source": [
    "for i in [10,20,30]:\n",
    "    print(i)"
   ]
  },
  {
   "cell_type": "markdown",
   "id": "fbde48a4",
   "metadata": {},
   "source": [
    "138."
   ]
  },
  {
   "cell_type": "code",
   "execution_count": 171,
   "id": "9502e728",
   "metadata": {},
   "outputs": [
    {
     "name": "stdout",
     "output_type": "stream",
     "text": [
      "10\n",
      "-------\n",
      "20\n",
      "-------\n",
      "30\n",
      "-------\n"
     ]
    }
   ],
   "source": [
    "for i in [10,20,30]:\n",
    "    print(i)\n",
    "    print(\"-------\")"
   ]
  },
  {
   "cell_type": "markdown",
   "id": "f5494959",
   "metadata": {},
   "source": [
    "139."
   ]
  },
  {
   "cell_type": "code",
   "execution_count": 172,
   "id": "8dd1ed9f",
   "metadata": {},
   "outputs": [
    {
     "name": "stdout",
     "output_type": "stream",
     "text": [
      "++++\n",
      "10\n",
      "20\n",
      "30\n"
     ]
    }
   ],
   "source": [
    "print('++++')\n",
    "\n",
    "for i in [10,20,30]:\n",
    "    print(i)"
   ]
  },
  {
   "cell_type": "markdown",
   "id": "b8475b68",
   "metadata": {},
   "source": [
    "140."
   ]
  },
  {
   "cell_type": "code",
   "execution_count": 173,
   "id": "ec735401",
   "metadata": {},
   "outputs": [
    {
     "name": "stdout",
     "output_type": "stream",
     "text": [
      "-------\n",
      "-------\n",
      "-------\n",
      "-------\n"
     ]
    }
   ],
   "source": [
    "for i in range(4):\n",
    "    print('-------')"
   ]
  },
  {
   "cell_type": "code",
   "execution_count": 175,
   "id": "adf91f10",
   "metadata": {
    "scrolled": true
   },
   "outputs": [
    {
     "name": "stdout",
     "output_type": "stream",
     "text": [
      "-------\n",
      "-------\n",
      "-------\n",
      "-------\n"
     ]
    }
   ],
   "source": [
    "for i in ['가','나','다','라']:    # 데이터가 4개인 자료구조를 넣었을 때에도 동일한 출력값!\n",
    "    print('-------')"
   ]
  },
  {
   "cell_type": "markdown",
   "id": "09746d47",
   "metadata": {},
   "source": [
    "# 141 ~ 150 파이썬 반복문"
   ]
  },
  {
   "cell_type": "markdown",
   "id": "e4b4774e",
   "metadata": {},
   "source": [
    "141."
   ]
  },
  {
   "cell_type": "code",
   "execution_count": 179,
   "id": "60454781",
   "metadata": {},
   "outputs": [
    {
     "name": "stdout",
     "output_type": "stream",
     "text": [
      "110\n",
      "210\n",
      "310\n"
     ]
    }
   ],
   "source": [
    "리스트 = [100,200,300]\n",
    "\n",
    "for i in 리스트:\n",
    "    print(i+10)"
   ]
  },
  {
   "cell_type": "markdown",
   "id": "3e0c8458",
   "metadata": {},
   "source": [
    "142."
   ]
  },
  {
   "cell_type": "code",
   "execution_count": 180,
   "id": "c8569767",
   "metadata": {},
   "outputs": [
    {
     "name": "stdout",
     "output_type": "stream",
     "text": [
      "오늘의 메뉴: 김밥\n",
      "오늘의 메뉴: 라면\n",
      "오늘의 메뉴: 튀김\n"
     ]
    }
   ],
   "source": [
    "리스트 = ['김밥','라면','튀김']\n",
    "\n",
    "for i in 리스트:\n",
    "    print('오늘의 메뉴: '+ i)"
   ]
  },
  {
   "cell_type": "markdown",
   "id": "11549eb0",
   "metadata": {},
   "source": [
    "143."
   ]
  },
  {
   "cell_type": "code",
   "execution_count": 181,
   "id": "22b4dde9",
   "metadata": {},
   "outputs": [
    {
     "name": "stdout",
     "output_type": "stream",
     "text": [
      "6\n",
      "4\n",
      "4\n"
     ]
    }
   ],
   "source": [
    "리스트 = ['SK하이닉스','삼성전자','LG전자']\n",
    "\n",
    "for i in 리스트:\n",
    "    print(len(i))"
   ]
  },
  {
   "cell_type": "markdown",
   "id": "36f7078f",
   "metadata": {},
   "source": [
    "144."
   ]
  },
  {
   "cell_type": "code",
   "execution_count": 183,
   "id": "c541d7ce",
   "metadata": {},
   "outputs": [
    {
     "name": "stdout",
     "output_type": "stream",
     "text": [
      "dog 3\n",
      "cat 3\n",
      "parrot 6\n"
     ]
    }
   ],
   "source": [
    "리스트 = ['dog','cat','parrot']\n",
    "\n",
    "for i in 리스트:\n",
    "    print(i,len(i))"
   ]
  },
  {
   "cell_type": "markdown",
   "id": "b43ed470",
   "metadata": {},
   "source": [
    " 145."
   ]
  },
  {
   "cell_type": "code",
   "execution_count": 184,
   "id": "4c3f1043",
   "metadata": {},
   "outputs": [
    {
     "name": "stdout",
     "output_type": "stream",
     "text": [
      "d\n",
      "c\n",
      "p\n"
     ]
    }
   ],
   "source": [
    "리스트 = ['dog','cat','parrot']\n",
    "\n",
    "for i in 리스트:\n",
    "    print(i[0])"
   ]
  },
  {
   "cell_type": "markdown",
   "id": "0aaa9b90",
   "metadata": {},
   "source": [
    "146."
   ]
  },
  {
   "cell_type": "code",
   "execution_count": 185,
   "id": "2db8d739",
   "metadata": {},
   "outputs": [
    {
     "name": "stdout",
     "output_type": "stream",
     "text": [
      "3 x 1\n",
      "3 x 2\n",
      "3 x 3\n"
     ]
    }
   ],
   "source": [
    "리스트 = [1,2,3]\n",
    "\n",
    "for i in 리스트:\n",
    "    print('3','x',i)"
   ]
  },
  {
   "cell_type": "markdown",
   "id": "e70fab90",
   "metadata": {},
   "source": [
    "# 147. format() 함수를 사용하여 더 간결하게 표현하기"
   ]
  },
  {
   "cell_type": "code",
   "execution_count": 186,
   "id": "f823e86f",
   "metadata": {},
   "outputs": [
    {
     "name": "stdout",
     "output_type": "stream",
     "text": [
      "3 x 1 = 3\n",
      "3 x 2 = 6\n",
      "3 x 3 = 9\n"
     ]
    }
   ],
   "source": [
    "리스트 = [1,2,3]\n",
    "\n",
    "for i in 리스트:\n",
    "    print('3','x',i,'=',3*i)"
   ]
  },
  {
   "cell_type": "code",
   "execution_count": 187,
   "id": "7459e7f9",
   "metadata": {},
   "outputs": [
    {
     "name": "stdout",
     "output_type": "stream",
     "text": [
      "3 x 1 = 3\n",
      "3 x 2 = 6\n",
      "3 x 3 = 9\n"
     ]
    }
   ],
   "source": [
    "리스트 = [1,2,3]\n",
    "\n",
    "for i in 리스트:\n",
    "    print('3 x {} = {}'.format(i,i*3))   # format() 함수를 사용하여 변수 등록!"
   ]
  },
  {
   "cell_type": "markdown",
   "id": "766084df",
   "metadata": {},
   "source": [
    "# 148. for문의 자료구조에 슬라이싱을 직접 입력하기"
   ]
  },
  {
   "cell_type": "code",
   "execution_count": 188,
   "id": "d1c17243",
   "metadata": {},
   "outputs": [
    {
     "name": "stdout",
     "output_type": "stream",
     "text": [
      "나\n",
      "다\n",
      "라\n"
     ]
    }
   ],
   "source": [
    "리스트 = ['가','나','다','라']\n",
    "\n",
    "for i in 리스트:\n",
    "    if i == '가':\n",
    "        pass\n",
    "    else:\n",
    "        print(i)"
   ]
  },
  {
   "cell_type": "code",
   "execution_count": 191,
   "id": "32413b9c",
   "metadata": {},
   "outputs": [
    {
     "name": "stdout",
     "output_type": "stream",
     "text": [
      "나\n",
      "다\n",
      "라\n"
     ]
    }
   ],
   "source": [
    "# 문제해설 1 - 원하는 값들만을 포함하는 새로운 리스트 생성\n",
    "\n",
    "리스트 = ['가','나','다','라']\n",
    "new_리스트 = 리스트[1:]   # 슬라이싱을 통해 새로운 리스트 생성\n",
    "\n",
    "for i in new_리스트:\n",
    "    print(i)"
   ]
  },
  {
   "cell_type": "code",
   "execution_count": 193,
   "id": "f08f7367",
   "metadata": {},
   "outputs": [
    {
     "name": "stdout",
     "output_type": "stream",
     "text": [
      "나\n",
      "다\n",
      "라\n"
     ]
    }
   ],
   "source": [
    "# 문제해설 2 - 가장 간단한 방법\n",
    "\n",
    "리스트 = ['가','나','다','라']\n",
    "\n",
    "for i in 리스트[1:]:   # for문의 자료구조에 슬라이싱한 코드를 작성할 수도 있음 !!\n",
    "    print(i)"
   ]
  },
  {
   "cell_type": "markdown",
   "id": "0fa44ea4",
   "metadata": {},
   "source": [
    "# 149. for문의 자료구조에 슬라이싱 + 오프셋을 직접 입력하기\n",
    "\n",
    "리스트[시작인덱스:끝인덱스:증감폭]"
   ]
  },
  {
   "cell_type": "code",
   "execution_count": 196,
   "id": "9ca9e652",
   "metadata": {},
   "outputs": [
    {
     "name": "stdout",
     "output_type": "stream",
     "text": [
      "가\n",
      "다\n"
     ]
    }
   ],
   "source": [
    "리스트 = ['가','나','다','라']\n",
    "\n",
    "for i in 리스트[::2]:\n",
    "    print(i)"
   ]
  },
  {
   "cell_type": "markdown",
   "id": "dcad15da",
   "metadata": {},
   "source": [
    "150."
   ]
  },
  {
   "cell_type": "code",
   "execution_count": 197,
   "id": "1d9850b4",
   "metadata": {},
   "outputs": [
    {
     "name": "stdout",
     "output_type": "stream",
     "text": [
      "라\n",
      "다\n",
      "나\n",
      "가\n"
     ]
    }
   ],
   "source": [
    "리스트 = ['가','나','다','라']\n",
    "\n",
    "for i in 리스트[::-1]:\n",
    "    print(i)"
   ]
  },
  {
   "cell_type": "markdown",
   "id": "8b006d2e",
   "metadata": {},
   "source": [
    "# 151 ~ 160 파이썬 반복문"
   ]
  },
  {
   "cell_type": "markdown",
   "id": "d4bbbaee",
   "metadata": {},
   "source": [
    "151."
   ]
  },
  {
   "cell_type": "code",
   "execution_count": 198,
   "id": "7c87bdd2",
   "metadata": {},
   "outputs": [
    {
     "name": "stdout",
     "output_type": "stream",
     "text": [
      "-20\n",
      "-3\n"
     ]
    }
   ],
   "source": [
    "리스트 = [3,-20,-3,44]\n",
    "\n",
    "for i in 리스트:\n",
    "    if i < 0:\n",
    "        print(i)"
   ]
  },
  {
   "cell_type": "markdown",
   "id": "6022d4cd",
   "metadata": {},
   "source": [
    "152. "
   ]
  },
  {
   "cell_type": "code",
   "execution_count": 199,
   "id": "05a64c5c",
   "metadata": {},
   "outputs": [
    {
     "name": "stdout",
     "output_type": "stream",
     "text": [
      "3\n"
     ]
    }
   ],
   "source": [
    "리스트 = [3,100,23,44]\n",
    "\n",
    "for i in 리스트:\n",
    "    if i % 3 == 0:\n",
    "        print(i)"
   ]
  },
  {
   "cell_type": "markdown",
   "id": "b678bb48",
   "metadata": {},
   "source": [
    "153."
   ]
  },
  {
   "cell_type": "code",
   "execution_count": 200,
   "id": "7d1b9ef3",
   "metadata": {},
   "outputs": [
    {
     "name": "stdout",
     "output_type": "stream",
     "text": [
      "12\n",
      "18\n"
     ]
    }
   ],
   "source": [
    "리스트 = [13,21,12,14,30,18]\n",
    "\n",
    "for i in 리스트:\n",
    "    if i % 3 == 0 and i < 20:\n",
    "        print(i)"
   ]
  },
  {
   "cell_type": "markdown",
   "id": "c532a9d2",
   "metadata": {},
   "source": [
    "154."
   ]
  },
  {
   "cell_type": "code",
   "execution_count": 201,
   "id": "f5d3ac43",
   "metadata": {},
   "outputs": [
    {
     "name": "stdout",
     "output_type": "stream",
     "text": [
      "study\n",
      "python\n",
      "language\n"
     ]
    }
   ],
   "source": [
    "리스트 = ['I','study','python','language','!']\n",
    "\n",
    "for i in 리스트:\n",
    "    if len(i) >= 3:\n",
    "        print(i)"
   ]
  },
  {
   "cell_type": "markdown",
   "id": "1e7c4414",
   "metadata": {},
   "source": [
    "155."
   ]
  },
  {
   "cell_type": "code",
   "execution_count": 202,
   "id": "0d140a21",
   "metadata": {},
   "outputs": [
    {
     "name": "stdout",
     "output_type": "stream",
     "text": [
      "A\n",
      "D\n"
     ]
    }
   ],
   "source": [
    "리스트 = ['A','b','c','D']\n",
    "\n",
    "for i in 리스트:\n",
    "    if i.isupper():\n",
    "        print(i)"
   ]
  },
  {
   "cell_type": "markdown",
   "id": "1bf2913e",
   "metadata": {},
   "source": [
    "156."
   ]
  },
  {
   "cell_type": "code",
   "execution_count": 203,
   "id": "d8014cfd",
   "metadata": {},
   "outputs": [
    {
     "name": "stdout",
     "output_type": "stream",
     "text": [
      "b\n",
      "c\n"
     ]
    }
   ],
   "source": [
    "리스트 = ['A','b','c','D']\n",
    "\n",
    "for i in 리스트:\n",
    "    if i.islower():\n",
    "        print(i)"
   ]
  },
  {
   "cell_type": "code",
   "execution_count": 205,
   "id": "8c6fc097",
   "metadata": {},
   "outputs": [
    {
     "name": "stdout",
     "output_type": "stream",
     "text": [
      "b\n",
      "c\n"
     ]
    }
   ],
   "source": [
    "리스트 = ['A','b','c','D']\n",
    "\n",
    "for i in 리스트:\n",
    "    if not i.isupper():   # 논리연산자 not을 사용 !\n",
    "        print(i)"
   ]
  },
  {
   "cell_type": "markdown",
   "id": "6c8cc62b",
   "metadata": {},
   "source": [
    "157."
   ]
  },
  {
   "cell_type": "code",
   "execution_count": 214,
   "id": "c8ae8355",
   "metadata": {},
   "outputs": [
    {
     "name": "stdout",
     "output_type": "stream",
     "text": [
      "Dog\n",
      "Cat\n",
      "Parrot\n"
     ]
    }
   ],
   "source": [
    "리스트 = ['dog','cat','parrot']\n",
    "\n",
    "for i in 리스트:\n",
    "    print(i.title())"
   ]
  },
  {
   "cell_type": "code",
   "execution_count": 215,
   "id": "ee7b1823",
   "metadata": {},
   "outputs": [
    {
     "name": "stdout",
     "output_type": "stream",
     "text": [
      "Dog\n",
      "Cat\n",
      "Parrot\n"
     ]
    }
   ],
   "source": [
    "리스트 = ['dog','cat','parrot']\n",
    "\n",
    "for i in 리스트:\n",
    "    print(i.capitalize())"
   ]
  },
  {
   "cell_type": "code",
   "execution_count": 218,
   "id": "bf73ffe9",
   "metadata": {},
   "outputs": [
    {
     "name": "stdout",
     "output_type": "stream",
     "text": [
      "Dog\n",
      "Cat\n",
      "Parrot\n",
      "==========\n",
      "Dog\n",
      "Cat\n",
      "Parrot\n"
     ]
    }
   ],
   "source": [
    "# 문제해설\n",
    "\n",
    "리스트 = ['dog','cat','parrot']\n",
    "\n",
    "for i in 리스트:\n",
    "    x = i[0].upper()\n",
    "    y = i[1:].lower()\n",
    "    print(x+y)\n",
    "\n",
    "print('==========')\n",
    "    \n",
    "for i in 리스트:\n",
    "    print(i[0].upper()+i[1:])"
   ]
  },
  {
   "cell_type": "code",
   "execution_count": 221,
   "id": "e3335a44",
   "metadata": {},
   "outputs": [
    {
     "name": "stdout",
     "output_type": "stream",
     "text": [
      "dog\n",
      "cat\n",
      "parrot\n"
     ]
    }
   ],
   "source": [
    "리스트 = ['dog','cat','parrot']   # 이렇게 하면 왜 실행이 안되지 ???\n",
    "\n",
    "for i in 리스트:\n",
    "    i[0].upper\n",
    "    print(i)"
   ]
  },
  {
   "cell_type": "markdown",
   "id": "1089d390",
   "metadata": {},
   "source": [
    "158."
   ]
  },
  {
   "cell_type": "code",
   "execution_count": 224,
   "id": "8db2448f",
   "metadata": {},
   "outputs": [
    {
     "name": "stdout",
     "output_type": "stream",
     "text": [
      "hello\n",
      "ex01\n",
      "intro\n"
     ]
    }
   ],
   "source": [
    "리스트 = ['hello.py','ex01.py','intro.hwp']\n",
    "\n",
    "for i in 리스트:\n",
    "    print(i.split('.')[0])"
   ]
  },
  {
   "cell_type": "markdown",
   "id": "fc0eb6c4",
   "metadata": {},
   "source": [
    "159."
   ]
  },
  {
   "cell_type": "code",
   "execution_count": 225,
   "id": "2ec56e0d",
   "metadata": {},
   "outputs": [
    {
     "name": "stdout",
     "output_type": "stream",
     "text": [
      "intra.h\n",
      "define.h\n"
     ]
    }
   ],
   "source": [
    "리스트 = ['intra.h','intra.c','define.h','run.py']\n",
    "\n",
    "for i in 리스트:\n",
    "    if i.endswith('.h'):\n",
    "        print(i)"
   ]
  },
  {
   "cell_type": "markdown",
   "id": "ef09973f",
   "metadata": {},
   "source": [
    "160."
   ]
  },
  {
   "cell_type": "code",
   "execution_count": 226,
   "id": "0e811bb5",
   "metadata": {},
   "outputs": [
    {
     "name": "stdout",
     "output_type": "stream",
     "text": [
      "intra.h\n",
      "intra.c\n",
      "define.h\n"
     ]
    }
   ],
   "source": [
    "리스트 = ['intra.h','intra.c','define.h','run.py']\n",
    "\n",
    "for i in 리스트:\n",
    "    if i.endswith('.h') or i.endswith('.c'):\n",
    "        print(i)"
   ]
  },
  {
   "cell_type": "markdown",
   "id": "8c8a9ceb",
   "metadata": {},
   "source": [
    "# 161 ~ 170 파이썬 반복문"
   ]
  },
  {
   "cell_type": "markdown",
   "id": "d15324bd",
   "metadata": {},
   "source": [
    "161."
   ]
  },
  {
   "cell_type": "code",
   "execution_count": 227,
   "id": "feb19343",
   "metadata": {},
   "outputs": [
    {
     "name": "stdout",
     "output_type": "stream",
     "text": [
      "0\n",
      "1\n",
      "2\n",
      "3\n",
      "4\n",
      "5\n",
      "6\n",
      "7\n",
      "8\n",
      "9\n",
      "10\n",
      "11\n",
      "12\n",
      "13\n",
      "14\n",
      "15\n",
      "16\n",
      "17\n",
      "18\n",
      "19\n",
      "20\n",
      "21\n",
      "22\n",
      "23\n",
      "24\n",
      "25\n",
      "26\n",
      "27\n",
      "28\n",
      "29\n",
      "30\n",
      "31\n",
      "32\n",
      "33\n",
      "34\n",
      "35\n",
      "36\n",
      "37\n",
      "38\n",
      "39\n",
      "40\n",
      "41\n",
      "42\n",
      "43\n",
      "44\n",
      "45\n",
      "46\n",
      "47\n",
      "48\n",
      "49\n",
      "50\n",
      "51\n",
      "52\n",
      "53\n",
      "54\n",
      "55\n",
      "56\n",
      "57\n",
      "58\n",
      "59\n",
      "60\n",
      "61\n",
      "62\n",
      "63\n",
      "64\n",
      "65\n",
      "66\n",
      "67\n",
      "68\n",
      "69\n",
      "70\n",
      "71\n",
      "72\n",
      "73\n",
      "74\n",
      "75\n",
      "76\n",
      "77\n",
      "78\n",
      "79\n",
      "80\n",
      "81\n",
      "82\n",
      "83\n",
      "84\n",
      "85\n",
      "86\n",
      "87\n",
      "88\n",
      "89\n",
      "90\n",
      "91\n",
      "92\n",
      "93\n",
      "94\n",
      "95\n",
      "96\n",
      "97\n",
      "98\n",
      "99\n"
     ]
    }
   ],
   "source": [
    "for i in range(100):\n",
    "    print(i)"
   ]
  },
  {
   "cell_type": "markdown",
   "id": "19743454",
   "metadata": {},
   "source": [
    "162."
   ]
  },
  {
   "cell_type": "code",
   "execution_count": 232,
   "id": "9b353108",
   "metadata": {},
   "outputs": [
    {
     "name": "stdout",
     "output_type": "stream",
     "text": [
      "2002\n",
      "2006\n",
      "2010\n",
      "2014\n",
      "2018\n",
      "2022\n",
      "2026\n",
      "2030\n",
      "2034\n",
      "2038\n",
      "2042\n",
      "2046\n",
      "2050\n"
     ]
    }
   ],
   "source": [
    "for i in range(2002,2051,4):\n",
    "    print(i)"
   ]
  },
  {
   "cell_type": "markdown",
   "id": "92ed27e2",
   "metadata": {},
   "source": [
    "163."
   ]
  },
  {
   "cell_type": "code",
   "execution_count": 234,
   "id": "5b7a5bf3",
   "metadata": {},
   "outputs": [
    {
     "name": "stdout",
     "output_type": "stream",
     "text": [
      "3\n",
      "6\n",
      "9\n",
      "12\n",
      "15\n",
      "18\n",
      "21\n",
      "24\n",
      "27\n",
      "30\n"
     ]
    }
   ],
   "source": [
    "for i in range(3,31,3):\n",
    "    print(i)"
   ]
  },
  {
   "cell_type": "markdown",
   "id": "9d2b835b",
   "metadata": {},
   "source": [
    "# 164. 복습하기\n",
    "\n",
    "99부터 0까지 1씩 감소하는 숫자들을, 한 라인에 하나씩 출력하라."
   ]
  },
  {
   "cell_type": "code",
   "execution_count": 240,
   "id": "e1e01bd1",
   "metadata": {},
   "outputs": [
    {
     "name": "stdout",
     "output_type": "stream",
     "text": [
      "99\n",
      "98\n",
      "97\n",
      "96\n",
      "95\n",
      "94\n",
      "93\n",
      "92\n",
      "91\n",
      "90\n",
      "89\n",
      "88\n",
      "87\n",
      "86\n",
      "85\n",
      "84\n",
      "83\n",
      "82\n",
      "81\n",
      "80\n",
      "79\n",
      "78\n",
      "77\n",
      "76\n",
      "75\n",
      "74\n",
      "73\n",
      "72\n",
      "71\n",
      "70\n",
      "69\n",
      "68\n",
      "67\n",
      "66\n",
      "65\n",
      "64\n",
      "63\n",
      "62\n",
      "61\n",
      "60\n",
      "59\n",
      "58\n",
      "57\n",
      "56\n",
      "55\n",
      "54\n",
      "53\n",
      "52\n",
      "51\n",
      "50\n",
      "49\n",
      "48\n",
      "47\n",
      "46\n",
      "45\n",
      "44\n",
      "43\n",
      "42\n",
      "41\n",
      "40\n",
      "39\n",
      "38\n",
      "37\n",
      "36\n",
      "35\n",
      "34\n",
      "33\n",
      "32\n",
      "31\n",
      "30\n",
      "29\n",
      "28\n",
      "27\n",
      "26\n",
      "25\n",
      "24\n",
      "23\n",
      "22\n",
      "21\n",
      "20\n",
      "19\n",
      "18\n",
      "17\n",
      "16\n",
      "15\n",
      "14\n",
      "13\n",
      "12\n",
      "11\n",
      "10\n",
      "9\n",
      "8\n",
      "7\n",
      "6\n",
      "5\n",
      "4\n",
      "3\n",
      "2\n",
      "1\n",
      "0\n"
     ]
    }
   ],
   "source": [
    "# 문제해설\n",
    "\n",
    "for i in range(100):\n",
    "    print(99-i)"
   ]
  },
  {
   "cell_type": "markdown",
   "id": "feb53230",
   "metadata": {},
   "source": [
    "# 165. 복습하기\n",
    "\n",
    "문제해설같이 풀수도있다!"
   ]
  },
  {
   "cell_type": "code",
   "execution_count": 242,
   "id": "3438fa70",
   "metadata": {},
   "outputs": [
    {
     "name": "stdout",
     "output_type": "stream",
     "text": [
      "0.0\n",
      "0.1\n",
      "0.2\n",
      "0.3\n",
      "0.4\n",
      "0.5\n",
      "0.6\n",
      "0.7\n",
      "0.8\n",
      "0.9\n"
     ]
    }
   ],
   "source": [
    "# 0.0, 0.1, ... , 0.9\n",
    "\n",
    "for i in range(10):\n",
    "    print(f'0.{i}')"
   ]
  },
  {
   "cell_type": "code",
   "execution_count": 243,
   "id": "9bf15c4a",
   "metadata": {},
   "outputs": [
    {
     "name": "stdout",
     "output_type": "stream",
     "text": [
      "0.0\n",
      "0.1\n",
      "0.2\n",
      "0.3\n",
      "0.4\n",
      "0.5\n",
      "0.6\n",
      "0.7\n",
      "0.8\n",
      "0.9\n"
     ]
    }
   ],
   "source": [
    "# 문제해설\n",
    "\n",
    "for i in range(10):\n",
    "    print(i/10)"
   ]
  },
  {
   "cell_type": "markdown",
   "id": "7f955f12",
   "metadata": {},
   "source": [
    "166. "
   ]
  },
  {
   "cell_type": "code",
   "execution_count": 248,
   "id": "6dfeda33",
   "metadata": {},
   "outputs": [
    {
     "name": "stdout",
     "output_type": "stream",
     "text": [
      "3x1 = 3\n",
      "3x2 = 6\n",
      "3x3 = 9\n",
      "3x4 = 12\n",
      "3x5 = 15\n",
      "3x6 = 18\n",
      "3x7 = 21\n",
      "3x8 = 24\n",
      "3x9 = 27\n"
     ]
    }
   ],
   "source": [
    "for i in range(1,10):\n",
    "    print('3x'+str(i),'=',i*3)"
   ]
  },
  {
   "cell_type": "markdown",
   "id": "76b70fea",
   "metadata": {},
   "source": [
    "167. "
   ]
  },
  {
   "cell_type": "code",
   "execution_count": 250,
   "id": "2643a71a",
   "metadata": {},
   "outputs": [
    {
     "name": "stdout",
     "output_type": "stream",
     "text": [
      "3x1 = 3\n",
      "3x3 = 9\n",
      "3x5 = 15\n",
      "3x7 = 21\n",
      "3x9 = 27\n"
     ]
    }
   ],
   "source": [
    "for i in range(1,10,2):\n",
    "    print('3x'+str(i),'=',i*3)"
   ]
  },
  {
   "cell_type": "code",
   "execution_count": 252,
   "id": "9d055317",
   "metadata": {},
   "outputs": [
    {
     "name": "stdout",
     "output_type": "stream",
     "text": [
      "3x1 = 3\n",
      "3x3 = 9\n",
      "3x5 = 15\n",
      "3x7 = 21\n",
      "3x9 = 27\n"
     ]
    }
   ],
   "source": [
    "# for문 + 조건문으로 만들기\n",
    "\n",
    "for i in range(1,10):\n",
    "    if not i % 2 == 0:\n",
    "        print('3x'+str(i),'=',i*3)"
   ]
  },
  {
   "cell_type": "markdown",
   "id": "cca1657c",
   "metadata": {},
   "source": [
    "# 168.  n = 0, n = n + i    : 누적 합 구하는 공식 - 복습하기\n",
    "\n",
    "1 ~ 10까지의 숫자에 대해 모두 더한 값을 출력하는 프로그램을 for문을 사용하여 작성하라"
   ]
  },
  {
   "cell_type": "code",
   "execution_count": 264,
   "id": "45f86f3a",
   "metadata": {},
   "outputs": [
    {
     "ename": "SyntaxError",
     "evalue": "invalid syntax (293164125.py, line 3)",
     "output_type": "error",
     "traceback": [
      "\u001b[0;36m  Cell \u001b[0;32mIn[264], line 3\u001b[0;36m\u001b[0m\n\u001b[0;31m    i가 1을 바인딩할 때,\u001b[0m\n\u001b[0m       ^\u001b[0m\n\u001b[0;31mSyntaxError\u001b[0m\u001b[0;31m:\u001b[0m invalid syntax\n"
     ]
    }
   ],
   "source": [
    "pass\n",
    "\n",
    "i가 1을 바인딩할 때,\n",
    "i = 1\n",
    "\n",
    "i가 2를 바인딩할 때,\n",
    "i = i(1) + i(1) = 2\n",
    "\n",
    "\n",
    "i가 3을 바인딩할 때,\n",
    "i = i(2) + 1 = 3\n",
    "\n",
    "i가 4를 바인딩할 때,\n",
    "i = i(3) + 1 = 4\n",
    "\n",
    "i가 5를 바인딩할 때,\n",
    "i = i(4) + 1 = 5\n"
   ]
  },
  {
   "cell_type": "code",
   "execution_count": 272,
   "id": "0132ec88",
   "metadata": {},
   "outputs": [
    {
     "name": "stdout",
     "output_type": "stream",
     "text": [
      "55\n"
     ]
    }
   ],
   "source": [
    "hab = 0\n",
    "\n",
    "for i in range(1,11):\n",
    "    hab = hab + i          # 변수 합 = 기존의 합 + i\n",
    "print(hab)\n",
    "        "
   ]
  },
  {
   "cell_type": "code",
   "execution_count": null,
   "id": "747aa8d4",
   "metadata": {},
   "outputs": [],
   "source": [
    "i = 1, hab = 0 + 1 = 1\n",
    "\n",
    "i = 2, hab = 1 + 2 = 3\n",
    "\n",
    "i = 3, hab = 3 + 3 = 6\n",
    "\n",
    "i = 4, hab = 6 + 4 = 10\n",
    "\n",
    "i = 5, hab = 10 + 5 = 15\n",
    "\n",
    "i = 6, hab = 15 + 6 = 21\n",
    "\n",
    "i = 7, hab = 21 + 7 = 28\n",
    "\n",
    "i = 8, hab = 28 + 8 = 36\n",
    "\n",
    "i = 9, hab = 36 + 9 = 45\n",
    "\n",
    "i = 10, hab = 45 + 10 = 55"
   ]
  },
  {
   "cell_type": "code",
   "execution_count": null,
   "id": "e01ea0e8",
   "metadata": {},
   "outputs": [],
   "source": [
    "i = 5, hab = 0 + 5 = 5\n",
    "\n",
    "i = 10, hab = 5 + 10 = 15\n",
    "\n",
    "i = 15, hab = 15 + 15 = 30\n",
    "\n",
    "i = 20, hab = 30 + 20 = 50\n",
    "\n",
    "i = 25, hab = 50 + 25 = 75"
   ]
  },
  {
   "cell_type": "markdown",
   "id": "6fb6b748",
   "metadata": {},
   "source": [
    "169."
   ]
  },
  {
   "cell_type": "code",
   "execution_count": 281,
   "id": "0c679b0a",
   "metadata": {
    "scrolled": true
   },
   "outputs": [
    {
     "name": "stdout",
     "output_type": "stream",
     "text": [
      "변수= 1 합계= 1\n",
      "변수= 3 합계= 4\n",
      "변수= 5 합계= 9\n",
      "변수= 7 합계= 16\n",
      "변수= 9 합계= 25\n",
      "25\n"
     ]
    }
   ],
   "source": [
    "even_hab = 0\n",
    "\n",
    "for i in range(1,11,2):\n",
    "    even_hab = even_hab + i\n",
    "    print('변수=',i,'합계=',even_hab)\n",
    "\n",
    "print(even_hab)"
   ]
  },
  {
   "cell_type": "markdown",
   "id": "69e798b0",
   "metadata": {},
   "source": [
    "170."
   ]
  },
  {
   "cell_type": "code",
   "execution_count": 282,
   "id": "d188bc1e",
   "metadata": {},
   "outputs": [],
   "source": [
    "# 1 ~ 10까지의 숫자를 모두 곱한 값을 출력하는 프로그램 for문을 사용해 작성해라."
   ]
  },
  {
   "cell_type": "code",
   "execution_count": 289,
   "id": "a98521a4",
   "metadata": {},
   "outputs": [
    {
     "name": "stdout",
     "output_type": "stream",
     "text": [
      "1\n",
      "2\n",
      "6\n",
      "24\n",
      "120\n",
      "720\n",
      "5040\n",
      "40320\n",
      "362880\n",
      "3628800\n",
      "=======\n",
      "3628800\n"
     ]
    }
   ],
   "source": [
    "multiple = 1\n",
    "\n",
    "for i in range(1,11):\n",
    "    multiple = multiple * i\n",
    "    print(multiple)\n",
    "\n",
    "print('=======')\n",
    "\n",
    "print(multiple)"
   ]
  },
  {
   "cell_type": "code",
   "execution_count": null,
   "id": "3ab8da29",
   "metadata": {},
   "outputs": [],
   "source": [
    "multiple = 1\n",
    "multiple = multiple * i\n",
    "\n",
    "i = 1, multiple = 1 * 1 = 1\n",
    "\n",
    "i = 2, multiple = 1 * 2 = 2\n",
    "\n",
    "i = 3, multiple = 2 * 3 = 6\n",
    "\n",
    "i = 4, multiple = 6 * 4 = 24\n",
    "\n",
    "i = 5, multiple = 24 * 5 = 120\n",
    "\n",
    "i = 6, multiple = 120 * 6 = 720\n",
    "\n",
    "i = 7, multiple = 720 * 7 = 5040\n",
    "\n",
    "i = 8, multiple = 5040 * 8 = 40320\n",
    "\n",
    "i = 9, multiple = 40320 * 9 = 362880"
   ]
  },
  {
   "cell_type": "markdown",
   "id": "5a432e0b",
   "metadata": {},
   "source": [
    "# 171 ~ 180 파이썬 반복문"
   ]
  },
  {
   "cell_type": "markdown",
   "id": "185d68ae",
   "metadata": {},
   "source": [
    "# 171. 더 좋은 코드! - 복습하기"
   ]
  },
  {
   "cell_type": "code",
   "execution_count": 295,
   "id": "373383dd",
   "metadata": {},
   "outputs": [
    {
     "name": "stdout",
     "output_type": "stream",
     "text": [
      "32100\n",
      "32150\n",
      "32000\n",
      "32500\n"
     ]
    }
   ],
   "source": [
    "price_list = [32100,32150,32000,32500]   # 리스트 속 데이터 4개 \n",
    "\n",
    "for i in range(4):   # i를 4번 반복해라 \n",
    "    print(price_list[i])\n",
    "    "
   ]
  },
  {
   "cell_type": "code",
   "execution_count": 296,
   "id": "1180789d",
   "metadata": {},
   "outputs": [
    {
     "name": "stdout",
     "output_type": "stream",
     "text": [
      "[32100, 32150, 32000, 32500, 50000]\n",
      "========\n",
      "32100\n",
      "32150\n",
      "32000\n",
      "32500\n"
     ]
    }
   ],
   "source": [
    "price_list.append(50000)    # 원본 리스트가 수정될 경우(리스트 속 데이터 5개), 코드가 제대로 작동하지 않을 수 있음.\n",
    "print(price_list)\n",
    "\n",
    "print('========')\n",
    "\n",
    "for i in range(4):\n",
    "    print(price_list[i])"
   ]
  },
  {
   "cell_type": "code",
   "execution_count": 297,
   "id": "886740f2",
   "metadata": {},
   "outputs": [
    {
     "name": "stdout",
     "output_type": "stream",
     "text": [
      "32100\n",
      "32150\n",
      "32000\n",
      "32500\n",
      "50000\n"
     ]
    }
   ],
   "source": [
    "# 문제해설 - 더 좋은 코드!\n",
    "\n",
    "for i in range(len(price_list)):   # 리스트 속 데이터 개수만큼 반복해라 \n",
    "    print(price_list[i])"
   ]
  },
  {
   "cell_type": "markdown",
   "id": "37681b4a",
   "metadata": {},
   "source": [
    "# 172. enumerate() - 더 좋은 코드, 복습하기 "
   ]
  },
  {
   "cell_type": "code",
   "execution_count": 299,
   "id": "05abbfed",
   "metadata": {
    "scrolled": true
   },
   "outputs": [
    {
     "name": "stdout",
     "output_type": "stream",
     "text": [
      "0 32100\n",
      "1 32150\n",
      "2 32000\n",
      "3 32500\n"
     ]
    }
   ],
   "source": [
    "price_list = [32100,32150,32000,32500]\n",
    "\n",
    "for i in range(len(price_list)):\n",
    "    print(i,price_list[i])"
   ]
  },
  {
   "cell_type": "code",
   "execution_count": 303,
   "id": "73c99f83",
   "metadata": {},
   "outputs": [],
   "source": [
    "# 문제해설 - enumerate(자료형)"
   ]
  },
  {
   "cell_type": "code",
   "execution_count": 302,
   "id": "22957b64",
   "metadata": {},
   "outputs": [
    {
     "name": "stdout",
     "output_type": "stream",
     "text": [
      "[(0, 'apple'), (1, 'banana'), (2, 'strawberry'), (3, 'dragon-fruit'), (4, 'watermelon')]\n"
     ]
    }
   ],
   "source": [
    "fruit = ['apple','banana','strawberry','dragon-fruit','watermelon']\n",
    "\n",
    "print(list(enumerate(fruit)))\n"
   ]
  },
  {
   "cell_type": "code",
   "execution_count": 304,
   "id": "c2bbc5bf",
   "metadata": {},
   "outputs": [
    {
     "name": "stdout",
     "output_type": "stream",
     "text": [
      "0 32100\n",
      "1 32150\n",
      "2 32000\n",
      "3 32500\n"
     ]
    }
   ],
   "source": [
    "price_list = [32100,32150,32000,32500]\n",
    "\n",
    "for i, data in enumerate(price_list):   # 가격표 리스트의 인덱스 안에 있는 데이터에 대하여, 변수 i로 for문을 돌려라\n",
    "    print(i,data)   # i = 인덱스, data = 인덱스에 해당하는 데이터 "
   ]
  },
  {
   "cell_type": "markdown",
   "id": "0108144b",
   "metadata": {},
   "source": [
    "173."
   ]
  },
  {
   "cell_type": "code",
   "execution_count": 305,
   "id": "701a4d31",
   "metadata": {},
   "outputs": [
    {
     "name": "stdout",
     "output_type": "stream",
     "text": [
      "3 32100\n",
      "2 32150\n",
      "1 32000\n",
      "0 32500\n"
     ]
    }
   ],
   "source": [
    "price_list = [32100,32150,32000,32500]\n",
    "\n",
    "for i in range(4):\n",
    "    print(3-i,price_list[i])"
   ]
  },
  {
   "cell_type": "code",
   "execution_count": 308,
   "id": "805cd814",
   "metadata": {},
   "outputs": [
    {
     "name": "stdout",
     "output_type": "stream",
     "text": [
      "3 32100\n",
      "2 32150\n",
      "1 32000\n",
      "0 32500\n"
     ]
    }
   ],
   "source": [
    "price_list = [32100,32150,32000,32500]\n",
    "\n",
    "for i in range(len(price_list)):\n",
    "    print(len(price_list)-i-1,price_list[i])   # 원본 리스트가 수정되어도 적용이 가능한 좋은 코드!"
   ]
  },
  {
   "cell_type": "markdown",
   "id": "5796a368",
   "metadata": {},
   "source": [
    "# 174. 더 좋은 코드 - 복습하기!"
   ]
  },
  {
   "cell_type": "code",
   "execution_count": 316,
   "id": "4b49b936",
   "metadata": {},
   "outputs": [
    {
     "name": "stdout",
     "output_type": "stream",
     "text": [
      "100 32150\n",
      "110 32000\n",
      "120 32500\n"
     ]
    }
   ],
   "source": [
    "price_list = [32100,32150,32000,32500]\n",
    "\n",
    "price_list2 = [32150,32000,32500]\n",
    "\n",
    "for i in range(len(price_list2)):\n",
    "    print('1{}0'.format(i),price_list2[i])"
   ]
  },
  {
   "cell_type": "code",
   "execution_count": 317,
   "id": "178854d3",
   "metadata": {},
   "outputs": [
    {
     "name": "stdout",
     "output_type": "stream",
     "text": [
      "100 32150\n",
      "110 32000\n",
      "120 32500\n"
     ]
    }
   ],
   "source": [
    "# 문제해설\n",
    "\n",
    "price_list = [32100,32150,32000,32500]\n",
    "\n",
    "for i in range(1,4):  # 변수 i에 숫자 1부터 3까지 총 세번의 바인딩을 한다. \n",
    "    print(90 + 10*i,price_list[i])   # 10*i + 90 => 인덱싱, 리스트 인덱싱해서 나온 값 : 인덱싱 넘버 누적해서 출력 가능!"
   ]
  },
  {
   "cell_type": "code",
   "execution_count": null,
   "id": "fae79825",
   "metadata": {},
   "outputs": [],
   "source": [
    "i = 1, 90 + 10*1 => 100\n",
    "\n",
    "i = 2, 90 + 10*2 => 110\n",
    "\n",
    "i = 3, 90 + 10*3 => 120"
   ]
  },
  {
   "cell_type": "markdown",
   "id": "0379ae80",
   "metadata": {},
   "source": [
    "# 175.    수업 들으면서 질문할것들 !!! 아직 이해가 안가는게 많음.."
   ]
  },
  {
   "cell_type": "code",
   "execution_count": 1,
   "id": "636d2ae3",
   "metadata": {},
   "outputs": [
    {
     "name": "stdout",
     "output_type": "stream",
     "text": [
      "가 나\n",
      "나 다\n",
      "다 라\n"
     ]
    }
   ],
   "source": [
    "# 가 나  0 1\n",
    "# 나 다  1 2\n",
    "# 다 라  2 3\n",
    "\n",
    "x = ['가','나','다','라']\n",
    "\n",
    "print(x[0],x[1])\n",
    "\n",
    "print(x[1],x[2])\n",
    "\n",
    "print(x[2],x[3])"
   ]
  },
  {
   "cell_type": "code",
   "execution_count": 2,
   "id": "de9d9b62",
   "metadata": {},
   "outputs": [
    {
     "ename": "TypeError",
     "evalue": "list indices must be integers or slices, not str",
     "output_type": "error",
     "traceback": [
      "\u001b[0;31m---------------------------------------------------------------------------\u001b[0m",
      "\u001b[0;31mTypeError\u001b[0m                                 Traceback (most recent call last)",
      "Cell \u001b[0;32mIn[2], line 2\u001b[0m\n\u001b[1;32m      1\u001b[0m \u001b[38;5;28;01mfor\u001b[39;00m i \u001b[38;5;129;01min\u001b[39;00m x:\n\u001b[0;32m----> 2\u001b[0m     \u001b[38;5;28mprint\u001b[39m(x[i])\n",
      "\u001b[0;31mTypeError\u001b[0m: list indices must be integers or slices, not str"
     ]
    }
   ],
   "source": [
    "x = ['가','나','다','라']\n",
    "\n",
    "for i in x:\n",
    "    print(x[i])   # 리스트 슬라이싱시 인덱스 넘버는 정수만 가능"
   ]
  },
  {
   "cell_type": "code",
   "execution_count": 6,
   "id": "bd50be33",
   "metadata": {},
   "outputs": [
    {
     "name": "stdout",
     "output_type": "stream",
     "text": [
      "가 나\n",
      "나 다\n",
      "다 라\n"
     ]
    }
   ],
   "source": [
    "x = ['가','나','다','라']\n",
    "\n",
    "for i in [0,1,2]:       # for문의 자료형을 for문의 변수로 인덱싱 하지 않으면 괜찮음 ㅇㅇ ????\n",
    "    print(x[i],x[i+1])"
   ]
  },
  {
   "cell_type": "code",
   "execution_count": 7,
   "id": "0af44e74",
   "metadata": {},
   "outputs": [
    {
     "ename": "TypeError",
     "evalue": "'int' object is not iterable",
     "output_type": "error",
     "traceback": [
      "\u001b[0;31m---------------------------------------------------------------------------\u001b[0m",
      "\u001b[0;31mTypeError\u001b[0m                                 Traceback (most recent call last)",
      "Cell \u001b[0;32mIn[7], line 1\u001b[0m\n\u001b[0;32m----> 1\u001b[0m \u001b[38;5;28;01mfor\u001b[39;00m i \u001b[38;5;129;01min\u001b[39;00m \u001b[38;5;28mlen\u001b[39m(x)\u001b[38;5;241m-\u001b[39m\u001b[38;5;241m1\u001b[39m:\n\u001b[1;32m      2\u001b[0m     \u001b[38;5;28mprint\u001b[39m(x[\u001b[38;5;241m0\u001b[39m],x[i\u001b[38;5;241m+\u001b[39m\u001b[38;5;241m1\u001b[39m])\n",
      "\u001b[0;31mTypeError\u001b[0m: 'int' object is not iterable"
     ]
    }
   ],
   "source": [
    "x = ['가','나','다','라']\n",
    "\n",
    "for i in len(x)-1:     # len(x)-1 이건 안되는데\n",
    "    print(x[0],x[i+1])"
   ]
  },
  {
   "cell_type": "code",
   "execution_count": 8,
   "id": "78424b8e",
   "metadata": {},
   "outputs": [
    {
     "name": "stdout",
     "output_type": "stream",
     "text": [
      "가 나\n",
      "가 다\n",
      "가 라\n"
     ]
    }
   ],
   "source": [
    "x = ['가','나','다','라']\n",
    "\n",
    "for i in range(len(x)-1):   # range(leng(x)-1) 왜 이건 되지 ?!!!?!\n",
    "    print(x[0],x[i+1])"
   ]
  },
  {
   "cell_type": "markdown",
   "id": "005e9f5f",
   "metadata": {},
   "source": [
    "176."
   ]
  },
  {
   "cell_type": "code",
   "execution_count": 9,
   "id": "e8daf719",
   "metadata": {},
   "outputs": [],
   "source": [
    "x = ['가','나','다','라','마']\n",
    "\n",
    "# 가 나 다\n",
    "# 나 다 라\n",
    "# 다 라 마"
   ]
  },
  {
   "cell_type": "code",
   "execution_count": 11,
   "id": "acce73c1",
   "metadata": {},
   "outputs": [
    {
     "name": "stdout",
     "output_type": "stream",
     "text": [
      "가 나 다\n",
      "나 다 라\n",
      "다 라 마\n"
     ]
    }
   ],
   "source": [
    "x = ['가','나','다','라','마']\n",
    "\n",
    "for i in range(3):\n",
    "    print(x[i],x[i+1],x[i+2])"
   ]
  },
  {
   "cell_type": "markdown",
   "id": "58ca7a44",
   "metadata": {},
   "source": [
    "# 177."
   ]
  },
  {
   "cell_type": "code",
   "execution_count": 14,
   "id": "5448ce4c",
   "metadata": {},
   "outputs": [
    {
     "name": "stdout",
     "output_type": "stream",
     "text": [
      "마\n",
      "라\n"
     ]
    }
   ],
   "source": [
    "# 파이썬 음수 인덱싱\n",
    "\n",
    "y = ['가','나','다','라','마']\n",
    "\n",
    "print(y[-1])\n",
    "print(y[-2])"
   ]
  },
  {
   "cell_type": "code",
   "execution_count": 18,
   "id": "55360c79",
   "metadata": {
    "scrolled": true
   },
   "outputs": [
    {
     "name": "stdout",
     "output_type": "stream",
     "text": [
      "라 다\n",
      "다 나\n",
      "나 가\n"
     ]
    },
    {
     "ename": "IndexError",
     "evalue": "list index out of range",
     "output_type": "error",
     "traceback": [
      "\u001b[0;31m---------------------------------------------------------------------------\u001b[0m",
      "\u001b[0;31mIndexError\u001b[0m                                Traceback (most recent call last)",
      "Cell \u001b[0;32mIn[18], line 8\u001b[0m\n\u001b[1;32m      3\u001b[0m \u001b[38;5;66;03m# 라 다\u001b[39;00m\n\u001b[1;32m      4\u001b[0m \u001b[38;5;66;03m# 다 나\u001b[39;00m\n\u001b[1;32m      5\u001b[0m \u001b[38;5;66;03m# 나 가\u001b[39;00m\n\u001b[1;32m      7\u001b[0m \u001b[38;5;28;01mfor\u001b[39;00m i \u001b[38;5;129;01min\u001b[39;00m \u001b[38;5;28mrange\u001b[39m(\u001b[38;5;241m1\u001b[39m,\u001b[38;5;28mlen\u001b[39m(x)\u001b[38;5;241m+\u001b[39m\u001b[38;5;241m1\u001b[39m):   \u001b[38;5;66;03m# 1 ~ 4까지 1, 2, 3, 4 \u001b[39;00m\n\u001b[0;32m----> 8\u001b[0m     \u001b[38;5;28mprint\u001b[39m(x[\u001b[38;5;241m-\u001b[39mi],x[\u001b[38;5;241m-\u001b[39mi\u001b[38;5;241m-\u001b[39m\u001b[38;5;241m1\u001b[39m])\n",
      "\u001b[0;31mIndexError\u001b[0m: list index out of range"
     ]
    }
   ],
   "source": [
    "x = ['가','나','다','라']\n",
    "\n",
    "# 라 다\n",
    "# 다 나\n",
    "# 나 가\n",
    "\n",
    "for i in range(1,len(x)+1):   # 1 ~ 4까지 1, 2, 3, 4 \n",
    "    print(x[-i],x[-i-1])\n",
    "    \n",
    "    \n",
    "# 에러 : for문에서 range() 함수에 잘못된 값 전달 - 리스트를 순회할 때 존재하지 않는 항목에 접근하려함\n",
    "# i = 1  -1,-2\n",
    "# i = 2  -2,-3\n",
    "# i = 3  -3,-4\n",
    "# i = 4  -4,-5   --> 인덱싱시 x[-5] 부분이 없음"
   ]
  },
  {
   "cell_type": "code",
   "execution_count": 21,
   "id": "209c2a7a",
   "metadata": {},
   "outputs": [
    {
     "name": "stdout",
     "output_type": "stream",
     "text": [
      "라 다\n",
      "다 나\n",
      "나 가\n"
     ]
    }
   ],
   "source": [
    "x = ['가','나','다','라']\n",
    "\n",
    "# 라 다\n",
    "# 다 나\n",
    "# 나 가\n",
    "\n",
    "for i in range(1,4):   \n",
    "    print(x[-i],x[-i-1])"
   ]
  },
  {
   "cell_type": "code",
   "execution_count": 24,
   "id": "270cfa7b",
   "metadata": {},
   "outputs": [
    {
     "name": "stdout",
     "output_type": "stream",
     "text": [
      "라 다\n",
      "다 나\n",
      "나 가\n"
     ]
    }
   ],
   "source": [
    "# 문제해설 - 더 보편적으로 적용될 수 있는 코드 \n",
    "\n",
    "for i in range(len(x)-1):   # for문을 4번 반복, 0,1,2,3\n",
    "    print(x[len(x)-1-i],x[len(x)-2-i])"
   ]
  },
  {
   "cell_type": "markdown",
   "id": "5d2fa453",
   "metadata": {},
   "source": [
    "178."
   ]
  },
  {
   "cell_type": "code",
   "execution_count": 25,
   "id": "3ac4b462",
   "metadata": {},
   "outputs": [
    {
     "name": "stdout",
     "output_type": "stream",
     "text": [
      "100\n",
      "200\n",
      "400\n"
     ]
    }
   ],
   "source": [
    "x = [100,200,400,800]\n",
    "\n",
    "# 우측 값과의 차분을 출력\n",
    "# 100\n",
    "# 200\n",
    "# 400\n",
    "\n",
    "\n",
    "for i in range(len(x)-1):\n",
    "    print(abs(x[i+1]-x[i]))\n",
    "    \n",
    "# abs() - 절대값 계산 함수\n",
    "# 절대값이란 ? 어떤 숫자의 부호와 상관 없이 항상 양수로 표현되는 값"
   ]
  },
  {
   "cell_type": "markdown",
   "id": "67957856",
   "metadata": {},
   "source": [
    "179."
   ]
  },
  {
   "cell_type": "code",
   "execution_count": 31,
   "id": "5c20585b",
   "metadata": {},
   "outputs": [
    {
     "name": "stdout",
     "output_type": "stream",
     "text": [
      "233.33333333333334\n",
      "466.6666666666667\n",
      "733.3333333333334\n",
      "1033.3333333333333\n"
     ]
    }
   ],
   "source": [
    "# 6일간의 종가 데이터\n",
    "x = [100,200,400,800,1000,1300]\n",
    "\n",
    "# 종가 데이터 3일 이동 평균을 출력하라\n",
    "# 6 데이터 - 4 평균\n",
    "# 7 데이터 - 5 평균\n",
    "# 8 데이터 - 6 평균\n",
    "\n",
    "for i in range(len(x)-2):\n",
    "    print((x[i]+x[i+1]+x[i+2])/3)"
   ]
  },
  {
   "cell_type": "markdown",
   "id": "06528612",
   "metadata": {},
   "source": [
    "# 180.  질문거리"
   ]
  },
  {
   "cell_type": "code",
   "execution_count": 42,
   "id": "12de4caa",
   "metadata": {},
   "outputs": [],
   "source": [
    "low_prices = [100,200,400,800,1000]\n",
    "high_prices = [150,300,430,880,1000]\n",
    "\n",
    "volatility = []"
   ]
  },
  {
   "cell_type": "code",
   "execution_count": 43,
   "id": "49fe4576",
   "metadata": {},
   "outputs": [
    {
     "ename": "TypeError",
     "evalue": "'int' object is not iterable",
     "output_type": "error",
     "traceback": [
      "\u001b[0;31m---------------------------------------------------------------------------\u001b[0m",
      "\u001b[0;31mTypeError\u001b[0m                                 Traceback (most recent call last)",
      "Cell \u001b[0;32mIn[43], line 1\u001b[0m\n\u001b[0;32m----> 1\u001b[0m \u001b[38;5;28;01mfor\u001b[39;00m i \u001b[38;5;129;01min\u001b[39;00m \u001b[38;5;28mlen\u001b[39m(high_prices):   \u001b[38;5;66;03m# range()가 있으면 되고, 없으면 안되고... 왜이러지 ?!!?!\u001b[39;00m\n\u001b[1;32m      2\u001b[0m     volatility\u001b[38;5;241m.\u001b[39mappend(high_prices[i]\u001b[38;5;241m-\u001b[39mlow_prices[i])\n\u001b[1;32m      4\u001b[0m \u001b[38;5;28mprint\u001b[39m(volatility)\n",
      "\u001b[0;31mTypeError\u001b[0m: 'int' object is not iterable"
     ]
    }
   ],
   "source": [
    "for i in len(high_prices):   # range()가 있으면 되고, 없으면 안되고... 왜이러지 ?!!?!\n",
    "    volatility.append(high_prices[i]-low_prices[i])\n",
    "\n",
    "print(volatility)"
   ]
  },
  {
   "cell_type": "code",
   "execution_count": 44,
   "id": "cebefda9",
   "metadata": {},
   "outputs": [
    {
     "name": "stdout",
     "output_type": "stream",
     "text": [
      "[50, 100, 30, 80, 0]\n"
     ]
    }
   ],
   "source": [
    "for i in range(len(high_prices)):\n",
    "    volatility.append(high_prices[i]-low_prices[i])\n",
    "\n",
    "print(volatility)"
   ]
  },
  {
   "cell_type": "markdown",
   "id": "6d5f036b",
   "metadata": {},
   "source": [
    "# 181 ~ 190 파이썬 반복문"
   ]
  },
  {
   "cell_type": "markdown",
   "id": "f9473b48",
   "metadata": {},
   "source": [
    "181."
   ]
  },
  {
   "cell_type": "code",
   "execution_count": 46,
   "id": "f71ff48f",
   "metadata": {},
   "outputs": [],
   "source": [
    "apart = [['101호','102호'],['201호','202호'],['301호','302호']]"
   ]
  },
  {
   "cell_type": "markdown",
   "id": "ed263599",
   "metadata": {},
   "source": [
    "182."
   ]
  },
  {
   "cell_type": "code",
   "execution_count": 49,
   "id": "fc3d2fe9",
   "metadata": {},
   "outputs": [],
   "source": [
    "stock = [['시가',100,200,300],['종가',80,210,330]]"
   ]
  },
  {
   "cell_type": "markdown",
   "id": "8766b4e1",
   "metadata": {},
   "source": [
    "183."
   ]
  },
  {
   "cell_type": "code",
   "execution_count": 50,
   "id": "e2725ee1",
   "metadata": {},
   "outputs": [
    {
     "name": "stdout",
     "output_type": "stream",
     "text": [
      "{'시가': [100, 200, 300], '종가': [80, 210, 330]}\n"
     ]
    }
   ],
   "source": [
    "stock = {\n",
    "    '시가':[100,200,300],\n",
    "    '종가':[80,210,330]\n",
    "}\n",
    "\n",
    "print(stock)"
   ]
  },
  {
   "cell_type": "markdown",
   "id": "d65a7e5a",
   "metadata": {},
   "source": [
    "184."
   ]
  },
  {
   "cell_type": "code",
   "execution_count": 51,
   "id": "fca0b014",
   "metadata": {},
   "outputs": [],
   "source": [
    "stock = {\n",
    "    '10/10':[80,110,70,90],\n",
    "    '10/11':[210,230,190,200]\n",
    "}"
   ]
  },
  {
   "cell_type": "markdown",
   "id": "f9be5250",
   "metadata": {},
   "source": [
    "# 185. 이중리스트에 있는 모든 데이터를 출력하는 방식 - 이중포문 - 복습하기"
   ]
  },
  {
   "cell_type": "code",
   "execution_count": 53,
   "id": "4509c8a0",
   "metadata": {},
   "outputs": [
    {
     "name": "stdout",
     "output_type": "stream",
     "text": [
      "101 호\n",
      "102 호\n",
      "201 호\n",
      "202 호\n",
      "301 호\n",
      "302 호\n"
     ]
    }
   ],
   "source": [
    "apart = [[101,102],[201,202],[301,302]]\n",
    "\n",
    "for i in range(len(apart)):\n",
    "    print(apart[i][0],'호')\n",
    "    print(apart[i][1],'호')"
   ]
  },
  {
   "cell_type": "code",
   "execution_count": 54,
   "id": "d03e4357",
   "metadata": {},
   "outputs": [
    {
     "name": "stdout",
     "output_type": "stream",
     "text": [
      "101 호\n",
      "102 호\n",
      "201 호\n",
      "202 호\n",
      "301 호\n",
      "302 호\n"
     ]
    }
   ],
   "source": [
    "# 문제해설 - 중첩 for문\n",
    "\n",
    "for x in apart:   # x = [101,102],[201,202],[301,302]\n",
    "    for y in x:\n",
    "        print(y,'호')\n",
    "        \n",
    "# 중첩 리스트 출력 방식 => 중첩 for문"
   ]
  },
  {
   "cell_type": "code",
   "execution_count": 55,
   "id": "73265bde",
   "metadata": {},
   "outputs": [
    {
     "name": "stdout",
     "output_type": "stream",
     "text": [
      "골드키위\n",
      "딸기\n",
      "용과\n",
      "봄\n",
      "가을\n",
      "고양이\n"
     ]
    }
   ],
   "source": [
    "# 연습\n",
    "\n",
    "새미 = [['골드키위','딸기','용과'],['봄','가을'],['고양이']]  \n",
    "\n",
    "for 좋아하는_집합 in 새미:\n",
    "    for 좋아하는_것들 in 좋아하는_집합:\n",
    "        print(좋아하는_것들)"
   ]
  },
  {
   "cell_type": "markdown",
   "id": "4c569073",
   "metadata": {},
   "source": [
    "186."
   ]
  },
  {
   "cell_type": "code",
   "execution_count": 59,
   "id": "c6c207c9",
   "metadata": {},
   "outputs": [
    {
     "name": "stdout",
     "output_type": "stream",
     "text": [
      "302\n",
      "301\n",
      "202\n",
      "201\n",
      "102\n",
      "101\n"
     ]
    }
   ],
   "source": [
    "apart = [[101,102],[201,202],[301,302]]\n",
    "\n",
    "print(apart[2][1])\n",
    "print(apart[2][0])\n",
    "print(apart[1][1])\n",
    "print(apart[1][0])\n",
    "print(apart[0][1])\n",
    "print(apart[0][0])"
   ]
  },
  {
   "cell_type": "code",
   "execution_count": 64,
   "id": "738a420a",
   "metadata": {},
   "outputs": [
    {
     "name": "stdout",
     "output_type": "stream",
     "text": [
      "302 호\n",
      "301 호\n",
      "202 호\n",
      "201 호\n",
      "102 호\n",
      "101 호\n"
     ]
    }
   ],
   "source": [
    "apart = [[101,102],[201,202],[301,302]]   # len(apart) = 3\n",
    "\n",
    "for i in range(1,len(apart)+1):   # i = 1, 2, 3\n",
    "    print(apart[-i][-1],'호')\n",
    "    print(apart[-i][-2],'호')"
   ]
  },
  {
   "cell_type": "code",
   "execution_count": 66,
   "id": "c01906bb",
   "metadata": {},
   "outputs": [
    {
     "name": "stdout",
     "output_type": "stream",
     "text": [
      "[5, 4, 3, 2, 1]\n"
     ]
    }
   ],
   "source": [
    "# 문제해설 : 리스트 슬라이싱 및 오프셋 활용\n",
    "\n",
    "test = [1,2,3,4,5]\n",
    "\n",
    "print(test[::-1])\n",
    "\n",
    "# 슬라이싱 + 오프셋 : 자료구조 맨 마지막부터 순차적으로 반환"
   ]
  },
  {
   "cell_type": "code",
   "execution_count": 69,
   "id": "f79b082a",
   "metadata": {},
   "outputs": [
    {
     "name": "stdout",
     "output_type": "stream",
     "text": [
      "301 호\n",
      "302 호\n",
      "201 호\n",
      "202 호\n",
      "101 호\n",
      "102 호\n"
     ]
    }
   ],
   "source": [
    "apart = [[101,102],[201,202],[301,302]]\n",
    "\n",
    "for i in apart[::-1]:   # i = [301,302],[201,202],[101,102]\n",
    "    for x in i:\n",
    "        print(x,'호')"
   ]
  },
  {
   "cell_type": "markdown",
   "id": "41c06333",
   "metadata": {},
   "source": [
    "187."
   ]
  },
  {
   "cell_type": "code",
   "execution_count": 70,
   "id": "45b747ae",
   "metadata": {
    "scrolled": true
   },
   "outputs": [
    {
     "name": "stdout",
     "output_type": "stream",
     "text": [
      "302 호\n",
      "301 호\n",
      "202 호\n",
      "201 호\n",
      "102 호\n",
      "101 호\n"
     ]
    }
   ],
   "source": [
    "apart = [[101,102],[201,202],[301,302]]\n",
    "\n",
    "for i in apart[::-1]:   # i = [301,302],[201,202],[101,102]\n",
    "    for x in i[::-1]:\n",
    "        print(x,'호')"
   ]
  },
  {
   "cell_type": "markdown",
   "id": "0dab84a1",
   "metadata": {},
   "source": [
    "188."
   ]
  },
  {
   "cell_type": "code",
   "execution_count": 72,
   "id": "e7e55d95",
   "metadata": {},
   "outputs": [
    {
     "name": "stdout",
     "output_type": "stream",
     "text": [
      "101 호\n",
      "-----\n",
      "102 호\n",
      "-----\n",
      "201 호\n",
      "-----\n",
      "202 호\n",
      "-----\n",
      "301 호\n",
      "-----\n",
      "302 호\n",
      "-----\n"
     ]
    }
   ],
   "source": [
    "apart = [[101,102],[201,202],[301,302]]\n",
    "\n",
    "for i in apart:\n",
    "    for x in i:\n",
    "        print(x,'호')\n",
    "        print('-'*5)"
   ]
  },
  {
   "cell_type": "markdown",
   "id": "7bca99ce",
   "metadata": {},
   "source": [
    "189."
   ]
  },
  {
   "cell_type": "code",
   "execution_count": 73,
   "id": "32a59322",
   "metadata": {
    "scrolled": true
   },
   "outputs": [
    {
     "name": "stdout",
     "output_type": "stream",
     "text": [
      "101 호\n",
      "102 호\n",
      "-----\n",
      "201 호\n",
      "202 호\n",
      "-----\n",
      "301 호\n",
      "302 호\n",
      "-----\n"
     ]
    }
   ],
   "source": [
    "apart = [[101,102],[201,202],[301,302]]\n",
    "\n",
    "for i in apart:\n",
    "    for x in i:\n",
    "        print(x,'호')\n",
    "    print('-'*5)"
   ]
  },
  {
   "cell_type": "markdown",
   "id": "d1e8337e",
   "metadata": {},
   "source": [
    "190."
   ]
  },
  {
   "cell_type": "code",
   "execution_count": 74,
   "id": "eb1724f0",
   "metadata": {},
   "outputs": [
    {
     "name": "stdout",
     "output_type": "stream",
     "text": [
      "101 호\n",
      "102 호\n",
      "201 호\n",
      "202 호\n",
      "301 호\n",
      "302 호\n",
      "-----\n"
     ]
    }
   ],
   "source": [
    "apart = [[101,102],[201,202],[301,302]]\n",
    "\n",
    "for i in apart:\n",
    "    for x in i:\n",
    "        print(x,'호')\n",
    "\n",
    "print('-'*5)"
   ]
  },
  {
   "cell_type": "markdown",
   "id": "be796ba6",
   "metadata": {},
   "source": [
    "# 191 ~ 200 파이썬 반복문"
   ]
  },
  {
   "cell_type": "markdown",
   "id": "2a786e71",
   "metadata": {},
   "source": [
    "191."
   ]
  },
  {
   "cell_type": "code",
   "execution_count": 82,
   "id": "3877b8b6",
   "metadata": {},
   "outputs": [
    {
     "name": "stdout",
     "output_type": "stream",
     "text": [
      "2000.28\n",
      "3050.427\n",
      "2050.2870000000003\n",
      "1980.2772\n",
      "7501.05\n",
      "2050.2870000000003\n",
      "2050.2870000000003\n",
      "1980.2772\n",
      "15452.163\n",
      "15052.107\n",
      "15552.177\n",
      "14902.086000000001\n"
     ]
    }
   ],
   "source": [
    "data = [\n",
    "    [ 2000,  3050,  2050,  1980],\n",
    "    [ 7500,  2050,  2050,  1980],\n",
    "    [15450, 15050, 15550, 14900]\n",
    "]\n",
    "\n",
    "for i in data:\n",
    "    for x in i:\n",
    "        print(x * 1.00014)"
   ]
  },
  {
   "cell_type": "markdown",
   "id": "6bf9785b",
   "metadata": {},
   "source": [
    "192."
   ]
  },
  {
   "cell_type": "code",
   "execution_count": 83,
   "id": "8c394d35",
   "metadata": {},
   "outputs": [
    {
     "name": "stdout",
     "output_type": "stream",
     "text": [
      "2000.28\n",
      "3050.427\n",
      "2050.2870000000003\n",
      "1980.2772\n",
      "----\n",
      "7501.05\n",
      "2050.2870000000003\n",
      "2050.2870000000003\n",
      "1980.2772\n",
      "----\n",
      "15452.163\n",
      "15052.107\n",
      "15552.177\n",
      "14902.086000000001\n",
      "----\n"
     ]
    }
   ],
   "source": [
    "data = [\n",
    "    [ 2000,  3050,  2050,  1980],\n",
    "    [ 7500,  2050,  2050,  1980],\n",
    "    [15450, 15050, 15550, 14900]\n",
    "]\n",
    "\n",
    "for i in data:\n",
    "    for x in i:\n",
    "        print(x * 1.00014)\n",
    "    print('-'*4)"
   ]
  },
  {
   "cell_type": "markdown",
   "id": "880d9d14",
   "metadata": {},
   "source": [
    "!! 퍼센테이지 곱할 때 주의!!\n",
    "\n",
    "100% = 1\n",
    "\n",
    "10% = 0.1\n",
    "\n",
    "1% = 0.01\n",
    "\n",
    "0.1% = 0.001\n",
    "\n",
    "0.01%= 0.0001\n",
    "\n",
    "0.001%= 0.00001"
   ]
  },
  {
   "cell_type": "markdown",
   "id": "cfc5e543",
   "metadata": {},
   "source": [
    "193."
   ]
  },
  {
   "cell_type": "code",
   "execution_count": 85,
   "id": "8e7e6994",
   "metadata": {},
   "outputs": [
    {
     "name": "stdout",
     "output_type": "stream",
     "text": [
      "[2000.28, 3050.427, 2050.2870000000003, 1980.2772, 7501.05, 2050.2870000000003, 2050.2870000000003, 1980.2772, 15452.163, 15052.107, 15552.177, 14902.086000000001]\n"
     ]
    }
   ],
   "source": [
    "data = [\n",
    "    [ 2000,  3050,  2050,  1980],\n",
    "    [ 7500,  2050,  2050,  1980],\n",
    "    [15450, 15050, 15550, 14900]\n",
    "]\n",
    "\n",
    "result = []\n",
    "\n",
    "for i in data:\n",
    "    for x in i:\n",
    "        result.append(x * 1.00014)\n",
    "\n",
    "print(result)"
   ]
  },
  {
   "cell_type": "markdown",
   "id": "6daf2258",
   "metadata": {},
   "source": [
    "# 194.  복습하기"
   ]
  },
  {
   "cell_type": "code",
   "execution_count": 87,
   "id": "a84d8830",
   "metadata": {},
   "outputs": [
    {
     "name": "stdout",
     "output_type": "stream",
     "text": [
      "[[2000.28, 3050.427, 2050.2870000000003, 1980.2772, 7501.05, 2050.2870000000003, 2050.2870000000003, 1980.2772, 15452.163, 15052.107, 15552.177, 14902.086000000001], [2000.28, 3050.427, 2050.2870000000003, 1980.2772, 7501.05, 2050.2870000000003, 2050.2870000000003, 1980.2772, 15452.163, 15052.107, 15552.177, 14902.086000000001], [2000.28, 3050.427, 2050.2870000000003, 1980.2772, 7501.05, 2050.2870000000003, 2050.2870000000003, 1980.2772, 15452.163, 15052.107, 15552.177, 14902.086000000001]]\n"
     ]
    }
   ],
   "source": [
    "data = [\n",
    "    [ 2000,  3050,  2050,  1980],\n",
    "    [ 7500,  2050,  2050,  1980],\n",
    "    [15450, 15050, 15550, 14900]\n",
    "]\n",
    "\n",
    "result = []\n",
    "result_small = []\n",
    "\n",
    "for i in data:\n",
    "    for x in i:\n",
    "        result_small.append(x * 1.00014)\n",
    "    result.append(result_small)\n",
    "\n",
    "print(result)"
   ]
  },
  {
   "cell_type": "code",
   "execution_count": 88,
   "id": "d35aae7a",
   "metadata": {},
   "outputs": [
    {
     "name": "stdout",
     "output_type": "stream",
     "text": [
      "[[2000.28, 3050.427, 2050.2870000000003, 1980.2772], [7501.05, 2050.2870000000003, 2050.2870000000003, 1980.2772], [15452.163, 15052.107, 15552.177, 14902.086000000001]]\n"
     ]
    }
   ],
   "source": [
    "# 문제해설\n",
    "\n",
    "data = [\n",
    "    [ 2000,  3050,  2050,  1980],\n",
    "    [ 7500,  2050,  2050,  1980],\n",
    "    [15450, 15050, 15550, 14900]\n",
    "]\n",
    "\n",
    "rul = []\n",
    "\n",
    "for line in data:\n",
    "    sub = []\n",
    "    for column in line:\n",
    "        sub.append(column * 1.00014)\n",
    "    rul.append(sub)\n",
    "\n",
    "print(rul)"
   ]
  },
  {
   "cell_type": "code",
   "execution_count": null,
   "id": "53618c6a",
   "metadata": {},
   "outputs": [],
   "source": []
  },
  {
   "cell_type": "code",
   "execution_count": 89,
   "id": "100171ee",
   "metadata": {},
   "outputs": [
    {
     "name": "stdout",
     "output_type": "stream",
     "text": [
      "[[10, 20, 30, 50, 100, 150], [10, 20, 30, 50, 100, 150]]\n"
     ]
    }
   ],
   "source": [
    "data = [\n",
    "    [1, 2, 3],\n",
    "    [5, 10, 15],\n",
    "]\n",
    "\n",
    "result = []\n",
    "result_small = []                          # sub가 포문 바깥에 있는 경우\n",
    "\n",
    "for i in data:\n",
    "    for x in i:\n",
    "        result_small.append(x * 10)   # result_small = [10,20,30] / [50,100,150]\n",
    "    result.append(result_small)       # result = [[10,20,30]]\n",
    "\n",
    "print(result)"
   ]
  },
  {
   "cell_type": "code",
   "execution_count": 90,
   "id": "d7237714",
   "metadata": {},
   "outputs": [
    {
     "name": "stdout",
     "output_type": "stream",
     "text": [
      "[[10, 20, 30], [50, 100, 150]]\n"
     ]
    }
   ],
   "source": [
    "data = [\n",
    "    [1, 2, 3],\n",
    "    [5, 10, 15],\n",
    "]\n",
    "\n",
    "rul = []\n",
    "\n",
    "for line in data:\n",
    "    sub = []                               # sub가 포문 안에 있는 경우\n",
    "    for column in line:\n",
    "        sub.append(column * 10)\n",
    "    rul.append(sub)\n",
    "\n",
    "print(rul)"
   ]
  },
  {
   "cell_type": "code",
   "execution_count": 98,
   "id": "04d72bc5",
   "metadata": {},
   "outputs": [
    {
     "name": "stdout",
     "output_type": "stream",
     "text": [
      "[10]\n",
      "-----\n",
      "[10, 20]\n",
      "-----\n",
      "[10, 20, 30]\n",
      "-----\n",
      "[[10, 20, 30]]\n",
      "+++++\n",
      "     \n",
      "[10, 20, 30, 50]\n",
      "-----\n",
      "[10, 20, 30, 50, 100]\n",
      "-----\n",
      "[10, 20, 30, 50, 100, 150]\n",
      "-----\n",
      "[[10, 20, 30, 50, 100, 150], [10, 20, 30, 50, 100, 150]]\n",
      "+++++\n",
      "     \n",
      "*****\n",
      "[[10, 20, 30, 50, 100, 150], [10, 20, 30, 50, 100, 150]]\n"
     ]
    }
   ],
   "source": [
    "data = [\n",
    "    [1, 2, 3],\n",
    "    [5, 10, 15],\n",
    "]\n",
    "\n",
    "result = []\n",
    "result_small = []                          # sub가 포문 바깥에 있는 경우\n",
    "\n",
    "for i in data:\n",
    "    for x in i:\n",
    "        result_small.append(x * 10)   # result_small = [10,20,30] / [50,100,150]\n",
    "        print(result_small)\n",
    "        print('-'*5)\n",
    "    result.append(result_small)       # result = [[10,20,30]]\n",
    "    print(result)\n",
    "    print('+'*5)\n",
    "    print(' '*5)\n",
    "\n",
    "print('*'*5)    \n",
    "print(result)\n",
    "\n"
   ]
  },
  {
   "cell_type": "code",
   "execution_count": 99,
   "id": "ff24d4f0",
   "metadata": {},
   "outputs": [
    {
     "name": "stdout",
     "output_type": "stream",
     "text": [
      "[10, 20, 30, 50, 100, 150]\n",
      "-----\n",
      "[10, 20, 30, 50, 100, 150]\n",
      "-----\n",
      "[10, 20, 30, 50, 100, 150]\n",
      "-----\n",
      "+++++\n",
      "     \n",
      "[10, 20, 30, 50, 100, 150]\n",
      "-----\n",
      "[10, 20, 30, 50, 100, 150]\n",
      "-----\n",
      "[10, 20, 30, 50, 100, 150]\n",
      "-----\n",
      "+++++\n",
      "     \n",
      "*****\n",
      "[[10, 20, 30], [50, 100, 150]]\n"
     ]
    }
   ],
   "source": [
    "data = [\n",
    "    [1, 2, 3],\n",
    "    [5, 10, 15],\n",
    "]\n",
    "\n",
    "rul = []\n",
    "\n",
    "for line in data:\n",
    "    sub = []                               # sub가 포문 안에 있는 경우\n",
    "    for column in line:\n",
    "        sub.append(column * 10)\n",
    "        print(result_small)\n",
    "        print('-'*5)\n",
    "        \n",
    "    rul.append(sub)\n",
    "    print('+'*5)\n",
    "    print(' '*5)\n",
    "\n",
    "print('*'*5)\n",
    "print(rul)"
   ]
  },
  {
   "cell_type": "markdown",
   "id": "7880c807",
   "metadata": {},
   "source": [
    "195."
   ]
  },
  {
   "cell_type": "code",
   "execution_count": 106,
   "id": "3097ac8d",
   "metadata": {},
   "outputs": [],
   "source": [
    "# ohlc 리스트에는 시가(open), 고가 (high), 저가 (low) , 종가(close)가 날짜별로 저장돼 있다. 화면에 종가데이터를 출력하라.\n",
    "\n",
    "ohlc = [[\"open\", \"high\", \"low\", \"close\"],\n",
    "        [100, 110, 70, 100],\n",
    "        [200, 210, 180, 190],\n",
    "        [300, 310, 300, 310]]"
   ]
  },
  {
   "cell_type": "code",
   "execution_count": 107,
   "id": "cf8f38f6",
   "metadata": {},
   "outputs": [
    {
     "ename": "TypeError",
     "evalue": "'int' object is not iterable",
     "output_type": "error",
     "traceback": [
      "\u001b[0;31m---------------------------------------------------------------------------\u001b[0m",
      "\u001b[0;31mTypeError\u001b[0m                                 Traceback (most recent call last)",
      "Cell \u001b[0;32mIn[107], line 2\u001b[0m\n\u001b[1;32m      1\u001b[0m \u001b[38;5;28;01mfor\u001b[39;00m i \u001b[38;5;129;01min\u001b[39;00m \u001b[38;5;28mrange\u001b[39m(\u001b[38;5;241m1\u001b[39m,\u001b[38;5;28mlen\u001b[39m(ohlc)):\n\u001b[0;32m----> 2\u001b[0m     \u001b[38;5;28;01mfor\u001b[39;00m x \u001b[38;5;129;01min\u001b[39;00m i:       \u001b[38;5;66;03m# 정수형 변수를 for문에서 반복하려고 시도할 경우 에러\u001b[39;00m\n\u001b[1;32m      3\u001b[0m         \u001b[38;5;28mprint\u001b[39m(x[\u001b[38;5;241m3\u001b[39m])\n",
      "\u001b[0;31mTypeError\u001b[0m: 'int' object is not iterable"
     ]
    }
   ],
   "source": [
    "for i in range(1,len(ohlc)):\n",
    "    for x in i:       # 정수형 변수를 for문에서 반복하려고 시도할 경우 에러\n",
    "        print(x[3])"
   ]
  },
  {
   "cell_type": "code",
   "execution_count": 108,
   "id": "5d47f15a",
   "metadata": {},
   "outputs": [
    {
     "name": "stdout",
     "output_type": "stream",
     "text": [
      "o\n",
      "h\n",
      "l\n",
      "c\n"
     ]
    },
    {
     "ename": "TypeError",
     "evalue": "'int' object is not subscriptable",
     "output_type": "error",
     "traceback": [
      "\u001b[0;31m---------------------------------------------------------------------------\u001b[0m",
      "\u001b[0;31mTypeError\u001b[0m                                 Traceback (most recent call last)",
      "Cell \u001b[0;32mIn[108], line 8\u001b[0m\n\u001b[1;32m      6\u001b[0m \u001b[38;5;28;01mfor\u001b[39;00m i \u001b[38;5;129;01min\u001b[39;00m ohlc:\n\u001b[1;32m      7\u001b[0m     \u001b[38;5;28;01mfor\u001b[39;00m x \u001b[38;5;129;01min\u001b[39;00m i:       \n\u001b[0;32m----> 8\u001b[0m         \u001b[38;5;28mprint\u001b[39m(x[\u001b[38;5;241m0\u001b[39m])\n",
      "\u001b[0;31mTypeError\u001b[0m: 'int' object is not subscriptable"
     ]
    }
   ],
   "source": [
    "ohlc = [[\"open\", \"high\", \"low\", \"close\"],\n",
    "        [100, 110, 70, 100],\n",
    "        [200, 210, 180, 190],\n",
    "        [300, 310, 300, 310]]\n",
    "\n",
    "for i in ohlc:\n",
    "    for x in i:       \n",
    "        print(x[0])"
   ]
  },
  {
   "cell_type": "code",
   "execution_count": 136,
   "id": "8c9c654c",
   "metadata": {},
   "outputs": [
    {
     "name": "stdout",
     "output_type": "stream",
     "text": [
      "close\n",
      "100\n",
      "190\n",
      "310\n"
     ]
    }
   ],
   "source": [
    "ohlc = [\n",
    "    ['open','high','low','close'],\n",
    "    [100,110,70,100],\n",
    "    [200,210,180,190],\n",
    "    [300,310,300,310]\n",
    "]\n",
    "\n",
    "for i in ohlc:\n",
    "    for x in range(len(ohlc)):   # x = 0, 1, 2, 3\n",
    "        if x == 3:   \n",
    "            print(i[x])\n",
    "        "
   ]
  },
  {
   "cell_type": "code",
   "execution_count": null,
   "id": "d50bfbfd",
   "metadata": {},
   "outputs": [],
   "source": [
    "i = ['open','high','low','close']\n",
    "    x = 'open'\n",
    "    x = 'high'\n",
    "    x = 'low'\n",
    "    x = 'close'\n",
    "\n",
    "i = [100,110,70,100]\n",
    "\n",
    "i = [200,210,180,190]\n",
    "\n",
    "i = [300,310,300,310]"
   ]
  },
  {
   "cell_type": "code",
   "execution_count": 137,
   "id": "bcfe8233",
   "metadata": {},
   "outputs": [
    {
     "name": "stdout",
     "output_type": "stream",
     "text": [
      "close\n",
      "100\n",
      "190\n",
      "310\n"
     ]
    }
   ],
   "source": [
    "ohlc = [\n",
    "    ['open','high','low','close'],\n",
    "    [100,110,70,100],\n",
    "    [200,210,180,190],\n",
    "    [300,310,300,310]\n",
    "]\n",
    "\n",
    "for i in ohlc:\n",
    "    for x in range(len(ohlc)):   # x = 0, 1, 2, 3\n",
    "        if x == 3:   \n",
    "            print(i[x])"
   ]
  },
  {
   "cell_type": "code",
   "execution_count": 2,
   "id": "04a76249",
   "metadata": {},
   "outputs": [
    {
     "name": "stdout",
     "output_type": "stream",
     "text": [
      "100\n",
      "190\n",
      "310\n"
     ]
    }
   ],
   "source": [
    "# 문제해설\n",
    "ohlc = [\n",
    "    ['open','high','low','close'],\n",
    "    [100,110,70,100],\n",
    "    [200,210,180,190],\n",
    "    [300,310,300,310]\n",
    "]\n",
    "\n",
    "\n",
    "for i in ohlc[1:]:\n",
    "    print(i[3])"
   ]
  },
  {
   "cell_type": "markdown",
   "id": "dbe3aae0",
   "metadata": {},
   "source": [
    "196."
   ]
  },
  {
   "cell_type": "code",
   "execution_count": 3,
   "id": "23dce3d5",
   "metadata": {},
   "outputs": [
    {
     "name": "stdout",
     "output_type": "stream",
     "text": [
      "190\n",
      "310\n"
     ]
    }
   ],
   "source": [
    "ohlc = [\n",
    "    ['open','high','low','close'],\n",
    "    [100,110,70,100],\n",
    "    [200,210,180,190],\n",
    "    [300,310,300,310]\n",
    "]\n",
    "\n",
    "\n",
    "for i in ohlc[1:]:\n",
    "    if i[3] > 150:\n",
    "        print(i[3])"
   ]
  },
  {
   "cell_type": "markdown",
   "id": "aaec9756",
   "metadata": {},
   "source": [
    "197."
   ]
  },
  {
   "cell_type": "code",
   "execution_count": 4,
   "id": "f8efda50",
   "metadata": {},
   "outputs": [
    {
     "name": "stdout",
     "output_type": "stream",
     "text": [
      "100\n",
      "310\n"
     ]
    }
   ],
   "source": [
    "ohlc = [\n",
    "    ['open','high','low','close'],\n",
    "    [100,110,70,100],\n",
    "    [200,210,180,190],\n",
    "    [300,310,300,310]\n",
    "]\n",
    "\n",
    "\n",
    "for i in ohlc[1:]:\n",
    "    if i[3] >= i[0]:\n",
    "        print(i[3])"
   ]
  },
  {
   "cell_type": "markdown",
   "id": "aba50b19",
   "metadata": {},
   "source": [
    "198."
   ]
  },
  {
   "cell_type": "code",
   "execution_count": 10,
   "id": "355f47f3",
   "metadata": {},
   "outputs": [
    {
     "name": "stdout",
     "output_type": "stream",
     "text": [
      "[40]\n",
      "[30]\n",
      "[10]\n"
     ]
    }
   ],
   "source": [
    "ohlc = [\n",
    "    ['open','high','low','close'],\n",
    "    [100,110,70,100],\n",
    "    [200,210,180,190],\n",
    "    [300,310,300,310]\n",
    "]\n",
    "\n",
    "for i in ohlc[1:]:\n",
    "    volatility = []\n",
    "    \n",
    "    x = i[1]-i[2]\n",
    "    volatility.append(x)\n",
    "    \n",
    "    print(volatility)\n",
    "    "
   ]
  },
  {
   "cell_type": "code",
   "execution_count": 6,
   "id": "34cce954",
   "metadata": {},
   "outputs": [
    {
     "name": "stdout",
     "output_type": "stream",
     "text": [
      "[40]\n",
      "[40, 30]\n",
      "[40, 30, 10]\n"
     ]
    }
   ],
   "source": [
    "ohlc = [\n",
    "    ['open','high','low','close'],\n",
    "    [100,110,70,100],\n",
    "    [200,210,180,190],\n",
    "    [300,310,300,310]\n",
    "]\n",
    "\n",
    "volatility = []                      # 빈 리스트 위치에 따른 출력값 변화 관찰!\n",
    "\n",
    "for i in ohlc[1:]:\n",
    "    \n",
    "    x = i[1]-i[2]\n",
    "    volatility.append(x)\n",
    "    \n",
    "    print(volatility)\n",
    "    "
   ]
  },
  {
   "cell_type": "code",
   "execution_count": 18,
   "id": "9e8c6db0",
   "metadata": {},
   "outputs": [
    {
     "name": "stdout",
     "output_type": "stream",
     "text": [
      "[40, 30, 10]\n"
     ]
    }
   ],
   "source": [
    "# 문제해설\n",
    "\n",
    "ohlc = [\n",
    "    ['open','high','low','close'],\n",
    "    [100,110,70,100],\n",
    "    [200,210,180,190],\n",
    "    [300,310,300,310]\n",
    "]\n",
    "\n",
    "volatility = []\n",
    "\n",
    "for i in ohlc[1:]:\n",
    "    volatility.append(i[1]-i[2])\n",
    "    \n",
    "print(volatility)"
   ]
  },
  {
   "cell_type": "code",
   "execution_count": 19,
   "id": "5de68173",
   "metadata": {},
   "outputs": [
    {
     "name": "stdout",
     "output_type": "stream",
     "text": [
      "[10]\n"
     ]
    }
   ],
   "source": [
    "ohlc = [\n",
    "    ['open','high','low','close'],\n",
    "    [100,110,70,100],\n",
    "    [200,210,180,190],\n",
    "    [300,310,300,310]\n",
    "]\n",
    "\n",
    "for i in ohlc[1:]:\n",
    "    volatility = []\n",
    "    volatility.append(i[1]-i[2])\n",
    "    \n",
    "print(volatility)"
   ]
  },
  {
   "cell_type": "markdown",
   "id": "6cea24b8",
   "metadata": {},
   "source": [
    "199."
   ]
  },
  {
   "cell_type": "code",
   "execution_count": 20,
   "id": "6c9146df",
   "metadata": {},
   "outputs": [
    {
     "name": "stdout",
     "output_type": "stream",
     "text": [
      "10\n"
     ]
    }
   ],
   "source": [
    "ohlc = [\n",
    "    ['open','high','low','close'],\n",
    "    [100,110,70,100],\n",
    "    [200,210,180,190],\n",
    "    [300,310,300,310]\n",
    "]\n",
    "\n",
    "# 종가가 시가보다 높은 날의 변동성(고가-저가) 출력\n",
    "\n",
    "for i in ohlc[1:]:\n",
    "    if i[3] > i[0]:\n",
    "        print(i[1]-i[2])"
   ]
  },
  {
   "cell_type": "markdown",
   "id": "f479be80",
   "metadata": {},
   "source": [
    "200."
   ]
  },
  {
   "cell_type": "code",
   "execution_count": 26,
   "id": "e3856b7c",
   "metadata": {},
   "outputs": [
    {
     "name": "stdout",
     "output_type": "stream",
     "text": [
      "0\n"
     ]
    }
   ],
   "source": [
    "ohlc = [\n",
    "    ['open','high','low','close'],\n",
    "    [100,110,70,100],\n",
    "    [200,210,180,190],\n",
    "    [300,310,300,310]\n",
    "]\n",
    "\n",
    "# 시가에서 매수, 종가에서 매도했을 경우 총 수익금은?\n",
    "\n",
    "y = []\n",
    "\n",
    "for i in ohlc[1:]:\n",
    "    x = i[3]-i[0]\n",
    "    y.append(x)\n",
    "\n",
    "print(sum(y))"
   ]
  },
  {
   "cell_type": "code",
   "execution_count": 28,
   "id": "0246c8af",
   "metadata": {},
   "outputs": [
    {
     "name": "stdout",
     "output_type": "stream",
     "text": [
      "0\n"
     ]
    }
   ],
   "source": [
    "# 문제해설\n",
    "\n",
    "profit = 0\n",
    "\n",
    "for i in ohlc[1:]:\n",
    "    profit += (i[3]-i[0])   # +=의 의미 ?\n",
    "\n",
    "print(profit)"
   ]
  },
  {
   "cell_type": "code",
   "execution_count": null,
   "id": "214bf9bf",
   "metadata": {},
   "outputs": [],
   "source": []
  }
 ],
 "metadata": {
  "kernelspec": {
   "display_name": "Python 3 (ipykernel)",
   "language": "python",
   "name": "python3"
  },
  "language_info": {
   "codemirror_mode": {
    "name": "ipython",
    "version": 3
   },
   "file_extension": ".py",
   "mimetype": "text/x-python",
   "name": "python",
   "nbconvert_exporter": "python",
   "pygments_lexer": "ipython3",
   "version": "3.11.7"
  }
 },
 "nbformat": 4,
 "nbformat_minor": 5
}
