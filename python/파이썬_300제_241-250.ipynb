{
 "cells": [
  {
   "cell_type": "markdown",
   "id": "28bb13f3",
   "metadata": {},
   "source": [
    "# 파이썬 모듈 241 ~ 250 "
   ]
  },
  {
   "cell_type": "markdown",
   "id": "8c6e0e73",
   "metadata": {},
   "source": [
    "241."
   ]
  },
  {
   "cell_type": "code",
   "execution_count": 14,
   "id": "c62239da",
   "metadata": {},
   "outputs": [
    {
     "name": "stdout",
     "output_type": "stream",
     "text": [
      "2024-05-22 23:21:34.958142\n"
     ]
    }
   ],
   "source": [
    "import datetime\n",
    "\n",
    "current = datetime.datetime.now()\n",
    "\n",
    "print(current)"
   ]
  },
  {
   "cell_type": "markdown",
   "id": "f41c2af6",
   "metadata": {},
   "source": [
    "242."
   ]
  },
  {
   "cell_type": "code",
   "execution_count": 15,
   "id": "f2577041",
   "metadata": {},
   "outputs": [
    {
     "name": "stdout",
     "output_type": "stream",
     "text": [
      "2024-05-22 23:21:34.958142 <class 'datetime.datetime'>\n"
     ]
    }
   ],
   "source": [
    "print(current, type(current))"
   ]
  },
  {
   "cell_type": "code",
   "execution_count": 16,
   "id": "150dc213",
   "metadata": {},
   "outputs": [],
   "source": [
    "# datetime class의 datetime 매서드 => datetime.datetime()"
   ]
  },
  {
   "cell_type": "markdown",
   "id": "6ced7264",
   "metadata": {},
   "source": [
    "# 243. timedelta() 함수 사용법 ? - 해설 강의 필요"
   ]
  },
  {
   "cell_type": "code",
   "execution_count": 22,
   "id": "b9ffeb0f",
   "metadata": {},
   "outputs": [
    {
     "name": "stdout",
     "output_type": "stream",
     "text": [
      "2024-05-18 00:00:00\n",
      "2024-05-19 00:00:00\n",
      "2024-05-20 00:00:00\n",
      "2024-05-21 00:00:00\n",
      "2024-05-22 00:00:00\n"
     ]
    }
   ],
   "source": [
    "import datetime\n",
    "\n",
    "d0 = datetime.datetime(2024, 5, 18, 0)   # 5일전으로 날짜 설정\n",
    "print(d0)\n",
    "\n",
    "d1 = d0 + datetime.timedelta(days=1)   # 4일전\n",
    "print(d1)\n",
    "\n",
    "d2 = d0 + datetime.timedelta(days=2)   # 3일전\n",
    "print(d2)\n",
    "\n",
    "d3 = d0 + datetime.timedelta(days=3)   # 2일전\n",
    "print(d3)\n",
    "\n",
    "d4 = d0 + datetime.timedelta(days=4)   # 1일전\n",
    "print(d4)\n",
    "\n",
    "d5 = d0 + datetime.timedelta(days=5)   # 오늘\n",
    "print(d5)"
   ]
  },
  {
   "cell_type": "code",
   "execution_count": 29,
   "id": "50fd3954",
   "metadata": {},
   "outputs": [
    {
     "name": "stdout",
     "output_type": "stream",
     "text": [
      "2024-05-22 23:27:57.965407\n",
      "-----\n",
      "2024-05-18 23:27:57.965407\n",
      "2024-05-19 23:27:57.965407\n",
      "2024-05-20 23:27:57.965407\n",
      "2024-05-21 23:27:57.965407\n",
      "2024-05-22 23:27:57.965407\n"
     ]
    }
   ],
   "source": [
    "# ANSWER\n",
    "\n",
    "import datetime\n",
    "\n",
    "now = datetime.datetime.now()\n",
    "print(now)\n",
    "print('-----')\n",
    "\n",
    "for day in range(4, -1, -1):   # 4, 3, 2, 1, 0\n",
    "    delta = datetime.timedelta(days=day)\n",
    "    date = now - delta\n",
    "    print(date)"
   ]
  },
  {
   "cell_type": "code",
   "execution_count": 27,
   "id": "5fc636a1",
   "metadata": {},
   "outputs": [
    {
     "name": "stdout",
     "output_type": "stream",
     "text": [
      "5\n",
      "4\n",
      "3\n",
      "2\n",
      "1\n"
     ]
    }
   ],
   "source": [
    "for i in range(5, 0, -1):   # 5부터 0+1까지, 역순으로\n",
    "    print(i)"
   ]
  },
  {
   "cell_type": "code",
   "execution_count": 28,
   "id": "d5a72a7b",
   "metadata": {},
   "outputs": [
    {
     "name": "stdout",
     "output_type": "stream",
     "text": [
      "5 days, 0:00:00\n"
     ]
    }
   ],
   "source": [
    "x = datetime.timedelta(days=5)\n",
    "print(x)"
   ]
  },
  {
   "cell_type": "markdown",
   "id": "9cb142e3",
   "metadata": {},
   "source": [
    "# 244. strftime() 함수 사용법 익히기"
   ]
  },
  {
   "cell_type": "code",
   "execution_count": 31,
   "id": "dbb56f0e",
   "metadata": {},
   "outputs": [
    {
     "name": "stdout",
     "output_type": "stream",
     "text": [
      "23:31:02\n"
     ]
    }
   ],
   "source": [
    "import datetime\n",
    "\n",
    "now = datetime.datetime.now()\n",
    "\n",
    "print(now.strftime('%H:%M:%S'))"
   ]
  },
  {
   "cell_type": "markdown",
   "id": "2691032b",
   "metadata": {},
   "source": [
    "# 245. strptime() 함수 사용법 익히기"
   ]
  },
  {
   "cell_type": "code",
   "execution_count": 37,
   "id": "3feabd57",
   "metadata": {},
   "outputs": [
    {
     "name": "stdout",
     "output_type": "stream",
     "text": [
      "2020-05-04 00:00:00 <class 'datetime.datetime'>\n"
     ]
    }
   ],
   "source": [
    "import datetime\n",
    "\n",
    "x = '2020-05-04'\n",
    "\n",
    "y = datetime.datetime.strptime(x, '%Y-%m-%d')\n",
    "\n",
    "print(y, type(y))"
   ]
  },
  {
   "cell_type": "markdown",
   "id": "cbb4744b",
   "metadata": {},
   "source": [
    "# 246. time.sleep()"
   ]
  },
  {
   "cell_type": "code",
   "execution_count": 39,
   "id": "cd75e1ae",
   "metadata": {},
   "outputs": [
    {
     "name": "stdout",
     "output_type": "stream",
     "text": [
      "2024-05-22 23:37:52.975616\n",
      "2024-05-22 23:37:52.975616\n",
      "2024-05-22 23:37:52.975616\n",
      "2024-05-22 23:37:52.975616\n",
      "2024-05-22 23:37:52.975616\n",
      "2024-05-22 23:37:52.975616\n",
      "2024-05-22 23:37:52.975616\n",
      "2024-05-22 23:37:52.975616\n"
     ]
    },
    {
     "ename": "KeyboardInterrupt",
     "evalue": "",
     "output_type": "error",
     "traceback": [
      "\u001b[0;31m---------------------------------------------------------------------------\u001b[0m",
      "\u001b[0;31mKeyboardInterrupt\u001b[0m                         Traceback (most recent call last)",
      "Cell \u001b[0;32mIn[39], line 7\u001b[0m\n\u001b[1;32m      5\u001b[0m \u001b[38;5;28;01mwhile\u001b[39;00m \u001b[38;5;28;01mTrue\u001b[39;00m:\n\u001b[1;32m      6\u001b[0m     \u001b[38;5;28mprint\u001b[39m(now)\n\u001b[0;32m----> 7\u001b[0m     time\u001b[38;5;241m.\u001b[39msleep(\u001b[38;5;241m1\u001b[39m)\n",
      "\u001b[0;31mKeyboardInterrupt\u001b[0m: "
     ]
    }
   ],
   "source": [
    "import time\n",
    "\n",
    "now = datetime.datetime.now()\n",
    "\n",
    "while True:\n",
    "    print(now)\n",
    "    time.sleep(1)"
   ]
  },
  {
   "cell_type": "markdown",
   "id": "6877452b",
   "metadata": {},
   "source": [
    "# 247. 4가지 방법? 나머지 하나의 방법은 무엇? - 해설강의 필요"
   ]
  },
  {
   "cell_type": "code",
   "execution_count": 40,
   "id": "652c2476",
   "metadata": {},
   "outputs": [],
   "source": [
    "# how to import module ?\n",
    "\n",
    "# 1) import datetime --> now = datetime.datetime.now()\n",
    "\n",
    "# 2) import datetime as dt --> now = dt.datetime.now()\n",
    "\n",
    "# 3) from datetime import datetime  --> now = datetime.now()"
   ]
  },
  {
   "cell_type": "markdown",
   "id": "486a2cac",
   "metadata": {},
   "source": [
    "248."
   ]
  },
  {
   "cell_type": "code",
   "execution_count": 42,
   "id": "9389161d",
   "metadata": {},
   "outputs": [
    {
     "name": "stdout",
     "output_type": "stream",
     "text": [
      "/Users/jjaemjjaemi/Desktop/src/class101_python <class 'str'>\n"
     ]
    }
   ],
   "source": [
    "import os \n",
    "\n",
    "dir = os.getcwd()\n",
    "\n",
    "print(dir, type(dir))"
   ]
  },
  {
   "cell_type": "markdown",
   "id": "7a519699",
   "metadata": {},
   "source": [
    "# 249. os.mkdir('파일을 생성할 경로/파일명')"
   ]
  },
  {
   "cell_type": "code",
   "execution_count": 45,
   "id": "262d23f7",
   "metadata": {},
   "outputs": [],
   "source": [
    "# 바탕화면에 텍스트 파일 하나 생성 --> 파일 이름 변경\n",
    "\n",
    "import os\n",
    "\n",
    "os.mkdir('/Users/jjaemjjaemi/Desktop/os_demo_file')"
   ]
  },
  {
   "cell_type": "markdown",
   "id": "a3bd4b14",
   "metadata": {},
   "source": [
    "# 250. 위키독스 해설 출력값이 이상한데...? - 해설강의 필요"
   ]
  },
  {
   "cell_type": "code",
   "execution_count": 47,
   "id": "337b4fa1",
   "metadata": {},
   "outputs": [
    {
     "data": {
      "text/plain": [
       "array([0. , 0.1, 0.2, 0.3, 0.4, 0.5, 0.6, 0.7, 0.8, 0.9, 1. , 1.1, 1.2,\n",
       "       1.3, 1.4, 1.5, 1.6, 1.7, 1.8, 1.9, 2. , 2.1, 2.2, 2.3, 2.4, 2.5,\n",
       "       2.6, 2.7, 2.8, 2.9, 3. , 3.1, 3.2, 3.3, 3.4, 3.5, 3.6, 3.7, 3.8,\n",
       "       3.9, 4. , 4.1, 4.2, 4.3, 4.4, 4.5, 4.6, 4.7, 4.8, 4.9, 5. ])"
      ]
     },
     "execution_count": 47,
     "metadata": {},
     "output_type": "execute_result"
    }
   ],
   "source": [
    "import numpy \n",
    "\n",
    "numpy.arange(0.0, 5.1, 0.1)"
   ]
  },
  {
   "cell_type": "code",
   "execution_count": 50,
   "id": "583cfd85",
   "metadata": {},
   "outputs": [
    {
     "name": "stdout",
     "output_type": "stream",
     "text": [
      "0.0\n",
      "0.1\n",
      "0.2\n",
      "0.30000000000000004\n",
      "0.4\n",
      "0.5\n",
      "0.6000000000000001\n",
      "0.7000000000000001\n",
      "0.8\n",
      "0.9\n",
      "1.0\n",
      "1.1\n",
      "1.2000000000000002\n",
      "1.3\n",
      "1.4000000000000001\n",
      "1.5\n",
      "1.6\n",
      "1.7000000000000002\n",
      "1.8\n",
      "1.9000000000000001\n",
      "2.0\n",
      "2.1\n",
      "2.2\n",
      "2.3000000000000003\n",
      "2.4000000000000004\n",
      "2.5\n",
      "2.6\n",
      "2.7\n",
      "2.8000000000000003\n",
      "2.9000000000000004\n",
      "3.0\n",
      "3.1\n",
      "3.2\n",
      "3.3000000000000003\n",
      "3.4000000000000004\n",
      "3.5\n",
      "3.6\n",
      "3.7\n",
      "3.8000000000000003\n",
      "3.9000000000000004\n",
      "4.0\n",
      "4.1000000000000005\n",
      "4.2\n",
      "4.3\n",
      "4.4\n",
      "4.5\n",
      "4.6000000000000005\n",
      "4.7\n",
      "4.800000000000001\n",
      "4.9\n",
      "5.0\n"
     ]
    }
   ],
   "source": [
    "# ANSWER\n",
    "\n",
    "import numpy \n",
    "\n",
    "for i in numpy.arange(0.0, 5.1, 0.1):\n",
    "    print(i)"
   ]
  },
  {
   "cell_type": "code",
   "execution_count": null,
   "id": "50a4cc51",
   "metadata": {},
   "outputs": [],
   "source": []
  }
 ],
 "metadata": {
  "kernelspec": {
   "display_name": "Python 3 (ipykernel)",
   "language": "python",
   "name": "python3"
  },
  "language_info": {
   "codemirror_mode": {
    "name": "ipython",
    "version": 3
   },
   "file_extension": ".py",
   "mimetype": "text/x-python",
   "name": "python",
   "nbconvert_exporter": "python",
   "pygments_lexer": "ipython3",
   "version": "3.11.7"
  }
 },
 "nbformat": 4,
 "nbformat_minor": 5
}
