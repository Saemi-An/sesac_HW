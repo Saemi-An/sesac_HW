{
 "cells": [
  {
   "cell_type": "markdown",
   "id": "7d4c54be",
   "metadata": {},
   "source": [
    "# 1 ~ 10 파이썬 시작하기"
   ]
  },
  {
   "cell_type": "markdown",
   "id": "0db4673c",
   "metadata": {},
   "source": [
    "1."
   ]
  },
  {
   "cell_type": "code",
   "execution_count": 1,
   "id": "f5ee9cb0",
   "metadata": {},
   "outputs": [
    {
     "name": "stdout",
     "output_type": "stream",
     "text": [
      "Hello Workd\n"
     ]
    }
   ],
   "source": [
    "print('Hello Workd')"
   ]
  },
  {
   "cell_type": "markdown",
   "id": "a98f95e6",
   "metadata": {},
   "source": [
    "2. (표현하고 싶은 문자열에 작은따옴표가 있다면 문자열 전체를 큰따옴표로 묶어줌)"
   ]
  },
  {
   "cell_type": "code",
   "execution_count": 2,
   "id": "ab8d546c",
   "metadata": {},
   "outputs": [
    {
     "name": "stdout",
     "output_type": "stream",
     "text": [
      "Marys' cosmetics\n"
     ]
    }
   ],
   "source": [
    "print(\"Marys' cosmetics\")"
   ]
  },
  {
   "cell_type": "markdown",
   "id": "d26edb87",
   "metadata": {},
   "source": [
    "3. (2번의 반대도 가능하다)"
   ]
  },
  {
   "cell_type": "code",
   "execution_count": 6,
   "id": "22e39487",
   "metadata": {},
   "outputs": [
    {
     "name": "stdout",
     "output_type": "stream",
     "text": [
      "신경씨가 소리질렀다. \"도둑이야.\"\n"
     ]
    }
   ],
   "source": [
    "print('신경씨가 소리질렀다. \"도둑이야.\"')"
   ]
  },
  {
   "cell_type": "markdown",
   "id": "c2618f8d",
   "metadata": {},
   "source": [
    "4. "
   ]
  },
  {
   "cell_type": "code",
   "execution_count": 7,
   "id": "c1b473f5",
   "metadata": {
    "scrolled": true
   },
   "outputs": [
    {
     "name": "stdout",
     "output_type": "stream",
     "text": [
      "C:\\Windows\n"
     ]
    }
   ],
   "source": [
    "print('C:\\Windows')"
   ]
  },
  {
   "cell_type": "markdown",
   "id": "086c0cb2",
   "metadata": {},
   "source": [
    "5. \n",
    "\n",
    "\\n - 줄바꿈\n",
    "\n",
    "\\t - 탭(들여쓰기)"
   ]
  },
  {
   "cell_type": "code",
   "execution_count": 9,
   "id": "f66183bb",
   "metadata": {},
   "outputs": [
    {
     "name": "stdout",
     "output_type": "stream",
     "text": [
      "안녕하세요.\n",
      "만나서\t\t반갑습니다.\n"
     ]
    }
   ],
   "source": [
    "print(\"안녕하세요.\\n만나서\\t\\t반갑습니다.\")   # 안녕하세요.(줄바꿈)만나서(탭1)(탭2)반갑습니다."
   ]
  },
  {
   "cell_type": "code",
   "execution_count": 11,
   "id": "f69977cc",
   "metadata": {},
   "outputs": [
    {
     "name": "stdout",
     "output_type": "stream",
     "text": [
      "안녕!\n",
      "송경씨\n",
      "오늘은\t날씨가\t참\t좋다\n"
     ]
    }
   ],
   "source": [
    "print('안녕!\\n송경씨\\n오늘은\\t날씨가\\t참\\t좋다')"
   ]
  },
  {
   "cell_type": "markdown",
   "id": "49e45a98",
   "metadata": {},
   "source": [
    "6. "
   ]
  },
  {
   "cell_type": "code",
   "execution_count": 12,
   "id": "6cde5336",
   "metadata": {},
   "outputs": [
    {
     "name": "stdout",
     "output_type": "stream",
     "text": [
      "오늘은 일요일\n"
     ]
    }
   ],
   "source": [
    "print('오늘은','일요일')   # 오늘은(공백)일요일"
   ]
  },
  {
   "cell_type": "markdown",
   "id": "95e20c39",
   "metadata": {},
   "source": [
    "7. sep='문자열' - 컴마로 구분된 복수의 데이터가 공백 대신 sep의 인자로 구분되어 출력된다."
   ]
  },
  {
   "cell_type": "code",
   "execution_count": 13,
   "id": "304c2777",
   "metadata": {},
   "outputs": [
    {
     "name": "stdout",
     "output_type": "stream",
     "text": [
      "naver;kakao;sk;samsung\n"
     ]
    }
   ],
   "source": [
    "print('naver;kakao;sk;samsung')"
   ]
  },
  {
   "cell_type": "code",
   "execution_count": 14,
   "id": "533fd3d8",
   "metadata": {},
   "outputs": [
    {
     "name": "stdout",
     "output_type": "stream",
     "text": [
      "naver;kakao;sk;samsung\n"
     ]
    }
   ],
   "source": [
    "print('naver','kakao','sk','samsung',sep=';')"
   ]
  },
  {
   "cell_type": "code",
   "execution_count": 16,
   "id": "c7040441",
   "metadata": {},
   "outputs": [
    {
     "name": "stdout",
     "output_type": "stream",
     "text": [
      "Strawberry : Watermelon : Dragon Fruit\n"
     ]
    }
   ],
   "source": [
    "print('Strawberry','Watermelon','Dragon Fruit',sep=' : ')"
   ]
  },
  {
   "cell_type": "markdown",
   "id": "fec84a69",
   "metadata": {},
   "source": [
    "8. "
   ]
  },
  {
   "cell_type": "code",
   "execution_count": 17,
   "id": "4c67e675",
   "metadata": {},
   "outputs": [
    {
     "name": "stdout",
     "output_type": "stream",
     "text": [
      "naver/kakao/sk/samsung\n"
     ]
    }
   ],
   "source": [
    "print('naver','kakao','sk','samsung',sep='/')"
   ]
  },
  {
   "cell_type": "markdown",
   "id": "ef8f5ffc",
   "metadata": {},
   "source": [
    "9.\n",
    "\n",
    "세미콜론(;)은 한 줄에 여러 개의 명령을 작성하기 위해 사용됨\n",
    "\n",
    "end=''은 줄바꿈 없이 출력하라는 뜻"
   ]
  },
  {
   "cell_type": "code",
   "execution_count": 20,
   "id": "27fed887",
   "metadata": {},
   "outputs": [
    {
     "name": "stdout",
     "output_type": "stream",
     "text": [
      "first\n",
      "second\n"
     ]
    }
   ],
   "source": [
    "print('first');print('second')"
   ]
  },
  {
   "cell_type": "code",
   "execution_count": 21,
   "id": "44e029f5",
   "metadata": {},
   "outputs": [
    {
     "name": "stdout",
     "output_type": "stream",
     "text": [
      "firstsecond\n"
     ]
    }
   ],
   "source": [
    "print('first',end='');print('second')"
   ]
  },
  {
   "cell_type": "markdown",
   "id": "3d394426",
   "metadata": {},
   "source": [
    "10."
   ]
  },
  {
   "cell_type": "code",
   "execution_count": 22,
   "id": "dbdb00de",
   "metadata": {},
   "outputs": [
    {
     "name": "stdout",
     "output_type": "stream",
     "text": [
      "1.6666666666666667\n"
     ]
    }
   ],
   "source": [
    "print(5/3)"
   ]
  },
  {
   "cell_type": "markdown",
   "id": "2be148f0",
   "metadata": {},
   "source": [
    "# 11 ~ 20 파이썬 변수"
   ]
  },
  {
   "cell_type": "markdown",
   "id": "d885ac69",
   "metadata": {},
   "source": [
    "11. "
   ]
  },
  {
   "cell_type": "code",
   "execution_count": 23,
   "id": "1d5d37ac",
   "metadata": {},
   "outputs": [
    {
     "name": "stdout",
     "output_type": "stream",
     "text": [
      "500000\n"
     ]
    }
   ],
   "source": [
    "삼성전자 = 50000\n",
    "\n",
    "총_평가금액 = 삼성전자*10\n",
    "\n",
    "print(총_평가금액)"
   ]
  },
  {
   "cell_type": "markdown",
   "id": "f94f7c9e",
   "metadata": {},
   "source": [
    "12."
   ]
  },
  {
   "cell_type": "code",
   "execution_count": 27,
   "id": "e78bc591",
   "metadata": {},
   "outputs": [
    {
     "name": "stdout",
     "output_type": "stream",
     "text": [
      "289000000000000 <class 'int'>\n",
      "50000 <class 'int'>\n",
      "15.79 <class 'float'>\n"
     ]
    }
   ],
   "source": [
    "시가총액 = 289000000000000\n",
    "\n",
    "현재가 = 50000\n",
    "\n",
    "PER = 15.79\n",
    "\n",
    "print(시가총액,type(시가총액))\n",
    "\n",
    "print(현재가,type(현재가))\n",
    "\n",
    "print(PER,type(PER))"
   ]
  },
  {
   "cell_type": "markdown",
   "id": "d04a8c3c",
   "metadata": {},
   "source": [
    "13. 문자열을 공백없이 출력하려면 '+' 기호 사용"
   ]
  },
  {
   "cell_type": "code",
   "execution_count": 29,
   "id": "e6e27fa4",
   "metadata": {},
   "outputs": [
    {
     "name": "stdout",
     "output_type": "stream",
     "text": [
      "hello! python\n"
     ]
    }
   ],
   "source": [
    "s = 'hello'\n",
    "t = 'python'\n",
    "\n",
    "print(s+'!',t)"
   ]
  },
  {
   "cell_type": "markdown",
   "id": "c564599d",
   "metadata": {},
   "source": [
    "14."
   ]
  },
  {
   "cell_type": "code",
   "execution_count": 31,
   "id": "d19efae6",
   "metadata": {},
   "outputs": [
    {
     "data": {
      "text/plain": [
       "8"
      ]
     },
     "execution_count": 31,
     "metadata": {},
     "output_type": "execute_result"
    }
   ],
   "source": [
    "2+2*3   # 8"
   ]
  },
  {
   "cell_type": "markdown",
   "id": "fbd28a7f",
   "metadata": {},
   "source": [
    "15."
   ]
  },
  {
   "cell_type": "code",
   "execution_count": 32,
   "id": "94e3457b",
   "metadata": {},
   "outputs": [
    {
     "name": "stdout",
     "output_type": "stream",
     "text": [
      "<class 'int'>\n"
     ]
    }
   ],
   "source": [
    "a = 128\n",
    "print(type(a))"
   ]
  },
  {
   "cell_type": "code",
   "execution_count": 33,
   "id": "3cb2e754",
   "metadata": {},
   "outputs": [
    {
     "name": "stdout",
     "output_type": "stream",
     "text": [
      "<class 'str'>\n"
     ]
    }
   ],
   "source": [
    "a = '132'\n",
    "print(type(a))   # <class 'str'>"
   ]
  },
  {
   "cell_type": "markdown",
   "id": "d1be5f23",
   "metadata": {},
   "source": [
    "16."
   ]
  },
  {
   "cell_type": "code",
   "execution_count": 34,
   "id": "fff98544",
   "metadata": {},
   "outputs": [
    {
     "name": "stdout",
     "output_type": "stream",
     "text": [
      "720\n"
     ]
    }
   ],
   "source": [
    "num_str = '720'\n",
    "\n",
    "print(int(num_str))"
   ]
  },
  {
   "cell_type": "markdown",
   "id": "fb45a0fa",
   "metadata": {},
   "source": [
    "17."
   ]
  },
  {
   "cell_type": "code",
   "execution_count": 37,
   "id": "3cd27ca7",
   "metadata": {},
   "outputs": [
    {
     "name": "stdout",
     "output_type": "stream",
     "text": [
      "100 <class 'str'>\n"
     ]
    }
   ],
   "source": [
    "num = 100\n",
    "str_num = str(num)\n",
    "\n",
    "print(str_num,type(str_num))"
   ]
  },
  {
   "cell_type": "markdown",
   "id": "4b72783f",
   "metadata": {},
   "source": [
    "18."
   ]
  },
  {
   "cell_type": "code",
   "execution_count": 41,
   "id": "58e433f0",
   "metadata": {},
   "outputs": [
    {
     "name": "stdout",
     "output_type": "stream",
     "text": [
      "15.79 <class 'float'>\n"
     ]
    }
   ],
   "source": [
    "a = '15.79'\n",
    "aa = float(a)\n",
    "\n",
    "print(aa, type(aa))"
   ]
  },
  {
   "cell_type": "markdown",
   "id": "f90c7a8d",
   "metadata": {},
   "source": [
    "19."
   ]
  },
  {
   "cell_type": "code",
   "execution_count": 44,
   "id": "19aa0be9",
   "metadata": {},
   "outputs": [
    {
     "name": "stdout",
     "output_type": "stream",
     "text": [
      "2018 2019 2020 <class 'int'>\n"
     ]
    }
   ],
   "source": [
    "year = '2020'\n",
    "\n",
    "year = int(year)\n",
    "\n",
    "print(year-2,year-1,year,type(year))"
   ]
  },
  {
   "cell_type": "markdown",
   "id": "c8748648",
   "metadata": {},
   "source": [
    "20."
   ]
  },
  {
   "cell_type": "code",
   "execution_count": 46,
   "id": "31aedff6",
   "metadata": {},
   "outputs": [
    {
     "name": "stdout",
     "output_type": "stream",
     "text": [
      "1749024\n"
     ]
    }
   ],
   "source": [
    "montly = 48584\n",
    "\n",
    "total = montly*36\n",
    "\n",
    "print(total)"
   ]
  },
  {
   "cell_type": "markdown",
   "id": "0e580f1d",
   "metadata": {},
   "source": [
    "# 21 ~ 30 파이썬 문자열"
   ]
  },
  {
   "cell_type": "markdown",
   "id": "7a9fd742",
   "metadata": {},
   "source": [
    "21."
   ]
  },
  {
   "cell_type": "code",
   "execution_count": 48,
   "id": "073ee7c4",
   "metadata": {},
   "outputs": [
    {
     "name": "stdout",
     "output_type": "stream",
     "text": [
      "p t\n"
     ]
    }
   ],
   "source": [
    "letters = 'python'\n",
    "\n",
    "print(letters[0],letters[2])"
   ]
  },
  {
   "cell_type": "markdown",
   "id": "1c96930e",
   "metadata": {},
   "source": [
    "22."
   ]
  },
  {
   "cell_type": "code",
   "execution_count": 49,
   "id": "cd0b0e3b",
   "metadata": {},
   "outputs": [
    {
     "name": "stdout",
     "output_type": "stream",
     "text": [
      "2210\n"
     ]
    }
   ],
   "source": [
    "license_plate = '24가 2210'\n",
    "\n",
    "print(license_plate[-4:])"
   ]
  },
  {
   "cell_type": "markdown",
   "id": "7e085f71",
   "metadata": {},
   "source": [
    "# 23. 슬라이싱 - 오프셋\n",
    "\n",
    "자료[시작인덱스:끝인덱스:오프셋]\n",
    "\n",
    "오프셋 : 몇 칸을 제외하고 출력을 이어갈 것인가"
   ]
  },
  {
   "cell_type": "code",
   "execution_count": 55,
   "id": "876ce953",
   "metadata": {},
   "outputs": [
    {
     "name": "stdout",
     "output_type": "stream",
     "text": [
      "홀 홀 홀\n"
     ]
    }
   ],
   "source": [
    "string = '홀짝홀짝홀짝'   # 홀 인덱스 = 0, 짝수 / 짝 인덱스 = 홀수\n",
    "\n",
    "print(string[0],string[2],string[4])"
   ]
  },
  {
   "cell_type": "code",
   "execution_count": 58,
   "id": "ea86fda2",
   "metadata": {},
   "outputs": [
    {
     "name": "stdout",
     "output_type": "stream",
     "text": [
      "홀홀홀\n"
     ]
    }
   ],
   "source": [
    "print(string[::2])"
   ]
  },
  {
   "cell_type": "code",
   "execution_count": 59,
   "id": "ea513e0a",
   "metadata": {},
   "outputs": [
    {
     "name": "stdout",
     "output_type": "stream",
     "text": [
      "짝홀짝홀짝홀\n"
     ]
    }
   ],
   "source": [
    "print(string[::-1])"
   ]
  },
  {
   "cell_type": "code",
   "execution_count": 60,
   "id": "d0940669",
   "metadata": {},
   "outputs": [
    {
     "name": "stdout",
     "output_type": "stream",
     "text": [
      "135\n"
     ]
    }
   ],
   "source": [
    "example = '123456789'\n",
    "print(example[::2])"
   ]
  },
  {
   "cell_type": "code",
   "execution_count": 61,
   "id": "a55ac107",
   "metadata": {},
   "outputs": [
    {
     "name": "stdout",
     "output_type": "stream",
     "text": [
      "14\n"
     ]
    }
   ],
   "source": [
    "print(example[::3])"
   ]
  },
  {
   "cell_type": "code",
   "execution_count": 67,
   "id": "ec640951",
   "metadata": {},
   "outputs": [
    {
     "name": "stdout",
     "output_type": "stream",
     "text": [
      "15\n"
     ]
    }
   ],
   "source": [
    "print(example[::4])"
   ]
  },
  {
   "cell_type": "code",
   "execution_count": 62,
   "id": "1bd6f751",
   "metadata": {},
   "outputs": [
    {
     "name": "stdout",
     "output_type": "stream",
     "text": [
      "16\n"
     ]
    }
   ],
   "source": [
    "print(example[::5])"
   ]
  },
  {
   "cell_type": "code",
   "execution_count": 63,
   "id": "8e0043e3",
   "metadata": {},
   "outputs": [
    {
     "name": "stdout",
     "output_type": "stream",
     "text": [
      "1\n"
     ]
    }
   ],
   "source": [
    "print(example[::8])   # 1,9 ????"
   ]
  },
  {
   "cell_type": "code",
   "execution_count": 64,
   "id": "b669f351",
   "metadata": {},
   "outputs": [
    {
     "name": "stdout",
     "output_type": "stream",
     "text": [
      "1\n"
     ]
    }
   ],
   "source": [
    "print(example[::7])   # ?"
   ]
  },
  {
   "cell_type": "code",
   "execution_count": 65,
   "id": "64ce951a",
   "metadata": {},
   "outputs": [
    {
     "name": "stdout",
     "output_type": "stream",
     "text": [
      "1\n"
     ]
    }
   ],
   "source": [
    "print(example[::6])   # ?"
   ]
  },
  {
   "cell_type": "code",
   "execution_count": 66,
   "id": "150bf3b0",
   "metadata": {},
   "outputs": [
    {
     "name": "stdout",
     "output_type": "stream",
     "text": [
      "16\n"
     ]
    }
   ],
   "source": [
    "print(example[::5])   # ?"
   ]
  },
  {
   "cell_type": "markdown",
   "id": "17412a95",
   "metadata": {},
   "source": [
    "24."
   ]
  },
  {
   "cell_type": "code",
   "execution_count": 69,
   "id": "7ffcb65a",
   "metadata": {},
   "outputs": [
    {
     "name": "stdout",
     "output_type": "stream",
     "text": [
      "NOHTYP\n"
     ]
    }
   ],
   "source": [
    "string = 'PYTHON'\n",
    "\n",
    "print(string[::-1])"
   ]
  },
  {
   "cell_type": "markdown",
   "id": "7256c8d7",
   "metadata": {},
   "source": [
    "25."
   ]
  },
  {
   "cell_type": "code",
   "execution_count": 71,
   "id": "08370d94",
   "metadata": {},
   "outputs": [
    {
     "name": "stdout",
     "output_type": "stream",
     "text": [
      "010 1111 2222\n"
     ]
    }
   ],
   "source": [
    "phone_number = '010-1111-2222'\n",
    "\n",
    "x = phone_number.replace('-',' ')\n",
    "\n",
    "print(x)"
   ]
  },
  {
   "cell_type": "markdown",
   "id": "0a32b6fc",
   "metadata": {},
   "source": [
    "# 26. 문자열에서 특정 문자열 제거 - strip() XX replace() OO"
   ]
  },
  {
   "cell_type": "code",
   "execution_count": 72,
   "id": "8969a6cc",
   "metadata": {},
   "outputs": [
    {
     "name": "stdout",
     "output_type": "stream",
     "text": [
      "010-1111-2222\n"
     ]
    }
   ],
   "source": [
    "y = phone_number.strip('-')   # 왜 strip이 안 먹히지 ????\n",
    "print(y)"
   ]
  },
  {
   "cell_type": "code",
   "execution_count": 89,
   "id": "cc88de7b",
   "metadata": {},
   "outputs": [
    {
     "data": {
      "text/plain": [
       "'010-234'"
      ]
     },
     "execution_count": 89,
     "metadata": {},
     "output_type": "execute_result"
    }
   ],
   "source": [
    "new_phone_number = '-010-234-'   # 아니 왜 맨 앞뒤의 대시만 지우고 중간에 대시는 못지우지 ?????\n",
    "\n",
    "new_phone_number.strip('-')"
   ]
  },
  {
   "cell_type": "code",
   "execution_count": 79,
   "id": "481e1d12",
   "metadata": {},
   "outputs": [
    {
     "data": {
      "text/plain": [
       "'hello'"
      ]
     },
     "execution_count": 79,
     "metadata": {},
     "output_type": "execute_result"
    }
   ],
   "source": [
    "ex_str = \"                   hello         \"\n",
    "ex_str.strip()"
   ]
  },
  {
   "cell_type": "code",
   "execution_count": 90,
   "id": "b97a5aca",
   "metadata": {},
   "outputs": [
    {
     "data": {
      "text/plain": [
       "'hi          John'"
      ]
     },
     "execution_count": 90,
     "metadata": {},
     "output_type": "execute_result"
    }
   ],
   "source": [
    "xyz = \"     hi          John       \"   # strip()은 문자열 사이의 공백은 지워주지 못하나보다... 킹받네\n",
    "xyz.strip()"
   ]
  },
  {
   "cell_type": "code",
   "execution_count": 91,
   "id": "b2678285",
   "metadata": {},
   "outputs": [
    {
     "name": "stdout",
     "output_type": "stream",
     "text": [
      "010-1111-2222\n"
     ]
    }
   ],
   "source": [
    "print(phone_number)"
   ]
  },
  {
   "cell_type": "code",
   "execution_count": 92,
   "id": "5cb569b4",
   "metadata": {},
   "outputs": [
    {
     "data": {
      "text/plain": [
       "'01011112222'"
      ]
     },
     "execution_count": 92,
     "metadata": {},
     "output_type": "execute_result"
    }
   ],
   "source": [
    "phone_number.replace('-','')"
   ]
  },
  {
   "cell_type": "markdown",
   "id": "b0508375",
   "metadata": {},
   "source": [
    "27."
   ]
  },
  {
   "cell_type": "code",
   "execution_count": 93,
   "id": "d8a3a65a",
   "metadata": {},
   "outputs": [
    {
     "name": "stdout",
     "output_type": "stream",
     "text": [
      "kr\n"
     ]
    }
   ],
   "source": [
    "url = 'http://sharebook.kr'   # 슬라이싱 \n",
    "\n",
    "print(url[-2:])"
   ]
  },
  {
   "cell_type": "code",
   "execution_count": 96,
   "id": "19d58376",
   "metadata": {},
   "outputs": [
    {
     "name": "stdout",
     "output_type": "stream",
     "text": [
      "kr\n"
     ]
    }
   ],
   "source": [
    "url_list = url.split('.')   # 스플릿 > 인덱싱\n",
    "print(url_list[1])"
   ]
  },
  {
   "cell_type": "markdown",
   "id": "f6d22ed6",
   "metadata": {},
   "source": [
    "# 28. 문자열은 수정 불가\n",
    "\n",
    "문자열이 할당(assignment) 매서드를 지원하지 않아서 오류 발생"
   ]
  },
  {
   "cell_type": "code",
   "execution_count": 99,
   "id": "5fe61f6d",
   "metadata": {},
   "outputs": [
    {
     "ename": "TypeError",
     "evalue": "'str' object does not support item assignment",
     "output_type": "error",
     "traceback": [
      "\u001b[0;31m---------------------------------------------------------------------------\u001b[0m",
      "\u001b[0;31mTypeError\u001b[0m                                 Traceback (most recent call last)",
      "Cell \u001b[0;32mIn[99], line 2\u001b[0m\n\u001b[1;32m      1\u001b[0m lang \u001b[38;5;241m=\u001b[39m \u001b[38;5;124m'\u001b[39m\u001b[38;5;124mpython\u001b[39m\u001b[38;5;124m'\u001b[39m\n\u001b[0;32m----> 2\u001b[0m lang[\u001b[38;5;241m0\u001b[39m] \u001b[38;5;241m=\u001b[39m \u001b[38;5;124m'\u001b[39m\u001b[38;5;124mP\u001b[39m\u001b[38;5;124m'\u001b[39m\n\u001b[1;32m      3\u001b[0m \u001b[38;5;28mprint\u001b[39m(lang)\n",
      "\u001b[0;31mTypeError\u001b[0m: 'str' object does not support item assignment"
     ]
    }
   ],
   "source": [
    "lang = 'python'\n",
    "lang[0] = 'P'\n",
    "print(lang)   # P"
   ]
  },
  {
   "cell_type": "markdown",
   "id": "8c42492e",
   "metadata": {},
   "source": [
    "29. 소문자 a를 대문자 A로 변경"
   ]
  },
  {
   "cell_type": "code",
   "execution_count": 102,
   "id": "a21bf374",
   "metadata": {},
   "outputs": [
    {
     "name": "stdout",
     "output_type": "stream",
     "text": [
      "Abcdef2A354A32A\n"
     ]
    }
   ],
   "source": [
    "string = 'abcdef2a354a32a'\n",
    "\n",
    "print(string.replace('a','A'))"
   ]
  },
  {
   "cell_type": "markdown",
   "id": "82d340ff",
   "metadata": {},
   "source": [
    "# 30. 문자열은 변경 불가"
   ]
  },
  {
   "cell_type": "code",
   "execution_count": 103,
   "id": "29eaaec3",
   "metadata": {},
   "outputs": [
    {
     "name": "stdout",
     "output_type": "stream",
     "text": [
      "abcd\n"
     ]
    }
   ],
   "source": [
    "string = 'abcd'\n",
    "string.replace('b','B')\n",
    "print(string)   # aBcd --> X. 문자열은 변경할 수 없는 자료형!!"
   ]
  },
  {
   "cell_type": "code",
   "execution_count": 105,
   "id": "411b8bb2",
   "metadata": {},
   "outputs": [
    {
     "name": "stdout",
     "output_type": "stream",
     "text": [
      "aBcd\n"
     ]
    }
   ],
   "source": [
    "string = 'abcd'\n",
    "string_two = string.replace('b','B')   # 문자열을 변경하면 메모리에 새로운 문자열이 생성되며, 그것을 참조하여 프린트 해줘야함!!\n",
    "print(string_two)   "
   ]
  },
  {
   "cell_type": "markdown",
   "id": "2ff8b14a",
   "metadata": {},
   "source": [
    "# 31 ~ 40 파이썬 문자열"
   ]
  },
  {
   "cell_type": "markdown",
   "id": "203f4f5d",
   "metadata": {},
   "source": [
    "# 31. 문자열 더하기 =  문자열 연결  "
   ]
  },
  {
   "cell_type": "code",
   "execution_count": 107,
   "id": "a1bee4e7",
   "metadata": {},
   "outputs": [
    {
     "name": "stdout",
     "output_type": "stream",
     "text": [
      "34\n"
     ]
    }
   ],
   "source": [
    "a = '3'\n",
    "b = '4'\n",
    "print(a+b)   # 34"
   ]
  },
  {
   "cell_type": "markdown",
   "id": "70e489ea",
   "metadata": {},
   "source": [
    "32. 문자열 곱하기 = 문자열 반복"
   ]
  },
  {
   "cell_type": "code",
   "execution_count": 109,
   "id": "a4a84226",
   "metadata": {},
   "outputs": [
    {
     "name": "stdout",
     "output_type": "stream",
     "text": [
      "HiHiHi\n"
     ]
    }
   ],
   "source": [
    "print('Hi'*3)   # HiHiHi"
   ]
  },
  {
   "cell_type": "markdown",
   "id": "15142b17",
   "metadata": {},
   "source": [
    "33."
   ]
  },
  {
   "cell_type": "code",
   "execution_count": 110,
   "id": "656eaab0",
   "metadata": {},
   "outputs": [
    {
     "name": "stdout",
     "output_type": "stream",
     "text": [
      "--------------------------------------------------------------------------------\n"
     ]
    }
   ],
   "source": [
    "print('-'*80)"
   ]
  },
  {
   "cell_type": "markdown",
   "id": "c3d799bf",
   "metadata": {},
   "source": [
    "34."
   ]
  },
  {
   "cell_type": "code",
   "execution_count": 111,
   "id": "d340f976",
   "metadata": {},
   "outputs": [],
   "source": [
    "t1 = 'python'\n",
    "t2 = 'java'\n",
    "\n",
    "# python java python java python java python java 를 출력하라"
   ]
  },
  {
   "cell_type": "code",
   "execution_count": 113,
   "id": "255acedb",
   "metadata": {},
   "outputs": [
    {
     "name": "stdout",
     "output_type": "stream",
     "text": [
      "python java python java python java python java \n"
     ]
    }
   ],
   "source": [
    "print((t1+' '+t2+' ')*4)"
   ]
  },
  {
   "cell_type": "markdown",
   "id": "b1debfff",
   "metadata": {},
   "source": [
    "# 35. formatting 1 - %\n",
    "\n",
    "%s - str\n",
    "\n",
    "%d - int"
   ]
  },
  {
   "cell_type": "code",
   "execution_count": 126,
   "id": "8e774faf",
   "metadata": {},
   "outputs": [],
   "source": [
    "# 다음과 같은 변수를 '이름: 김민수 나이: 10'의 형식으로 출력하라\n",
    "name1 = '김민수'\n",
    "age1 = 10\n",
    "name2 = '이철희'\n",
    "age2 = 13"
   ]
  },
  {
   "cell_type": "code",
   "execution_count": 119,
   "id": "c18b81f0",
   "metadata": {},
   "outputs": [
    {
     "name": "stdout",
     "output_type": "stream",
     "text": [
      "이름: 김민수 나이: 10\n",
      "이름: 이철희 나이: 13\n"
     ]
    }
   ],
   "source": [
    "print('이름: %s 나이: %d' % (name1,age1))   # formatting할 문장을 적고 그 안에 변경되는 값들을 자료형에 따라 %s의 형태로 적어줌 \n",
    "print('이름: %s 나이: %d' % (name2,age2))"
   ]
  },
  {
   "cell_type": "code",
   "execution_count": 128,
   "id": "be8022ea",
   "metadata": {},
   "outputs": [],
   "source": [
    "학생명부 = {                 # 딕셔너리 자료구조 포멧팅\n",
    "    '안새미':28,\n",
    "    '오송경':32,\n",
    "    '김화영':55\n",
    "}"
   ]
  },
  {
   "cell_type": "code",
   "execution_count": 129,
   "id": "66e8d26c",
   "metadata": {},
   "outputs": [
    {
     "name": "stdout",
     "output_type": "stream",
     "text": [
      "이름: 안새미 나이: 28\n",
      "이름: 오송경 나이: 32\n",
      "이름: 김화영 나이: 55\n"
     ]
    }
   ],
   "source": [
    "for k,v in 학생명부.items():      # key와 value를 갖는 딕셔너리에 for문을 돌리기 위해서는 변수 2개와 items() 함수가 필요! \n",
    "    print('이름: %s 나이: %d' % (k,v))"
   ]
  },
  {
   "cell_type": "code",
   "execution_count": 124,
   "id": "fc77b054",
   "metadata": {},
   "outputs": [
    {
     "data": {
      "text/plain": [
       "28"
      ]
     },
     "execution_count": 124,
     "metadata": {},
     "output_type": "execute_result"
    }
   ],
   "source": [
    "학생명부['안새미']"
   ]
  },
  {
   "cell_type": "markdown",
   "id": "ece87550",
   "metadata": {},
   "source": [
    "# 36. formatting 2 - format()"
   ]
  },
  {
   "cell_type": "code",
   "execution_count": 132,
   "id": "05b94ec5",
   "metadata": {},
   "outputs": [
    {
     "name": "stdout",
     "output_type": "stream",
     "text": [
      "이름: 김민수 나이: 10\n",
      "이름: 이철희 나이: 13\n"
     ]
    }
   ],
   "source": [
    "print('이름: {} 나이: {}'.format(name1,age1))\n",
    "print('이름: {} 나이: {}'.format(name2,age2))"
   ]
  },
  {
   "cell_type": "markdown",
   "id": "31d28aa0",
   "metadata": {},
   "source": [
    "# 37. formatting 3 - f-string"
   ]
  },
  {
   "cell_type": "code",
   "execution_count": 134,
   "id": "96117981",
   "metadata": {},
   "outputs": [
    {
     "name": "stdout",
     "output_type": "stream",
     "text": [
      "이름: 김민수 나이: 10\n",
      "이름: 이철희 나이: 13\n"
     ]
    }
   ],
   "source": [
    "print(f'이름: {name1} 나이: {age1}')\n",
    "print(f'이름: {name2} 나이: {age2}')"
   ]
  },
  {
   "cell_type": "markdown",
   "id": "0f16f0ff",
   "metadata": {},
   "source": [
    "38.\n",
    "\n",
    "str 숫자를 정수형으로 변경하기 위해서는 replace()로 컴마를 제거한 뒤, 형변환을 시켜줘야 한다."
   ]
  },
  {
   "cell_type": "code",
   "execution_count": 138,
   "id": "cb364f46",
   "metadata": {},
   "outputs": [
    {
     "name": "stdout",
     "output_type": "stream",
     "text": [
      "5969782550 <class 'int'>\n"
     ]
    }
   ],
   "source": [
    "상장주식수 = '5,969,782,550'\n",
    "\n",
    "상장주식수_int = int(상장주식수.replace(',',''))\n",
    "\n",
    "print(상장주식수_int, type(상장주식수_int))"
   ]
  },
  {
   "cell_type": "markdown",
   "id": "3924747d",
   "metadata": {},
   "source": [
    "39."
   ]
  },
  {
   "cell_type": "code",
   "execution_count": 140,
   "id": "e0bf42e5",
   "metadata": {},
   "outputs": [
    {
     "name": "stdout",
     "output_type": "stream",
     "text": [
      "2020/03\n"
     ]
    }
   ],
   "source": [
    "분기 = '2020/03(E) (IFRS연결)'\n",
    "\n",
    "print(분기[:7])"
   ]
  },
  {
   "cell_type": "markdown",
   "id": "2ea04b7e",
   "metadata": {},
   "source": [
    "# 40. strip() - 좌우 공백 제거\n",
    "\n",
    "이때 메모리에 원본 문자열은 그대로 유지된채(data) 공백이 제거된 새로운 문자열이 반환됨(data1) !"
   ]
  },
  {
   "cell_type": "code",
   "execution_count": 145,
   "id": "c2e884de",
   "metadata": {},
   "outputs": [
    {
     "name": "stdout",
     "output_type": "stream",
     "text": [
      "삼성전자\n"
     ]
    }
   ],
   "source": [
    "data = \"     삼성전자      \"\n",
    "\n",
    "data1 = data.strip()\n",
    "\n",
    "print(data1)"
   ]
  },
  {
   "cell_type": "markdown",
   "id": "209a2422",
   "metadata": {},
   "source": [
    "# 41 ~ 50 파이썬 문자열"
   ]
  },
  {
   "cell_type": "markdown",
   "id": "06b0afe7",
   "metadata": {},
   "source": [
    "# 41. "
   ]
  },
  {
   "cell_type": "code",
   "execution_count": 147,
   "id": "fa754109",
   "metadata": {},
   "outputs": [
    {
     "name": "stdout",
     "output_type": "stream",
     "text": [
      "BYC_KRW\n"
     ]
    }
   ],
   "source": [
    "ticker = 'byc_krw'   # 원본 문자열은 유지된 채 \n",
    "\n",
    "ticker1 = ticker.upper()   # 대문자로 변경된 새로운 문자열 객체가 반환됨. \n",
    "\n",
    "print(ticker1)"
   ]
  },
  {
   "cell_type": "markdown",
   "id": "fdaa8d68",
   "metadata": {},
   "source": [
    "42."
   ]
  },
  {
   "cell_type": "code",
   "execution_count": 148,
   "id": "cf2fd205",
   "metadata": {},
   "outputs": [
    {
     "data": {
      "text/plain": [
       "'byc_krw'"
      ]
     },
     "execution_count": 148,
     "metadata": {},
     "output_type": "execute_result"
    }
   ],
   "source": [
    "ticker1.lower()"
   ]
  },
  {
   "cell_type": "markdown",
   "id": "117db956",
   "metadata": {},
   "source": [
    "43. "
   ]
  },
  {
   "cell_type": "code",
   "execution_count": 157,
   "id": "4f46acef",
   "metadata": {},
   "outputs": [
    {
     "name": "stdout",
     "output_type": "stream",
     "text": [
      "Hello\n"
     ]
    }
   ],
   "source": [
    "a = 'hello'\n",
    "a = a.capitalize()\n",
    "print(a)"
   ]
  },
  {
   "cell_type": "markdown",
   "id": "9e31af80",
   "metadata": {},
   "source": [
    "44."
   ]
  },
  {
   "cell_type": "code",
   "execution_count": 161,
   "id": "025a2ee4",
   "metadata": {},
   "outputs": [],
   "source": [
    "file_name = '보고서.xlsx'"
   ]
  },
  {
   "cell_type": "code",
   "execution_count": 162,
   "id": "10a03d3f",
   "metadata": {},
   "outputs": [
    {
     "data": {
      "text/plain": [
       "True"
      ]
     },
     "execution_count": 162,
     "metadata": {},
     "output_type": "execute_result"
    }
   ],
   "source": [
    "file_name.endswith('xlsx')"
   ]
  },
  {
   "cell_type": "markdown",
   "id": "606135bf",
   "metadata": {},
   "source": [
    "45."
   ]
  },
  {
   "cell_type": "code",
   "execution_count": 163,
   "id": "4a6d885d",
   "metadata": {},
   "outputs": [
    {
     "data": {
      "text/plain": [
       "True"
      ]
     },
     "execution_count": 163,
     "metadata": {},
     "output_type": "execute_result"
    }
   ],
   "source": [
    "file_name.endswith('xlsx' or 'xls')"
   ]
  },
  {
   "cell_type": "code",
   "execution_count": 166,
   "id": "da6efeac",
   "metadata": {},
   "outputs": [
    {
     "data": {
      "text/plain": [
       "True"
      ]
     },
     "execution_count": 166,
     "metadata": {},
     "output_type": "execute_result"
    }
   ],
   "source": [
    "file_name.endswith(('xlsx','xls'))   # 소괄호 중복해서도 사용 가능 !"
   ]
  },
  {
   "cell_type": "markdown",
   "id": "42fd65e5",
   "metadata": {},
   "source": [
    "46."
   ]
  },
  {
   "cell_type": "code",
   "execution_count": 167,
   "id": "295e4abc",
   "metadata": {},
   "outputs": [
    {
     "data": {
      "text/plain": [
       "True"
      ]
     },
     "execution_count": 167,
     "metadata": {},
     "output_type": "execute_result"
    }
   ],
   "source": [
    "file_name = '2020_보고서.xlsx'\n",
    "\n",
    "file_name.startswith('2020')"
   ]
  },
  {
   "cell_type": "markdown",
   "id": "91093352",
   "metadata": {},
   "source": [
    "47."
   ]
  },
  {
   "cell_type": "code",
   "execution_count": 168,
   "id": "ffd623e9",
   "metadata": {},
   "outputs": [
    {
     "name": "stdout",
     "output_type": "stream",
     "text": [
      "['hello', 'world']\n"
     ]
    }
   ],
   "source": [
    "a = 'hello world'\n",
    "\n",
    "print(a.split())"
   ]
  },
  {
   "cell_type": "markdown",
   "id": "5e83cbc5",
   "metadata": {},
   "source": [
    "48."
   ]
  },
  {
   "cell_type": "code",
   "execution_count": 170,
   "id": "e0737a9a",
   "metadata": {},
   "outputs": [
    {
     "name": "stdout",
     "output_type": "stream",
     "text": [
      "['btc', 'krw']\n"
     ]
    }
   ],
   "source": [
    "ticker = 'btc_krw'\n",
    "\n",
    "print(ticker.split('_'))"
   ]
  },
  {
   "cell_type": "code",
   "execution_count": 178,
   "id": "47a036c3",
   "metadata": {},
   "outputs": [
    {
     "name": "stdout",
     "output_type": "stream",
     "text": [
      "2020\n",
      "05\n",
      "01\n"
     ]
    }
   ],
   "source": [
    "data = '2020-05-01'\n",
    "\n",
    "year = data.split('-')[0]\n",
    "month = data.split('-')[1]\n",
    "day = data.split('-')[2]\n",
    "\n",
    "print(year)\n",
    "print(month)\n",
    "print(day)"
   ]
  },
  {
   "cell_type": "markdown",
   "id": "3ab3ca5d",
   "metadata": {},
   "source": [
    "50."
   ]
  },
  {
   "cell_type": "code",
   "execution_count": 180,
   "id": "b6a5ba37",
   "metadata": {},
   "outputs": [
    {
     "name": "stdout",
     "output_type": "stream",
     "text": [
      "039490 <class 'str'>\n"
     ]
    }
   ],
   "source": [
    "data = '039490       '\n",
    "\n",
    "a = data.rstrip()\n",
    "\n",
    "print(a,type(a))"
   ]
  },
  {
   "cell_type": "markdown",
   "id": "5fbedee4",
   "metadata": {},
   "source": [
    "# 51 ~ 60 파이썬 리스트 "
   ]
  },
  {
   "cell_type": "markdown",
   "id": "3628c645",
   "metadata": {},
   "source": [
    "51."
   ]
  },
  {
   "cell_type": "code",
   "execution_count": 213,
   "id": "74c5b19e",
   "metadata": {},
   "outputs": [
    {
     "name": "stdout",
     "output_type": "stream",
     "text": [
      "['닥터 스트레인지', '스플릿', '럭키']\n"
     ]
    }
   ],
   "source": [
    "movie_rank = []\n",
    "\n",
    "movie_rank.append('닥터 스트레인지')\n",
    "movie_rank.append('스플릿')\n",
    "movie_rank.append('럭키')\n",
    "\n",
    "print(movie_rank)"
   ]
  },
  {
   "cell_type": "markdown",
   "id": "f813fa69",
   "metadata": {},
   "source": [
    "52."
   ]
  },
  {
   "cell_type": "code",
   "execution_count": 214,
   "id": "bb13cc58",
   "metadata": {},
   "outputs": [
    {
     "name": "stdout",
     "output_type": "stream",
     "text": [
      "['닥터 스트레인지', '스플릿', '럭키', '배트맨']\n"
     ]
    }
   ],
   "source": [
    "movie_rank.append('배트맨')\n",
    "\n",
    "print(movie_rank)"
   ]
  },
  {
   "cell_type": "markdown",
   "id": "1e42ab81",
   "metadata": {},
   "source": [
    "# 53. insert()\n",
    "\n",
    "리스트명.insert(인덱스,원소) --> 원하는 인덱스 번호에 입력한 원소를 추가하여 리스트를 수정할 수 있다."
   ]
  },
  {
   "cell_type": "code",
   "execution_count": 215,
   "id": "8b5130d1",
   "metadata": {},
   "outputs": [
    {
     "name": "stdout",
     "output_type": "stream",
     "text": [
      "['닥터 스트레인지', '슈퍼맨', '스플릿', '럭키', '배트맨']\n"
     ]
    }
   ],
   "source": [
    "movie_rank.insert(1,'슈퍼맨')\n",
    "\n",
    "print(movie_rank)"
   ]
  },
  {
   "cell_type": "markdown",
   "id": "ca38cb94",
   "metadata": {},
   "source": [
    "# 54. del 함수\n",
    "\n",
    "del 리스트명[인덱스] --> 해당 인덱스가 가르키는 값을 삭제한다."
   ]
  },
  {
   "cell_type": "code",
   "execution_count": 216,
   "id": "3d04efaa",
   "metadata": {},
   "outputs": [
    {
     "name": "stdout",
     "output_type": "stream",
     "text": [
      "['닥터 스트레인지', '슈퍼맨', '스플릿', '배트맨']\n"
     ]
    }
   ],
   "source": [
    "del movie_rank[3]\n",
    "\n",
    "print(movie_rank)"
   ]
  },
  {
   "cell_type": "markdown",
   "id": "b8849351",
   "metadata": {},
   "source": [
    "55. "
   ]
  },
  {
   "cell_type": "code",
   "execution_count": 217,
   "id": "58558de7",
   "metadata": {},
   "outputs": [
    {
     "name": "stdout",
     "output_type": "stream",
     "text": [
      "['닥터 스트레인지', '슈퍼맨', '배트맨']\n"
     ]
    }
   ],
   "source": [
    "# 스플릿과 배트맨을 del을 이용해 삭제 --> del을 이용해 하나씩 값을 삭제할 때마다 나머지 값들이 새로 인덱싱 됨에 주의!\n",
    "\n",
    "del movie_rank[2]\n",
    "\n",
    "print(movie_rank)"
   ]
  },
  {
   "cell_type": "code",
   "execution_count": 218,
   "id": "0bb5e1a5",
   "metadata": {},
   "outputs": [
    {
     "name": "stdout",
     "output_type": "stream",
     "text": [
      "['닥터 스트레인지', '슈퍼맨']\n"
     ]
    }
   ],
   "source": [
    "del movie_rank[2]\n",
    "\n",
    "print(movie_rank)"
   ]
  },
  {
   "cell_type": "markdown",
   "id": "b6aff0aa",
   "metadata": {},
   "source": [
    "# 56. 리스트끼리 더하기\n",
    "\n",
    "두개의 리스트를 더하면 모든 원소를 순서대로 유지한채 새로운 리스트가 생성된다."
   ]
  },
  {
   "cell_type": "code",
   "execution_count": 228,
   "id": "3742ff26",
   "metadata": {},
   "outputs": [
    {
     "name": "stdout",
     "output_type": "stream",
     "text": [
      "['C', 'C++', 'JAVA', 'Python', 'Go', 'C#']\n"
     ]
    }
   ],
   "source": [
    "lang1 = ['C','C++','JAVA']     # 리스트 교집합 구하기 ?!\n",
    "lang2 = ['Python','Go','C#']\n",
    "\n",
    "langs = lang1 + lang2\n",
    "\n",
    "print(langs)"
   ]
  },
  {
   "cell_type": "code",
   "execution_count": 231,
   "id": "c434ab2a",
   "metadata": {},
   "outputs": [
    {
     "name": "stdout",
     "output_type": "stream",
     "text": [
      "[4, 5]\n"
     ]
    }
   ],
   "source": [
    "# 리스트 교집합 구하기 ? -- set() 사용\n",
    "\n",
    "x = [1, 2, 3, 4, 5]\n",
    "y = [4, 5, 6, 7, 8]\n",
    "\n",
    "z = list(set(x) & set(y))\n",
    "\n",
    "print(z)"
   ]
  },
  {
   "cell_type": "markdown",
   "id": "168a026d",
   "metadata": {},
   "source": [
    "57."
   ]
  },
  {
   "cell_type": "code",
   "execution_count": 238,
   "id": "53844113",
   "metadata": {},
   "outputs": [
    {
     "name": "stdout",
     "output_type": "stream",
     "text": [
      "max:  7\n",
      "min:  1\n"
     ]
    }
   ],
   "source": [
    "nums = [1, 2, 3, 4, 5, 6, 7]\n",
    "\n",
    "print('max: ',max(nums))\n",
    "\n",
    "print('min: ',min(nums))"
   ]
  },
  {
   "cell_type": "markdown",
   "id": "a9a990f8",
   "metadata": {},
   "source": [
    "58."
   ]
  },
  {
   "cell_type": "code",
   "execution_count": 239,
   "id": "be799bd7",
   "metadata": {},
   "outputs": [
    {
     "name": "stdout",
     "output_type": "stream",
     "text": [
      "15\n"
     ]
    }
   ],
   "source": [
    "nums = [1,2,3,4,5]\n",
    "\n",
    "print(sum(nums))"
   ]
  },
  {
   "cell_type": "markdown",
   "id": "6721d76e",
   "metadata": {},
   "source": [
    "59."
   ]
  },
  {
   "cell_type": "code",
   "execution_count": 240,
   "id": "8c3ec031",
   "metadata": {},
   "outputs": [
    {
     "name": "stdout",
     "output_type": "stream",
     "text": [
      "12\n"
     ]
    }
   ],
   "source": [
    "cook = ['피자','김밥','만두','양념치킨','족발','피자','김치만두','쫄면','소시지','라면','팥빙수','김치전']\n",
    "\n",
    "print(len(cook))"
   ]
  },
  {
   "cell_type": "markdown",
   "id": "86b77b3e",
   "metadata": {},
   "source": [
    "60."
   ]
  },
  {
   "cell_type": "code",
   "execution_count": 242,
   "id": "95377977",
   "metadata": {},
   "outputs": [
    {
     "name": "stdout",
     "output_type": "stream",
     "text": [
      "3.0\n"
     ]
    }
   ],
   "source": [
    "nums = [1,2,3,4,5]\n",
    "\n",
    "nums_average = sum(nums)/len(nums)\n",
    "\n",
    "print(nums_average)"
   ]
  },
  {
   "cell_type": "markdown",
   "id": "8ccc37f7",
   "metadata": {},
   "source": [
    "# 61 ~ 70 파이썬 리스트 "
   ]
  },
  {
   "cell_type": "markdown",
   "id": "0d05aaa3",
   "metadata": {},
   "source": [
    "61."
   ]
  },
  {
   "cell_type": "code",
   "execution_count": 243,
   "id": "61689336",
   "metadata": {},
   "outputs": [
    {
     "name": "stdout",
     "output_type": "stream",
     "text": [
      "[100, 130, 140, 150, 160, 170]\n"
     ]
    }
   ],
   "source": [
    "price = ['20180728',100,130,140,150,160,170]\n",
    "\n",
    "print(price[1:])"
   ]
  },
  {
   "cell_type": "code",
   "execution_count": 245,
   "id": "8a79a1b8",
   "metadata": {},
   "outputs": [
    {
     "name": "stdout",
     "output_type": "stream",
     "text": [
      "[1, 3, 5, 7, 9]\n"
     ]
    }
   ],
   "source": [
    "nums = [1, 2, 3, 4, 5, 6, 7, 8, 9, 10]\n",
    "\n",
    "print(nums[::2])"
   ]
  },
  {
   "cell_type": "markdown",
   "id": "b8d23088",
   "metadata": {},
   "source": [
    "64."
   ]
  },
  {
   "cell_type": "code",
   "execution_count": 247,
   "id": "fac98c0d",
   "metadata": {},
   "outputs": [
    {
     "name": "stdout",
     "output_type": "stream",
     "text": [
      "[5, 4, 3, 2, 1]\n"
     ]
    }
   ],
   "source": [
    "nums = [1, 2, 3, 4, 5]\n",
    "\n",
    "print(nums[::-1])"
   ]
  },
  {
   "cell_type": "markdown",
   "id": "97e3393f",
   "metadata": {},
   "source": [
    "65."
   ]
  },
  {
   "cell_type": "code",
   "execution_count": 248,
   "id": "799f0a56",
   "metadata": {},
   "outputs": [
    {
     "name": "stdout",
     "output_type": "stream",
     "text": [
      "삼성전자 Naver\n"
     ]
    }
   ],
   "source": [
    "interest = ['삼성전자', 'LG전자','Naver']\n",
    "\n",
    "print(interest[0],interest[2])"
   ]
  },
  {
   "cell_type": "markdown",
   "id": "c2234aef",
   "metadata": {},
   "source": [
    "# 66. join()\n",
    "\n",
    "형식 : '구분자'.join(리스트)\n",
    "\n",
    "리스트에 있는 요소들을 합쳐 하나의 문자열로 반환한다."
   ]
  },
  {
   "cell_type": "code",
   "execution_count": 254,
   "id": "b695f7f6",
   "metadata": {},
   "outputs": [
    {
     "name": "stdout",
     "output_type": "stream",
     "text": [
      "삼성전자 LG전자 Naver SK하이닉스 미래에셋대우\n"
     ]
    }
   ],
   "source": [
    "interest1 = ['삼성전자', 'LG전자','Naver','SK하이닉스','미래에셋대우']\n",
    "\n",
    "print(' '.join(interest1))"
   ]
  },
  {
   "cell_type": "code",
   "execution_count": 255,
   "id": "45aa2f8f",
   "metadata": {},
   "outputs": [
    {
     "name": "stdout",
     "output_type": "stream",
     "text": [
      "a b c <class 'str'>\n"
     ]
    }
   ],
   "source": [
    "x = ['a','b','c']\n",
    "\n",
    "y = ' '.join(x)\n",
    "\n",
    "print(y,type(y))"
   ]
  },
  {
   "cell_type": "code",
   "execution_count": 256,
   "id": "46ec845b",
   "metadata": {},
   "outputs": [
    {
     "name": "stdout",
     "output_type": "stream",
     "text": [
      "삼성전자/LG전자/Naver/SK하이닉스/미래에셋대우\n"
     ]
    }
   ],
   "source": [
    "print('/'.join(interest1))"
   ]
  },
  {
   "cell_type": "code",
   "execution_count": 257,
   "id": "b6029d8c",
   "metadata": {},
   "outputs": [
    {
     "name": "stdout",
     "output_type": "stream",
     "text": [
      "삼성전자\n",
      "LG전자\n",
      "Naver\n",
      "SK하이닉스\n",
      "미래에셋대우\n"
     ]
    }
   ],
   "source": [
    "print('\\n'.join(interest1))"
   ]
  },
  {
   "cell_type": "markdown",
   "id": "d00252a7",
   "metadata": {},
   "source": [
    "69."
   ]
  },
  {
   "cell_type": "code",
   "execution_count": 258,
   "id": "97a40e14",
   "metadata": {},
   "outputs": [
    {
     "name": "stdout",
     "output_type": "stream",
     "text": [
      "['삼성전자', 'LG전자', 'Naver']\n"
     ]
    }
   ],
   "source": [
    "string = '삼성전자/LG전자/Naver'\n",
    "\n",
    "interest2 = string.split('/')\n",
    "\n",
    "print(interest2)"
   ]
  },
  {
   "cell_type": "markdown",
   "id": "fd055bd5",
   "metadata": {},
   "source": [
    "70."
   ]
  },
  {
   "cell_type": "code",
   "execution_count": 266,
   "id": "64ce86fb",
   "metadata": {},
   "outputs": [
    {
     "name": "stdout",
     "output_type": "stream",
     "text": [
      "[1, 2, 3, 4, 5, 9, 10]\n"
     ]
    }
   ],
   "source": [
    "data = [2, 4, 3, 1, 5, 10, 9]   # list.sort() - 원본 데이터를 오름차순으로 정렬\n",
    "\n",
    "data.sort()\n",
    "\n",
    "print(data)"
   ]
  },
  {
   "cell_type": "code",
   "execution_count": 268,
   "id": "0d14d9cc",
   "metadata": {},
   "outputs": [
    {
     "name": "stdout",
     "output_type": "stream",
     "text": [
      "[1, 2, 3, 4, 5, 9, 10]\n"
     ]
    }
   ],
   "source": [
    "data2 = sorted(data)   # list.sorted() - 오름차순으로 정렬된 새로운 리스트를 반환\n",
    "\n",
    "print(data2)"
   ]
  },
  {
   "cell_type": "markdown",
   "id": "9518bb56",
   "metadata": {},
   "source": [
    "# 71 ~ 80 파이썬 튜플"
   ]
  },
  {
   "cell_type": "markdown",
   "id": "176a4789",
   "metadata": {},
   "source": [
    "71."
   ]
  },
  {
   "cell_type": "code",
   "execution_count": 269,
   "id": "ee9df75d",
   "metadata": {},
   "outputs": [],
   "source": [
    "my_variable = ()"
   ]
  },
  {
   "cell_type": "code",
   "execution_count": 272,
   "id": "af8aa761",
   "metadata": {},
   "outputs": [
    {
     "name": "stdout",
     "output_type": "stream",
     "text": [
      "<class 'tuple'>\n"
     ]
    }
   ],
   "source": [
    "print(type(my_variable))"
   ]
  },
  {
   "cell_type": "markdown",
   "id": "43894adf",
   "metadata": {},
   "source": [
    "72."
   ]
  },
  {
   "cell_type": "code",
   "execution_count": 273,
   "id": "d3cf2060",
   "metadata": {},
   "outputs": [],
   "source": [
    "movie_rank = ('닥터 스트레인지','스플릿','럭키')"
   ]
  },
  {
   "cell_type": "markdown",
   "id": "b09bab8b",
   "metadata": {},
   "source": [
    "73."
   ]
  },
  {
   "cell_type": "code",
   "execution_count": 274,
   "id": "1497440b",
   "metadata": {},
   "outputs": [],
   "source": [
    "test_tuple = (1)"
   ]
  },
  {
   "cell_type": "code",
   "execution_count": 277,
   "id": "5b6a06cc",
   "metadata": {},
   "outputs": [
    {
     "name": "stdout",
     "output_type": "stream",
     "text": [
      "1 <class 'int'>\n"
     ]
    }
   ],
   "source": [
    "print(test_tuple,type(test_tuple))   # 튜플 안에 하나의 정수값을 입력하면 파이썬 인터프리터가 int로 인식한다!"
   ]
  },
  {
   "cell_type": "code",
   "execution_count": 278,
   "id": "354148a1",
   "metadata": {},
   "outputs": [],
   "source": [
    "test_tuple = (1,)"
   ]
  },
  {
   "cell_type": "code",
   "execution_count": 280,
   "id": "457496f7",
   "metadata": {},
   "outputs": [
    {
     "name": "stdout",
     "output_type": "stream",
     "text": [
      "(1,) <class 'tuple'>\n"
     ]
    }
   ],
   "source": [
    "print(test_tuple,type(test_tuple))  # 하나의 데이터가 저장되는 경우, 쉽표를 입력해줘야 한다 !!"
   ]
  },
  {
   "cell_type": "code",
   "execution_count": 282,
   "id": "b10ddb69",
   "metadata": {},
   "outputs": [
    {
     "name": "stdout",
     "output_type": "stream",
     "text": [
      "가 <class 'str'>\n",
      "('가',) <class 'tuple'>\n"
     ]
    }
   ],
   "source": [
    "x = ('가')              # 문자열도 마찬가지이다.\n",
    "print(x,type(x))\n",
    "\n",
    "y = ('가',)\n",
    "print(y,type(y))"
   ]
  },
  {
   "cell_type": "markdown",
   "id": "28e39532",
   "metadata": {},
   "source": [
    "74."
   ]
  },
  {
   "cell_type": "code",
   "execution_count": 284,
   "id": "205b91ae",
   "metadata": {},
   "outputs": [
    {
     "ename": "TypeError",
     "evalue": "'tuple' object does not support item assignment",
     "output_type": "error",
     "traceback": [
      "\u001b[0;31m---------------------------------------------------------------------------\u001b[0m",
      "\u001b[0;31mTypeError\u001b[0m                                 Traceback (most recent call last)",
      "Cell \u001b[0;32mIn[284], line 2\u001b[0m\n\u001b[1;32m      1\u001b[0m t \u001b[38;5;241m=\u001b[39m (\u001b[38;5;241m1\u001b[39m,\u001b[38;5;241m2\u001b[39m,\u001b[38;5;241m3\u001b[39m)   \u001b[38;5;66;03m# 튜플은 순서는 있지만 원소 수정이 불가능한 자료구조이다.\u001b[39;00m\n\u001b[0;32m----> 2\u001b[0m t[\u001b[38;5;241m0\u001b[39m] \u001b[38;5;241m=\u001b[39m \u001b[38;5;124m'\u001b[39m\u001b[38;5;124ma\u001b[39m\u001b[38;5;124m'\u001b[39m\n",
      "\u001b[0;31mTypeError\u001b[0m: 'tuple' object does not support item assignment"
     ]
    }
   ],
   "source": [
    "t = (1,2,3)   # 튜플은 순서는 있지만 원소 수정이 불가능한 자료구조이다.\n",
    "t[0] = 'a'"
   ]
  },
  {
   "cell_type": "markdown",
   "id": "b14c4396",
   "metadata": {},
   "source": [
    "75."
   ]
  },
  {
   "cell_type": "code",
   "execution_count": 286,
   "id": "905d2f0f",
   "metadata": {},
   "outputs": [
    {
     "name": "stdout",
     "output_type": "stream",
     "text": [
      "(1, 2, 3, 4) <class 'tuple'>\n"
     ]
    }
   ],
   "source": [
    "t = 1, 2, 3, 4    # 사용자의 편의를 위해 튜플은 괄호 없이도 동작한다\n",
    "\n",
    "print(t,type(t))"
   ]
  },
  {
   "cell_type": "markdown",
   "id": "ddf50a10",
   "metadata": {},
   "source": [
    "76."
   ]
  },
  {
   "cell_type": "code",
   "execution_count": 288,
   "id": "f42e02e0",
   "metadata": {},
   "outputs": [
    {
     "name": "stdout",
     "output_type": "stream",
     "text": [
      "('A', 'b', 'c')\n"
     ]
    }
   ],
   "source": [
    "# 튜플 원소 변경\n",
    "\n",
    "t = ('a','b','c')\n",
    "\n",
    "t = ('A','b','c')   # 새로운 튜플을 만들어서 변수 t를 업데이트 해줘야한다. 이때 기존의 튜플은 자동으로 삭제된다. \n",
    "\n",
    "print(t)"
   ]
  },
  {
   "cell_type": "markdown",
   "id": "0469ba60",
   "metadata": {},
   "source": [
    "77."
   ]
  },
  {
   "cell_type": "code",
   "execution_count": 302,
   "id": "3cfa0edc",
   "metadata": {},
   "outputs": [
    {
     "data": {
      "text/plain": [
       "tuple"
      ]
     },
     "execution_count": 302,
     "metadata": {},
     "output_type": "execute_result"
    }
   ],
   "source": [
    "interest = ('삼성전자','LG전자','SK Hynix')\n",
    "\n",
    "type(interest)"
   ]
  },
  {
   "cell_type": "code",
   "execution_count": 290,
   "id": "011cdb50",
   "metadata": {},
   "outputs": [
    {
     "name": "stdout",
     "output_type": "stream",
     "text": [
      "('삼성전자', 'LG전자', 'SK Hynix') <class 'tuple'>\n"
     ]
    }
   ],
   "source": [
    "list(interest)     # 리스트로 형변환된 interest를 참조해주는 변수가 없음..\n",
    "\n",
    "print(interest,type(interest))"
   ]
  },
  {
   "cell_type": "code",
   "execution_count": 292,
   "id": "5054c317",
   "metadata": {},
   "outputs": [
    {
     "name": "stdout",
     "output_type": "stream",
     "text": [
      "['삼성전자', 'LG전자', 'SK Hynix'] <class 'list'>\n"
     ]
    }
   ],
   "source": [
    "x = list(interest)\n",
    "\n",
    "print(x,type(x))"
   ]
  },
  {
   "cell_type": "markdown",
   "id": "f8e1d683",
   "metadata": {},
   "source": [
    "78."
   ]
  },
  {
   "cell_type": "code",
   "execution_count": 293,
   "id": "4a502fb9",
   "metadata": {},
   "outputs": [
    {
     "name": "stdout",
     "output_type": "stream",
     "text": [
      "('삼성전자', 'LG전자', 'SK Hynix') <class 'tuple'>\n"
     ]
    }
   ],
   "source": [
    "interest1 = ['삼성전자','LG전자','SK Hynix']\n",
    "\n",
    "y = tuple(interest1)\n",
    "\n",
    "print(y,type(y))"
   ]
  },
  {
   "cell_type": "markdown",
   "id": "7f6519d2",
   "metadata": {},
   "source": [
    "# 79. 튜플 언패킹 ????? 언패킹이 뭐야"
   ]
  },
  {
   "cell_type": "code",
   "execution_count": 295,
   "id": "f1b415d0",
   "metadata": {},
   "outputs": [
    {
     "name": "stdout",
     "output_type": "stream",
     "text": [
      "apple banana cake\n"
     ]
    }
   ],
   "source": [
    "temp = ('apple','banana','cake')\n",
    "\n",
    "a,b,c, = temp\n",
    "\n",
    "print(a,b,c)"
   ]
  },
  {
   "cell_type": "markdown",
   "id": "63845825",
   "metadata": {},
   "source": [
    "# 80. range()로 튜플 생성  --> 해설강의 보기!"
   ]
  },
  {
   "cell_type": "code",
   "execution_count": 300,
   "id": "3f72c920",
   "metadata": {},
   "outputs": [
    {
     "name": "stdout",
     "output_type": "stream",
     "text": [
      "(2, 4, 6, 8, 10, 12, 14, 16, 18, 20, 22, 24, 26, 28, 30, 32, 34, 36, 38, 40, 42, 44, 46, 48, 50, 52, 54, 56, 58, 60, 62, 64, 66, 68, 70, 72, 74, 76, 78, 80, 82, 84, 86, 88, 90, 92, 94, 96, 98)\n"
     ]
    }
   ],
   "source": [
    "# 1 ~ 99까지의 정수 중 짝수만 저장된 튜플을 생성하세요\n",
    "\n",
    "data = tuple(range(2, 100, 2))   # 생성한 튜플을 변수로 참조해 줘야함! / 왜 100까지지 ?????\n",
    "\n",
    "\n",
    "print(data)"
   ]
  },
  {
   "cell_type": "markdown",
   "id": "6379430a",
   "metadata": {},
   "source": [
    "# 81 ~ 90 파이썬 딕셔너리"
   ]
  },
  {
   "cell_type": "markdown",
   "id": "707fb564",
   "metadata": {},
   "source": [
    "# 81. 데이터 언패킹 고급 --> 해설강의 보기 !! (81,82,83)"
   ]
  },
  {
   "cell_type": "code",
   "execution_count": 303,
   "id": "cdd4ea0a",
   "metadata": {},
   "outputs": [
    {
     "name": "stdout",
     "output_type": "stream",
     "text": [
      "아이패드\n"
     ]
    }
   ],
   "source": [
    "# 데이터 언패킹\n",
    "\n",
    "shopping_list = ['스킨로션','봄운동화','생크림(휘핑크림X)','아이패드']\n",
    "\n",
    "쿠팡,네이버쇼핑,이마트,애플스토어 = shopping_list\n",
    "\n",
    "print(애플스토어)"
   ]
  },
  {
   "cell_type": "code",
   "execution_count": 304,
   "id": "cbd2c1c6",
   "metadata": {},
   "outputs": [],
   "source": [
    "# 기본적으로 데이터 언패킹은 좌변의 변수와 우변 데이터 개수가 같아야함. \n",
    "\n",
    "# 하지만 별(*)을 사용하면 변수의 개수가 달라도 데이터 언패킹이 가능."
   ]
  },
  {
   "cell_type": "code",
   "execution_count": 307,
   "id": "7e71c088",
   "metadata": {},
   "outputs": [
    {
     "name": "stdout",
     "output_type": "stream",
     "text": [
      "오송경 <class 'str'>\n",
      "['이성진', '한정윤', '강태우'] <class 'list'>\n"
     ]
    }
   ],
   "source": [
    "people_around_me = ('오송경','김화영,안정환','정선아','이성진','한정윤','강태우')\n",
    "\n",
    "남친,가족,친구,*직장동료 = people_around_me   # 앞에서 3개만 개별 변수로 바인딩 하고 나머지는 떼로 묶어서 바인딩\n",
    "\n",
    "print(남친,type(남친))\n",
    "print(직장동료,type(직장동료))"
   ]
  },
  {
   "cell_type": "code",
   "execution_count": 310,
   "id": "0ef69f5d",
   "metadata": {},
   "outputs": [
    {
     "name": "stdout",
     "output_type": "stream",
     "text": [
      "[8.8, 8.9, 8.7, 9.2, 9.3, 9.7, 9.9, 9.5]\n"
     ]
    }
   ],
   "source": [
    "scores = [8.8,8.9,8.7,9.2,9.3,9.7,9.9,9.5,7.8,9.4]\n",
    "\n",
    "*valid_score, _, _ = scores   # 앞 8개만 valid_score로 바인딩하고, 나머지는 두개는 '_'처리, 바인딩 안함\n",
    "\n",
    "print(valid_score)"
   ]
  },
  {
   "cell_type": "markdown",
   "id": "2d8d14d8",
   "metadata": {},
   "source": [
    "82. "
   ]
  },
  {
   "cell_type": "code",
   "execution_count": 312,
   "id": "329795c5",
   "metadata": {},
   "outputs": [
    {
     "name": "stdout",
     "output_type": "stream",
     "text": [
      "[8.7, 9.2, 9.3, 9.7, 9.9, 9.5, 7.8, 9.4]\n"
     ]
    }
   ],
   "source": [
    "scores = [8.8,8.9,8.7,9.2,9.3,9.7,9.9,9.5,7.8,9.4]\n",
    "\n",
    "a,b,*valid_score = scores\n",
    "\n",
    "print(valid_score)"
   ]
  },
  {
   "cell_type": "markdown",
   "id": "e5a7f684",
   "metadata": {},
   "source": [
    "83."
   ]
  },
  {
   "cell_type": "code",
   "execution_count": 314,
   "id": "339c8c88",
   "metadata": {},
   "outputs": [
    {
     "name": "stdout",
     "output_type": "stream",
     "text": [
      "[8.9, 8.7, 9.2, 9.3, 9.7, 9.9, 9.5, 7.8]\n"
     ]
    }
   ],
   "source": [
    "scores = [8.8,8.9,8.7,9.2,9.3,9.7,9.9,9.5,7.8,9.4]\n",
    "\n",
    "a,*valid_scores,b = scores\n",
    "\n",
    "print(valid_scores)"
   ]
  },
  {
   "cell_type": "markdown",
   "id": "2f06bfd5",
   "metadata": {},
   "source": [
    "84."
   ]
  },
  {
   "cell_type": "code",
   "execution_count": 315,
   "id": "86a5790f",
   "metadata": {},
   "outputs": [
    {
     "name": "stdout",
     "output_type": "stream",
     "text": [
      "{} <class 'dict'>\n"
     ]
    }
   ],
   "source": [
    "temp = {}\n",
    "\n",
    "print(temp,type(temp))"
   ]
  },
  {
   "cell_type": "markdown",
   "id": "0d251210",
   "metadata": {},
   "source": [
    "85."
   ]
  },
  {
   "cell_type": "code",
   "execution_count": 317,
   "id": "acedec80",
   "metadata": {},
   "outputs": [
    {
     "name": "stdout",
     "output_type": "stream",
     "text": [
      "{'메로나': 1000, '폴라포': 1200, '빵빠레': 1800}\n"
     ]
    }
   ],
   "source": [
    "ice_cream = {\n",
    "    '메로나':1000,\n",
    "    '폴라포':1200,\n",
    "    '빵빠레':1800\n",
    "}\n",
    "\n",
    "print(ice_cream)"
   ]
  },
  {
   "cell_type": "markdown",
   "id": "040bbbd6",
   "metadata": {},
   "source": [
    "# 86. 딕셔너리 값 추가\n",
    "\n",
    "딕셔너리 변수에 키와 값을 추가해준다."
   ]
  },
  {
   "cell_type": "code",
   "execution_count": 320,
   "id": "536fff1e",
   "metadata": {},
   "outputs": [
    {
     "name": "stdout",
     "output_type": "stream",
     "text": [
      "{'메로나': 1000, '폴라포': 1200, '빵빠레': 1800, '죠스바': 1200, '월드콘': 1500}\n"
     ]
    }
   ],
   "source": [
    "ice_cream['죠스바'] = 1200   # 딕셔녀리[키] = 값     의 형태로 추가해준다.\n",
    "\n",
    "ice_cream['월드콘'] = 1500\n",
    "\n",
    "print(ice_cream)"
   ]
  },
  {
   "cell_type": "markdown",
   "id": "0e9fdda5",
   "metadata": {},
   "source": [
    "87."
   ]
  },
  {
   "cell_type": "code",
   "execution_count": 322,
   "id": "47d48b9b",
   "metadata": {},
   "outputs": [
    {
     "name": "stdout",
     "output_type": "stream",
     "text": [
      "메로나 가격:  1000\n"
     ]
    }
   ],
   "source": [
    "print('메로나 가격: ',ice_cream['메로나'])   # 딕셔너리에서 value는 key로 인덱싱해서 보여준다 !"
   ]
  },
  {
   "cell_type": "markdown",
   "id": "36b614c1",
   "metadata": {},
   "source": [
    "88."
   ]
  },
  {
   "cell_type": "code",
   "execution_count": 323,
   "id": "9e11c5cc",
   "metadata": {},
   "outputs": [
    {
     "name": "stdout",
     "output_type": "stream",
     "text": [
      "{'메로나': 1300, '폴라포': 1200, '빵빠레': 1800, '죠스바': 1200, '월드콘': 1500}\n"
     ]
    }
   ],
   "source": [
    "ice_cream['메로나'] = 1300\n",
    "\n",
    "print(ice_cream)"
   ]
  },
  {
   "cell_type": "markdown",
   "id": "f48f00f7",
   "metadata": {},
   "source": [
    "# 89. 딕셔너리 키 삭제 - pop() / del"
   ]
  },
  {
   "cell_type": "code",
   "execution_count": 329,
   "id": "e4c35927",
   "metadata": {},
   "outputs": [
    {
     "name": "stdout",
     "output_type": "stream",
     "text": [
      "{'폴라포': 1200, '빵빠레': 1800, '죠스바': 1200, '월드콘': 1500}\n"
     ]
    }
   ],
   "source": [
    "ice_cream.pop('메로나',None)\n",
    "print(ice_cream)"
   ]
  },
  {
   "cell_type": "code",
   "execution_count": 330,
   "id": "701da1ed",
   "metadata": {},
   "outputs": [
    {
     "name": "stdout",
     "output_type": "stream",
     "text": [
      "{'폴라포': 1200, '빵빠레': 1800, '죠스바': 1200, '월드콘': 1500}\n"
     ]
    }
   ],
   "source": [
    "ice = {'메로나': 1300, '폴라포': 1200, '빵빠레': 1800, '죠스바': 1200, '월드콘': 1500}\n",
    "\n",
    "del ice['메로나']\n",
    "\n",
    "print(ice)"
   ]
  },
  {
   "cell_type": "markdown",
   "id": "dcf65739",
   "metadata": {},
   "source": [
    "90."
   ]
  },
  {
   "cell_type": "code",
   "execution_count": 333,
   "id": "1f9a6a9e",
   "metadata": {},
   "outputs": [
    {
     "name": "stdout",
     "output_type": "stream",
     "text": [
      "{'폴라포': 1200, '빵빠레': 1800, '죠스바': 1200, '월드콘': 1500}\n"
     ]
    },
    {
     "ename": "KeyError",
     "evalue": "'누가바'",
     "output_type": "error",
     "traceback": [
      "\u001b[0;31m---------------------------------------------------------------------------\u001b[0m",
      "\u001b[0;31mKeyError\u001b[0m                                  Traceback (most recent call last)",
      "Cell \u001b[0;32mIn[333], line 3\u001b[0m\n\u001b[1;32m      1\u001b[0m \u001b[38;5;28mprint\u001b[39m(ice_cream)\n\u001b[0;32m----> 3\u001b[0m ice_cream[\u001b[38;5;124m'\u001b[39m\u001b[38;5;124m누가바\u001b[39m\u001b[38;5;124m'\u001b[39m]\n",
      "\u001b[0;31mKeyError\u001b[0m: '누가바'"
     ]
    }
   ],
   "source": [
    "print(ice_cream)\n",
    "\n",
    "ice_cream['누가바']   # 딕셔너리에 없는 키를 사용해서 인덱싱하면 에러 발생"
   ]
  },
  {
   "cell_type": "markdown",
   "id": "63a35f3c",
   "metadata": {},
   "source": [
    "# 91 ~ 100"
   ]
  },
  {
   "cell_type": "markdown",
   "id": "6471565d",
   "metadata": {},
   "source": [
    "91."
   ]
  },
  {
   "cell_type": "code",
   "execution_count": 335,
   "id": "a679ad70",
   "metadata": {},
   "outputs": [
    {
     "name": "stdout",
     "output_type": "stream",
     "text": [
      "{'메로나': [300, 20], '비비빅': [400, 3], '죠스바': [250, 100]}\n"
     ]
    }
   ],
   "source": [
    "inventory = {\n",
    "    '메로나':[300,20],\n",
    "    '비비빅':[400,3],\n",
    "    '죠스바':[250,100]\n",
    "}\n",
    "\n",
    "print(inventory)"
   ]
  },
  {
   "cell_type": "markdown",
   "id": "95d65183",
   "metadata": {},
   "source": [
    "92."
   ]
  },
  {
   "cell_type": "code",
   "execution_count": 340,
   "id": "97f8d279",
   "metadata": {},
   "outputs": [
    {
     "name": "stdout",
     "output_type": "stream",
     "text": [
      "300 원\n"
     ]
    }
   ],
   "source": [
    "print(inventory['메로나'][0],'원')   # dict 인덱싱 : dict[키][값이 자료구조형태일 경우 값의 인덱싱 번호]"
   ]
  },
  {
   "cell_type": "markdown",
   "id": "d71f0d61",
   "metadata": {},
   "source": [
    "93."
   ]
  },
  {
   "cell_type": "code",
   "execution_count": 341,
   "id": "037061a6",
   "metadata": {},
   "outputs": [
    {
     "name": "stdout",
     "output_type": "stream",
     "text": [
      "20 개\n"
     ]
    }
   ],
   "source": [
    "print(inventory['메로나'][1],'개')"
   ]
  },
  {
   "cell_type": "markdown",
   "id": "1d04cc6a",
   "metadata": {},
   "source": [
    "94."
   ]
  },
  {
   "cell_type": "code",
   "execution_count": 347,
   "id": "e2e55917",
   "metadata": {},
   "outputs": [
    {
     "name": "stdout",
     "output_type": "stream",
     "text": [
      "{'메로나': [300, 20], '비비빅': [400, 3], '죠스바': [250, 100], '월드콘': [500, 7]}\n"
     ]
    }
   ],
   "source": [
    "inventory['월드콘'] = [500,7]\n",
    "\n",
    "print(inventory)"
   ]
  },
  {
   "cell_type": "markdown",
   "id": "2567fb84",
   "metadata": {},
   "source": [
    "# 95. list() - 리스트 생성"
   ]
  },
  {
   "cell_type": "code",
   "execution_count": 348,
   "id": "d0289500",
   "metadata": {},
   "outputs": [],
   "source": [
    "icecream = {\n",
    "    '탱크보이':1200,\n",
    "    '폴라포':1200,\n",
    "    '빵빠레':1800,\n",
    "    '월드콘':1500,\n",
    "    '메로나':1000\n",
    "}"
   ]
  },
  {
   "cell_type": "code",
   "execution_count": 352,
   "id": "a1af80d4",
   "metadata": {},
   "outputs": [
    {
     "name": "stdout",
     "output_type": "stream",
     "text": [
      "['탱크보이', '폴라포', '빵빠레', '월드콘', '메로나']\n"
     ]
    }
   ],
   "source": [
    "icecream_keys = list(icecream.keys())\n",
    "print(icecream_keys)"
   ]
  },
  {
   "cell_type": "markdown",
   "id": "cfb530eb",
   "metadata": {},
   "source": [
    "96."
   ]
  },
  {
   "cell_type": "code",
   "execution_count": 354,
   "id": "a698102e",
   "metadata": {},
   "outputs": [
    {
     "name": "stdout",
     "output_type": "stream",
     "text": [
      "[1200, 1200, 1800, 1500, 1000]\n"
     ]
    }
   ],
   "source": [
    "icecream_values = list(icecream.values())\n",
    "\n",
    "print(icecream_values)"
   ]
  },
  {
   "cell_type": "markdown",
   "id": "e82800b9",
   "metadata": {},
   "source": [
    "97."
   ]
  },
  {
   "cell_type": "code",
   "execution_count": 355,
   "id": "04f7573d",
   "metadata": {},
   "outputs": [
    {
     "data": {
      "text/plain": [
       "6700"
      ]
     },
     "execution_count": 355,
     "metadata": {},
     "output_type": "execute_result"
    }
   ],
   "source": [
    "sum(icecream_values)"
   ]
  },
  {
   "cell_type": "code",
   "execution_count": 356,
   "id": "76a44312",
   "metadata": {},
   "outputs": [
    {
     "data": {
      "text/plain": [
       "6700"
      ]
     },
     "execution_count": 356,
     "metadata": {},
     "output_type": "execute_result"
    }
   ],
   "source": [
    "sum(icecream.values())"
   ]
  },
  {
   "cell_type": "markdown",
   "id": "6da6cfc0",
   "metadata": {},
   "source": [
    "# 98. 딕셔너리에 값 추가 - update()"
   ]
  },
  {
   "cell_type": "code",
   "execution_count": 358,
   "id": "83f66520",
   "metadata": {},
   "outputs": [
    {
     "name": "stdout",
     "output_type": "stream",
     "text": [
      "{'탱크보이': 1200, '폴라포': 1200, '빵빠레': 1800, '월드콘': 1500, '메로나': 1000, '팥빙수': 2700, '아맛나': 1000}\n"
     ]
    }
   ],
   "source": [
    "new_product = {'팥빙수':2700,'아맛나':1000}\n",
    "\n",
    "icecream.update(new_product)\n",
    "\n",
    "print(icecream)"
   ]
  },
  {
   "cell_type": "markdown",
   "id": "287a68dd",
   "metadata": {},
   "source": [
    "# 99. zip() - 두 자료그룹의 데이터를 엮어준다 - 해설강의 듣기!!!!"
   ]
  },
  {
   "cell_type": "code",
   "execution_count": 359,
   "id": "7aa7b9d8",
   "metadata": {},
   "outputs": [],
   "source": [
    "keys = ('apple','pear','peach')\n",
    "vals = (300,250,400)"
   ]
  },
  {
   "cell_type": "code",
   "execution_count": 368,
   "id": "25ebb83c",
   "metadata": {},
   "outputs": [
    {
     "name": "stdout",
     "output_type": "stream",
     "text": [
      "{'apple': 300, 'pear': 250, 'peach': 400}\n"
     ]
    }
   ],
   "source": [
    "result = dict(zip(keys,vals))\n",
    "print(result)"
   ]
  },
  {
   "cell_type": "markdown",
   "id": "d352dd3b",
   "metadata": {},
   "source": [
    "# 100. zip() - 해설 듣기!!!"
   ]
  },
  {
   "cell_type": "code",
   "execution_count": 370,
   "id": "92aa51a4",
   "metadata": {},
   "outputs": [
    {
     "name": "stdout",
     "output_type": "stream",
     "text": [
      "{'09/05': 10500, '09/06': 10300, '09/07': 10100, '09/08': 10800, '09/09': 11000}\n"
     ]
    }
   ],
   "source": [
    "date = ['09/05','09/06','09/07','09/08','09/09']\n",
    "close_price = [10500,10300,10100,10800,11000]\n",
    "\n",
    "close_table = dict(zip(date,close_price))\n",
    "print(close_table)"
   ]
  },
  {
   "cell_type": "code",
   "execution_count": 371,
   "id": "5e955aae",
   "metadata": {},
   "outputs": [
    {
     "data": {
      "text/plain": [
       "100"
      ]
     },
     "execution_count": 371,
     "metadata": {},
     "output_type": "execute_result"
    }
   ],
   "source": [
    "'해설강의 듣기'\n",
    "\n",
    "23\n",
    "26\n",
    "28\n",
    "\n",
    "30\n",
    "35\n",
    "36\n",
    "37\n",
    "\n",
    "40\n",
    "\n",
    "53\n",
    "54\n",
    "56\n",
    "\n",
    "66\n",
    "\n",
    "79\n",
    "80\n",
    "\n",
    "81,82,83\n",
    "89\n",
    "\n",
    "98\n",
    "99\n",
    "100"
   ]
  },
  {
   "cell_type": "code",
   "execution_count": null,
   "id": "19133b92",
   "metadata": {},
   "outputs": [],
   "source": []
  }
 ],
 "metadata": {
  "kernelspec": {
   "display_name": "Python 3 (ipykernel)",
   "language": "python",
   "name": "python3"
  },
  "language_info": {
   "codemirror_mode": {
    "name": "ipython",
    "version": 3
   },
   "file_extension": ".py",
   "mimetype": "text/x-python",
   "name": "python",
   "nbconvert_exporter": "python",
   "pygments_lexer": "ipython3",
   "version": "3.11.7"
  }
 },
 "nbformat": 4,
 "nbformat_minor": 5
}
